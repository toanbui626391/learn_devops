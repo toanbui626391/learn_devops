{
 "cells": [
  {
   "cell_type": "markdown",
   "metadata": {},
   "source": [
    "# ElasticSearch dockerfile\n",
    "- reference link: https://github.com/elastic/dockerfiles/blob/8.8/elasticsearch/Dockerfile"
   ]
  },
  {
   "cell_type": "markdown",
   "metadata": {},
   "source": [
    "### list of instruction\n",
    "- from\n",
    "- run\n",
    "- workdir\n",
    "- copy\n",
    "- env\n",
    "- expose\n",
    "- label\n",
    "- entrypoint\n",
    "- cmd\n",
    "- user"
   ]
  }
 ],
 "metadata": {
  "language_info": {
   "name": "python"
  },
  "orig_nbformat": 4
 },
 "nbformat": 4,
 "nbformat_minor": 2
}
