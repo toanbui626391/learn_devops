{
 "cells": [
  {
   "cell_type": "markdown",
   "metadata": {},
   "source": [
    "# Dockerfile of postgres setup job\n",
    "- reference link: https://github.com/datahub-project/datahub/blob/master/docker/postgres-setup/Dockerfile"
   ]
  },
  {
   "cell_type": "markdown",
   "metadata": {},
   "source": [
    "### List of dockerfile instruction command used\n",
    "- from: specific base image\n",
    "- env: declare and set environment variable for container running time\n",
    "- workdir: set working directory \n",
    "- run\n",
    "- copy\n",
    "- cmd"
   ]
  },
  {
   "cell_type": "markdown",
   "metadata": {},
   "source": [
    "### List of command used in the dockerfile\n",
    "- apk add\n",
    "- go install\n",
    "- chown 755: change file permission (full, rw, rw)\n",
    "- dockerize: docker cli tools"
   ]
  },
  {
   "cell_type": "markdown",
   "metadata": {},
   "source": [
    "List of command used in init.sh\n",
    "- export: declare and assign variable at current shell\n",
    "- psql: mysql cli\n",
    "- pipe (|): get return result to next command\n",
    "- grep: to filter string\n",
    "- sed: to replace\n",
    "- get file content as input (<>)"
   ]
  }
 ],
 "metadata": {
  "language_info": {
   "name": "python"
  },
  "orig_nbformat": 4
 },
 "nbformat": 4,
 "nbformat_minor": 2
}
