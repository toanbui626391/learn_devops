{
 "cells": [
  {
   "cell_type": "markdown",
   "metadata": {},
   "source": [
    "# Kafka dockerfile\n",
    "- reference link: https://github.com/wurstmeister/kafka-docker/blob/master/Dockerfile"
   ]
  },
  {
   "cell_type": "markdown",
   "metadata": {},
   "source": [
    "### Dockerfile instruction\n",
    "- from: base image which image is build on\n",
    "- arg: environment variable for build time\n",
    "- label: add metadata to image\n",
    "- env: environment variable for container running time\n",
    "- run: command while building image\n",
    "- copy: copy from host file system to container file systemt\n",
    "- volume: create a mount point on container file system which can be mounted to host file system\n",
    "- cmd: default string script for container"
   ]
  },
  {
   "cell_type": "markdown",
   "metadata": {},
   "source": [
    "### Dockerfile bash script command\n",
    "- set: set config for running command\n",
    "- apt-get update: update local with remore packages repository\n",
    "- apt-get upgrade: upgrade old verion with new version from remote repository\n",
    "- apt-get install: install specific \n",
    "    - install packages like: curl, wget, net-tools, jq, netcat\n",
    "- chmod: change mode or permission of file (read, write, execute)\n",
    "- mv: move files or directory in the file system\n",
    "- tar: to extract compressed file\n",
    "- rm: remove file or directory from file system\n",
    "- ln: create symbolic link which point to ther file or directory\n"
   ]
  },
  {
   "cell_type": "markdown",
   "metadata": {},
   "source": [
    "### bashcript from support bash script file\n",
    "- docker ps | grep | awk\n",
    "    - docker ps to list running container process\n",
    "    - grep to do like filer\n",
    "    - awk to choose column\n",
    "- docker port | sed\n",
    "    - docker port to list port mapping between host:container\n",
    "    - sed to replace matching\n",
    "- eval: to run string (concat string) as a bash command"
   ]
  }
 ],
 "metadata": {
  "language_info": {
   "name": "python"
  },
  "orig_nbformat": 4
 },
 "nbformat": 4,
 "nbformat_minor": 2
}
