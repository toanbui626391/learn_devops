{
 "cells": [
  {
   "cell_type": "markdown",
   "metadata": {},
   "source": [
    "# Mysql-setup job\n",
    "- reference link: https://github.com/datahub-project/datahub/blob/master/docker/mysql-setup/Dockerfile"
   ]
  },
  {
   "cell_type": "markdown",
   "metadata": {},
   "source": [
    "### List of dockerfile instruction\n",
    "- from: base image\n",
    "- env: environment variable for container running\n",
    "- run: command run when building image\n",
    "- workdir: set working directory\n",
    "- copy: copy file from host system to container file system\n",
    "- cmd: default start script for container"
   ]
  },
  {
   "cell_type": "markdown",
   "metadata": {},
   "source": [
    "### List of command used in dockerfile\n",
    "- apk add: \n",
    "    - apk is packages management command tools for alpine linux distro\n",
    "    - apk add: install package\n",
    "- go install: to install go package. this is like pip install command with python\n",
    "- chmod 755: to config file permission\n",
    "    - 755 (full, read+write, read+write)\n",
    "- dockerize: is a cli tools for runnign containerize application"
   ]
  },
  {
   "cell_type": "markdown",
   "metadata": {},
   "source": [
    "### List of other command of related sh file\n",
    "- sed: for replace matched\n",
    "- tee: to write file\n",
    "- "
   ]
  }
 ],
 "metadata": {
  "language_info": {
   "name": "python"
  },
  "orig_nbformat": 4
 },
 "nbformat": 4,
 "nbformat_minor": 2
}
