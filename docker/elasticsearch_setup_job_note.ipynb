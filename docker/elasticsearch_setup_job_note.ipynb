{
 "cells": [
  {
   "cell_type": "markdown",
   "metadata": {},
   "source": [
    "# Elasticsearch setup job\n",
    "- reference link: https://github.com/datahub-project/datahub/blob/20b3adb7b1a96f2a0101a50bce127aa20fd9bb72/docker/elasticsearch-setup/Dockerfile#L24"
   ]
  },
  {
   "cell_type": "markdown",
   "metadata": {},
   "source": []
  },
  {
   "cell_type": "markdown",
   "metadata": {},
   "source": [
    "### List of instruction used\n",
    "- arg: declare variable which is used for build time. variable which is used while build image\n",
    "- from: base image\n",
    "- env: declare variable which is uded for run time. Variable which is used when run container\n",
    "- workdir: set working directory\n",
    "- run: command to run when build image\n",
    "- copy: copy files or directories from host to image\n",
    "- cmd: \n",
    "    - The main purpose of a CMD is to provide defaults for an executing container. like or start-up script for the container\n",
    "    - If CMD is used to provide default arguments for the ENTRYPOINT instruction, both the CMD and ENTRYPOINT instructions should be specified with the JSON array format. In this case entrypoint will specified startup script while cmd will supply default argument for that startup script\n"
   ]
  },
  {
   "cell_type": "markdown",
   "metadata": {},
   "source": [
    "### Logical operation in shell script\n",
    "- ||: or\n",
    "- &&: and\n",
    "- !: not"
   ]
  },
  {
   "cell_type": "markdown",
   "metadata": {},
   "source": [
    "### Logical operators in python\n",
    "- not: for not\n",
    "- and: for and\n",
    "- or: for or\n",
    "- note: python is just like english language"
   ]
  },
  {
   "cell_type": "markdown",
   "metadata": {},
   "source": [
    "https://askubuntu.com/questions/260504/how-to-solve-unmet-dependencies-when-installing-nvidia-drivers"
   ]
  }
 ],
 "metadata": {
  "language_info": {
   "name": "python"
  },
  "orig_nbformat": 4
 },
 "nbformat": 4,
 "nbformat_minor": 2
}
