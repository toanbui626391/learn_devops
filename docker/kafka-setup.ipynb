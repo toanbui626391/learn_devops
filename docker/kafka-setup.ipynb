{
 "cells": [
  {
   "cell_type": "markdown",
   "metadata": {},
   "source": [
    "# Kafka setup dockerfile\n",
    "- reference link: https://github.com/datahub-project/datahub/blob/20b3adb7b1a96f2a0101a50bce127aa20fd9bb72/docker/kafka-setup/Dockerfile#L67"
   ]
  },
  {
   "cell_type": "markdown",
   "metadata": {},
   "source": [
    "### List of instruction used\n",
    "- from: base image\n",
    "- arg: environement variable used at build time (used when build image)\n",
    "- run: run command when build image\n",
    "- env: environment varialbe used at run time (used when running container)\n",
    "- label: add lable or metadata to image\n",
    "    - in the example we want to add metadata name, and version for the image\n",
    "- copy: to copy file from host sytemt to container's file system\n",
    "- workdir: set working directory or where in the file system the command to reference to with \".\"\n",
    "- user: set use for run, cmd, entrypoint\n",
    "- add: used to get file into container file system with some additional feature\n",
    "    - get file from url\n",
    "    - download and extract file to destination directory\n",
    "    - example:\n",
    "        - ADD --chown=kafka:kafka https://github.com/aws/aws-msk-iam-auth/releases/download/v1.1.6/aws-msk-iam-auth-1.1.6-all.jar /usr/share/java/cp-base-new\n",
    "        - given the url, download tar file, extract tar file and change owner of that directory to kafka: kafka\n",
    "        "
   ]
  },
  {
   "cell_type": "markdown",
   "metadata": {},
   "source": [
    "### List of bash script command used\n",
    "- curl: make request\n",
    "- jq: parse json file\n",
    "- tar: extract compressed file\n",
    "- mv: move file or directory\n",
    "- adduser: add user with specific information\n",
    "- chown: change onwer of files or directory (uid, gid)\n",
    "- echo: print\n",
    "- rm: remove files or directory\n",
    "- apk add: install packages\n",
    "- apk del: remove package\n",
    "- curl: to make http request\n",
    "- pip install: to install python package\n",
    "- mktemp: create temp files or directory\n",
    "- mkfifo:\n",
    "- trap:\n",
    "- exec:\n",
    "- flock:\n",
    "- wait:\n",
    "- sleep:\n",
    "- read:"
   ]
  }
 ],
 "metadata": {
  "language_info": {
   "name": "python"
  },
  "orig_nbformat": 4
 },
 "nbformat": 4,
 "nbformat_minor": 2
}
