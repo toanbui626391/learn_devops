{
 "cells": [
  {
   "cell_type": "markdown",
   "metadata": {},
   "source": [
    "# Mysql\n",
    "- reference link: https://hub.docker.com/_/mysql\n",
    "- dockerfile reference link: https://github.com/docker-library/mysql/blob/master/8.0/Dockerfile.debian"
   ]
  },
  {
   "cell_type": "markdown",
   "metadata": {},
   "source": []
  },
  {
   "cell_type": "markdown",
   "metadata": {},
   "source": [
    "### Docker file reference\n",
    "- docker file reference link: https://docs.docker.com/engine/reference/builder/\n",
    "- Dockerfile is an instruction to build docker container image\n",
    "- syntax notes:\n",
    "    - must start with a FROM instruction\n",
    "    - '#' is a comment line\n",
    "    - \\ make new line but it will treat a in the same line for the interpretor \n"
   ]
  },
  {
   "cell_type": "markdown",
   "metadata": {},
   "source": [
    "### Environement replacement\n",
    "- define environment with ENV instruction\n",
    "- example:\n",
    "    - ENV FOO=/bar\n",
    "- refence to environment values\n",
    "    - ${variable_name}\n",
    "    - ${variable:-word}\n",
    "        - if varialbe is not empty use default word value\n",
    "    - ${variable:+word}\n",
    "        - fix valued of varialbe to value word. If variable not empty return value word otherwise return empty string"
   ]
  },
  {
   "cell_type": "markdown",
   "metadata": {},
   "source": [
    "### Docker file instructions:\n",
    "- ADD\n",
    "- COPY\n",
    "- ENV\n",
    "- EXPOSE\n",
    "- FROM\n",
    "- LABEL\n",
    "- STOPSIGNAL\n",
    "- USER\n",
    "- VOLUME\n",
    "- WORKDIR\n",
    "- ONBUILD (when combined with one of the supported instructions above)\n",
    "- for this part, we just need to know dockerfile has set of instruction like: FROM, RUN, COPY, VOLUME, WORKDIR, etcs."
   ]
  },
  {
   "cell_type": "markdown",
   "metadata": {},
   "source": [
    "### list of instruction use in mysql Dockerfile\n",
    "- Dockerfile reference link: https://github.com/docker-library/mysql/blob/master/8.0/Dockerfile.debian\n",
    "- list of instruction\n",
    "    - FROM: base image to build one\n",
    "    - RUN: to run command of the base image\n",
    "    - ENV: declare and assigned value to environment varialbe\n",
    "    - VOLUME: expose docker volume to host file system\n",
    "    - COPY: copy file or directory from src to container filesystem\n",
    "    - ENTRYPOINT: starting script when container start\n",
    "    - EXPOSE: expose container port to host\n",
    "    - CMD: \n",
    "        - reference link: https://docs.docker.com/engine/reference/builder/#cmd\n",
    "        - reference link to understand cmd and entrypoint: https://codewithyury.com/docker-run-vs-cmd-vs-entrypoint/\n",
    "        - without entrypoint instruction: cmd comment will be execute as startup or default command\n",
    "        - with entrypoint, cmd is supply position argument for entrypoint command\n",
    "            - entrypoint position variable argument value change by set or change from docker cli    "
   ]
  },
  {
   "cell_type": "markdown",
   "metadata": {},
   "source": [
    "### list if shell function which is used in mysql Dockerfile\n",
    "- groupadd: to create new group\n",
    "- useradd: to create new user\n",
    "- apt-get update: to update remote repository status\n",
    "- apt-get install: to install package which host at remote repository\n",
    "- rm: to remove files or directory\n",
    "- set: to set property fo shell script run\n",
    "- $(command): to run command and get return value\n",
    "- variable=$(command): to run and save return value to varialbe\n",
    "- wget to download content from the internet\n",
    "- gpg: used for encryption with publish and private key\n",
    "- apt-mark: to mark the package as manual or automatically install\n",
    "- chown: to change owner fo file or directory\n",
    "- chmod to change the mode of files or directories\n"
   ]
  },
  {
   "cell_type": "markdown",
   "metadata": {},
   "source": [
    "### Other notes\n",
    "- if [ \"${1:0:1}\" = '-' ]; then\n",
    "    - test for the first input value of command\n",
    "    - your command will be interpreter at a list with start index as 0\n",
    "    - example:\n",
    "        - sh command_position_arg.sh 10\n",
    "        - sh is to choose interpreter program. it can be bin/sh or bin/bash\n",
    "        - command_position_arg.sh at index 0\n",
    "        - 10 is position argument at index 1"
   ]
  }
 ],
 "metadata": {
  "language_info": {
   "name": "python"
  },
  "orig_nbformat": 4
 },
 "nbformat": 4,
 "nbformat_minor": 2
}
