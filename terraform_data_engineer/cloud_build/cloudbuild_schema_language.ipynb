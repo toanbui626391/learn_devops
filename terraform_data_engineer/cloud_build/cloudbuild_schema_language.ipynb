{
 "cells": [
  {
   "cell_type": "markdown",
   "metadata": {},
   "source": [
    "**Build configuration file schema**\n",
    "- discuss about the maning of keyword or chema of cloudbuild yaml file:\n",
    "- reference links: https://cloud.google.com/build/docs/build-config-file-schema#yaml\n",
    "- we can define cloudbuild with yaml for json format. we will use yaml format"
   ]
  },
  {
   "cell_type": "markdown",
   "metadata": {},
   "source": [
    "**steps**\n",
    "- use steps keywrod to start define a list of steps of your cloud process.\n",
    "- steps follow list syntax of yaml file. After steps keyword we define each step in your build\n",
    "- default, cloud build will build steps sequentially.\n",
    "- Each build step start with -. \n",
    "- \"-\" is a element in a list of yaml syntax"
   ]
  },
  {
   "cell_type": "markdown",
   "metadata": {},
   "source": [
    "**names**\n",
    "- a field which use to specified cloud builder (which tools or command tools for a build step). in the example we can specify docker, bazel, gcloud\n",
    "- specify cloud builder name is equal to specify which command line to use if we have to type command manually"
   ]
  },
  {
   "cell_type": "markdown",
   "metadata": {},
   "source": [
    "**args**\n",
    "- a field of build step which use to specify of arguments of the cloud builder\n",
    "- Example:\n",
    "    - name: 'gcr.io/cloud-builders/docker'\n",
    "    args: ['build', '-t', 'gcr.io/my-project-id/myimage', '.']\n",
    "    - above cloud build step equal to command: docker build -t 'gcr.io/my-project-id/myimage' ."
   ]
  },
  {
   "cell_type": "markdown",
   "metadata": {},
   "source": [
    "**env**\n",
    "- we use env field to define environment variable before build step. So that your still can make use of that environment variable when build"
   ]
  },
  {
   "cell_type": "markdown",
   "metadata": {},
   "source": [
    "**dir**\n",
    "- use dir to set working directory for build stpe"
   ]
  },
  {
   "cell_type": "markdown",
   "metadata": {},
   "source": [
    "**entrypoint**\n",
    "- use entrypoint to specified entrypoint of the builder. If not specify cloud build will use default entrypoint of the build\n",
    "- entrypoint of a program or cli tools is starting file or command to run the program"
   ]
  },
  {
   "cell_type": "markdown",
   "metadata": {},
   "source": [
    "**timeout**\n",
    "- set timeout or time limit for a build step\n"
   ]
  }
 ],
 "metadata": {
  "kernelspec": {
   "display_name": "Python 3 (ipykernel)",
   "language": "python",
   "name": "python3"
  },
  "language_info": {
   "codemirror_mode": {
    "name": "ipython",
    "version": 3
   },
   "file_extension": ".py",
   "mimetype": "text/x-python",
   "name": "python",
   "nbconvert_exporter": "python",
   "pygments_lexer": "ipython3",
   "version": "3.10.6"
  },
  "vscode": {
   "interpreter": {
    "hash": "215640d84fea2d6a1578a868d021d57d26fe3fa314db54416f0ba6d81a3e2987"
   }
  }
 },
 "nbformat": 4,
 "nbformat_minor": 4
}
