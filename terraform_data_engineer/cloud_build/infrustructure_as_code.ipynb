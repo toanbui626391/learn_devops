{
 "cells": [
  {
   "cell_type": "markdown",
   "metadata": {},
   "source": [
    "**Managing infrastructure as code with Terraform, Cloud Build, and GitOps**\n",
    "- reference link: https://cloud.google.com/architecture/managing-infrastructure-as-code"
   ]
  },
  {
   "cell_type": "markdown",
   "metadata": {},
   "source": [
    "**Architectures**\n",
    "- we have version control git github.\n",
    "    - we will have dev and prob branch and other branches.\n",
    "    - cloud build will listen to event of branch dev and pro to build and deploy resource in gcp\n",
    "    - other bracnh will trigger terraform plan command but do not apply to any environment\n",
    "- each environment is seperated by vpc (virtual private cloud) network\n",
    "- process to make use of this architectures:\n",
    "    - developers make change in non-proteced branch and submit them through pull request\n",
    "    - pull request: \n",
    "        - you have some change in one branch. You want to merge your branch to target branch\n",
    "        - the target branch is an important branch. therefore any change need to be discussed and proved to have change in that branch\n",
    "        - you make pull request. So that other member to discuss about the change and approved change and merge to the target branch\n",
    "    - approved change and merge to target branch.\n",
    "    - merge in dev branch will trigger deployment to dev environment.\n",
    "    - after satisfy with dev environment, we merge dev branch to prod branch to deploy product environment\n",
    "    "
   ]
  },
  {
   "cell_type": "markdown",
   "metadata": {},
   "source": [
    "**Objectives**\n",
    "- set up your github repository\n",
    "- configfure terraform to store stage in a cloud storage bucket\n",
    "- grant permission to your cloud build service account\n",
    "- connect your cloud build to your git hub repository\n",
    "- change your environment configuration in your feature branch\n",
    "- promote change to the dev environment\n",
    "- promote change to the prod environment\n"
   ]
  },
  {
   "cell_type": "code",
   "execution_count": null,
   "metadata": {},
   "outputs": [],
   "source": [
    "#get project id with command: gcloud config get-value project\n",
    "gcloud config get-value project\n",
    "#set project id with command: gcloud config set $variable_name\n",
    "gcloud config set project PROJECT_ID\n",
    "#enable service with command: gcloud services enable $servicename\n",
    "gcloud services enable cloudbuild.googleapis.com compute.googleapis.com\n",
    "#set global variable value for user.email and user.name\n",
    "git config --global user.email \"YOUR_EMAIL_ADDRESS\"\n",
    "git config --global user.name \"YOUR_NAME\""
   ]
  }
 ],
 "metadata": {
  "kernelspec": {
   "display_name": "Python 3 (ipykernel)",
   "language": "python",
   "name": "python3"
  },
  "language_info": {
   "codemirror_mode": {
    "name": "ipython",
    "version": 3
   },
   "file_extension": ".py",
   "mimetype": "text/x-python",
   "name": "python",
   "nbconvert_exporter": "python",
   "pygments_lexer": "ipython3",
   "version": "3.10.6"
  }
 },
 "nbformat": 4,
 "nbformat_minor": 4
}
