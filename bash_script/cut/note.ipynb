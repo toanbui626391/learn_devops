{
 "cells": [
  {
   "cell_type": "code",
   "execution_count": 2,
   "metadata": {},
   "outputs": [
    {
     "name": "stdout",
     "output_type": "stream",
     "text": [
      "Andhra Pradesh\n",
      "Arunachal Pradesh\n",
      "Assam\n",
      "Bihar\n",
      "Chhattisgarh"
     ]
    }
   ],
   "source": [
    "#cut command with c flat\n",
    "! cat state.txt"
   ]
  },
  {
   "cell_type": "code",
   "execution_count": 3,
   "metadata": {},
   "outputs": [
    {
     "name": "stdout",
     "output_type": "stream",
     "text": [
      "nr \n",
      "rah\n",
      "sm\n",
      "ir\n",
      "hti\n"
     ]
    }
   ],
   "source": [
    "#cut with c flag or --characters flag\n",
    "#character index start from 1\n",
    "!cut -c 2,5,7 state.txt"
   ]
  },
  {
   "cell_type": "code",
   "execution_count": 4,
   "metadata": {},
   "outputs": [
    {
     "name": "stdout",
     "output_type": "stream",
     "text": [
      "Andhra \n",
      "Arunach\n",
      "Assam\n",
      "Bihar\n",
      "Chhatti\n"
     ]
    }
   ],
   "source": [
    "#cut character from 1 to 7, include 7\n",
    "!cut -c 1-7 state.txt"
   ]
  },
  {
   "cell_type": "code",
   "execution_count": 5,
   "metadata": {},
   "outputs": [
    {
     "name": "stdout",
     "output_type": "stream",
     "text": [
      "Andhra Pradesh\n",
      "Arunachal Pradesh\n",
      "Assam\n",
      "Bihar\n",
      "Chhattisgarh\n"
     ]
    }
   ],
   "source": [
    "#cut from char 1 to end\n",
    "!cut -c 1- state.txt"
   ]
  },
  {
   "cell_type": "code",
   "execution_count": 6,
   "metadata": {},
   "outputs": [
    {
     "name": "stdout",
     "output_type": "stream",
     "text": [
      "Andhr\n",
      "Aruna\n",
      "Assam\n",
      "Bihar\n",
      "Chhat\n"
     ]
    }
   ],
   "source": [
    "#cut with chart from 1 to 5\n",
    "!cut -c -5 state.txt"
   ]
  },
  {
   "cell_type": "code",
   "execution_count": 7,
   "metadata": {},
   "outputs": [
    {
     "name": "stdout",
     "output_type": "stream",
     "text": [
      "Andhra\n",
      "Arunachal\n",
      "Assam\n",
      "Bihar\n",
      "Chhattisgarh\n"
     ]
    }
   ],
   "source": [
    "#cut with flag -d (delima) -f (field)\n",
    "#choose the first field of the string\n",
    "!cut -d \" \" -f 1 state.txt"
   ]
  }
 ],
 "metadata": {
  "kernelspec": {
   "display_name": "venv",
   "language": "python",
   "name": "python3"
  },
  "language_info": {
   "codemirror_mode": {
    "name": "ipython",
    "version": 3
   },
   "file_extension": ".py",
   "mimetype": "text/x-python",
   "name": "python",
   "nbconvert_exporter": "python",
   "pygments_lexer": "ipython3",
   "version": "3.10.6"
  },
  "orig_nbformat": 4
 },
 "nbformat": 4,
 "nbformat_minor": 2
}
