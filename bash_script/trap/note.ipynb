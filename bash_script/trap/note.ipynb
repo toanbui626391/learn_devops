{
 "cells": [
  {
   "cell_type": "markdown",
   "metadata": {},
   "source": [
    "# Shell Scripting – Bash Trap Command\n",
    "- reference link: https://www.geeksforgeeks.org/shell-scripting-bash-trap-command/\n",
    "- trap: to catch linux signal and execute command\n",
    "- syntax: trap [-options] “piece of code” [signal name or value]\n",
    "- example: bashTrap.sh"
   ]
  }
 ],
 "metadata": {
  "language_info": {
   "name": "python"
  },
  "orig_nbformat": 4
 },
 "nbformat": 4,
 "nbformat_minor": 2
}
