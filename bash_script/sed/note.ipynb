{
 "cells": [
  {
   "cell_type": "markdown",
   "metadata": {},
   "source": [
    "# Sed\n",
    "- sed is tream editor command\n",
    "- reference link: https://www.geeksforgeeks.org/sed-command-in-linux-unix-with-examples/"
   ]
  },
  {
   "cell_type": "code",
   "execution_count": 9,
   "metadata": {},
   "outputs": [
    {
     "name": "stdout",
     "output_type": "stream",
     "text": [
      "unix is great os. unix is opensource. unix is free os.\n",
      "learn operating system.\n",
      "unix linux which one you choose.\n",
      "unix is easy to learn.unix is a multiuser os.Learn unix .unix is a powerful."
     ]
    }
   ],
   "source": [
    "!cat geekfile.txt"
   ]
  },
  {
   "cell_type": "code",
   "execution_count": 8,
   "metadata": {},
   "outputs": [
    {
     "name": "stdout",
     "output_type": "stream",
     "text": [
      "linux is great os. unix is opensource. unix is free os.\n",
      "learn operating system.\n",
      "linux linux which one you choose.\n",
      "linux is easy to learn.unix is a multiuser os.Learn unix .unix is a powerful."
     ]
    }
   ],
   "source": [
    "#replace or substitue for first match in line\n",
    "#filter col with col nubmer, start index with 1\n",
    "!sed 's/unix/linux/' ./geekfile.txt"
   ]
  },
  {
   "cell_type": "code",
   "execution_count": 10,
   "metadata": {},
   "outputs": [
    {
     "name": "stdout",
     "output_type": "stream",
     "text": [
      "unix is great os. linux is opensource. unix is free os.\n",
      "learn operating system.\n",
      "unix linux which one you choose.\n",
      "unix is easy to learn.linux is a multiuser os.Learn unix .unix is a powerful."
     ]
    }
   ],
   "source": [
    "#replace or substitute at second match with index flag\n",
    "!sed 's/unix/linux/2' geekfile.txt"
   ]
  },
  {
   "cell_type": "code",
   "execution_count": 11,
   "metadata": {},
   "outputs": [
    {
     "name": "stdout",
     "output_type": "stream",
     "text": [
      "linux is great os. linux is opensource. linux is free os.\n",
      "learn operating system.\n",
      "linux linux which one you choose.\n",
      "linux is easy to learn.linux is a multiuser os.Learn linux .linux is a powerful."
     ]
    }
   ],
   "source": [
    "#replace all match\n",
    "!sed 's/unix/linux/g' geekfile.txt"
   ]
  },
  {
   "cell_type": "code",
   "execution_count": 12,
   "metadata": {},
   "outputs": [
    {
     "name": "stdout",
     "output_type": "stream",
     "text": [
      "unix is great os. unix is opensource. linux is free os.\n",
      "learn operating system.\n",
      "unix linux which one you choose.\n",
      "unix is easy to learn.unix is a multiuser os.Learn linux .linux is a powerful."
     ]
    }
   ],
   "source": [
    "#replace all from the 3 index\n",
    "!sed 's/unix/linux/3g' geekfile.txt"
   ]
  }
 ],
 "metadata": {
  "kernelspec": {
   "display_name": "venv",
   "language": "python",
   "name": "python3"
  },
  "language_info": {
   "codemirror_mode": {
    "name": "ipython",
    "version": 3
   },
   "file_extension": ".py",
   "mimetype": "text/x-python",
   "name": "python",
   "nbconvert_exporter": "python",
   "pygments_lexer": "ipython3",
   "version": "3.10.6"
  },
  "orig_nbformat": 4
 },
 "nbformat": 4,
 "nbformat_minor": 2
}
