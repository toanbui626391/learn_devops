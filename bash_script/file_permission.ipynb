{
 "cells": [
  {
   "cell_type": "markdown",
   "metadata": {},
   "source": [
    "# linux file permission\n",
    "- reference link: https://www.redhat.com/sysadmin/linux-file-permissions-explained"
   ]
  },
  {
   "cell_type": "markdown",
   "metadata": {},
   "source": [
    "### Basic permission\n",
    "- no permission (0)\n",
    "- read (4)\n",
    "- write (2)\n",
    "- execute (1)"
   ]
  },
  {
   "cell_type": "markdown",
   "metadata": {},
   "source": [
    "### Different type of user for file permission\n",
    "- owner (uid: user id)\n",
    "- group (gid: group id)\n",
    "- other (other user which is not owner or belong to group owner)"
   ]
  },
  {
   "cell_type": "markdown",
   "metadata": {},
   "source": [
    "### Permission in term of number\n",
    "- 7 (4+2+1, rwx): full permission\n",
    "- 6 (4+2, rw): read and write permission\n",
    "- 5 (4+1, r_x): read and execution\n",
    "- 4 (4, r__): read permission\n",
    "- 3 (2+1), _wx): write + execute permission\n",
    "- 2 (2, _w_): write permission\n",
    "- 1 (1, __x): excute permission\n",
    "- 0 (0, ___): no permission "
   ]
  },
  {
   "cell_type": "markdown",
   "metadata": {},
   "source": [
    "### Example permission\n",
    "- example for (owner, group owner, other)\n",
    "    - 740: (full, read, no)\n",
    "    - 760: (full, read+write, no)\n",
    "    - 750: (full, read+execute, no)\n",
    "    - 710: (full, execute, no)"
   ]
  }
 ],
 "metadata": {
  "language_info": {
   "name": "python"
  },
  "orig_nbformat": 4
 },
 "nbformat": 4,
 "nbformat_minor": 2
}
