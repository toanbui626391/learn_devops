{
 "cells": [
  {
   "cell_type": "code",
   "execution_count": 1,
   "metadata": {},
   "outputs": [
    {
     "name": "stdout",
     "output_type": "stream",
     "text": [
      "ajay manager account 45000\n",
      "sunil clerk account 25000\n",
      "varun manager sales 50000\n",
      "amit manager account 47000\n",
      "tarun peon sales 15000\n",
      "deepak clerk sales 23000\n",
      "sunil peon sales 13000\n",
      "satvik director purchase 80000"
     ]
    }
   ],
   "source": [
    "!cat employee.txt"
   ]
  },
  {
   "cell_type": "code",
   "execution_count": 2,
   "metadata": {},
   "outputs": [
    {
     "name": "stdout",
     "output_type": "stream",
     "text": [
      "awk: cmd. line:1: <built-in function print>\n",
      "awk: cmd. line:1: ^ syntax error\n"
     ]
    }
   ],
   "source": [
    "#print every line of the text\n",
    "!awk '{print}' employee.txt\n"
   ]
  },
  {
   "cell_type": "code",
   "execution_count": 6,
   "metadata": {},
   "outputs": [
    {
     "name": "stdout",
     "output_type": "stream",
     "text": [
      "ajay manager account 45000\n",
      "varun manager sales 50000\n",
      "amit manager account 47000\n"
     ]
    }
   ],
   "source": [
    "#filter row which second col is manager\n",
    "# !awk '/manager/ {print}' employee.txt\n",
    "!awk '/manager/' employee.txt"
   ]
  },
  {
   "cell_type": "code",
   "execution_count": 4,
   "metadata": {},
   "outputs": [
    {
     "name": "stdout",
     "output_type": "stream",
     "text": [
      "ajay 45000\n",
      "sunil 25000\n",
      "varun 50000\n",
      "amit 47000\n",
      "tarun 15000\n",
      "deepak 23000\n",
      "sunil 13000\n",
      "satvik 80000\n"
     ]
    }
   ],
   "source": [
    "#filter col with col nubmer, start index with 1\n",
    "!awk '{print $1,$4}' employee.txt"
   ]
  }
 ],
 "metadata": {
  "kernelspec": {
   "display_name": "venv",
   "language": "python",
   "name": "python3"
  },
  "language_info": {
   "codemirror_mode": {
    "name": "ipython",
    "version": 3
   },
   "file_extension": ".py",
   "mimetype": "text/x-python",
   "name": "python",
   "nbconvert_exporter": "python",
   "pygments_lexer": "ipython3",
   "version": "3.10.6"
  },
  "orig_nbformat": 4
 },
 "nbformat": 4,
 "nbformat_minor": 2
}
