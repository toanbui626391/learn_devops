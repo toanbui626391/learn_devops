{
 "cells": [
  {
   "cell_type": "markdown",
   "metadata": {},
   "source": [
    "# Bash script write file operators\n",
    "- reference link: https://serverfault.com/questions/196734/bash-difference-between-and-operator#:~:text=The%20%3E%20sign%20is%20used%20for,if%20it%20doesn't%20exist."
   ]
  },
  {
   "cell_type": "markdown",
   "metadata": {},
   "source": [
    "### Bash script write file operator\n",
    "- \">\": to overwrite content to file\n",
    "- \">>\": to append content to file"
   ]
  }
 ],
 "metadata": {
  "language_info": {
   "name": "python"
  },
  "orig_nbformat": 4
 },
 "nbformat": 4,
 "nbformat_minor": 2
}
