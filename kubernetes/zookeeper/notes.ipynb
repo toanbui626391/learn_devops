{
 "cells": [
  {
   "attachments": {},
   "cell_type": "markdown",
   "metadata": {},
   "source": [
    "# Helm deployment of bitmani zookeeper image\n",
    "- reference link: https://github.com/bitnami/charts/tree/main/bitnami/zookeeper/#installing-the-chart"
   ]
  }
 ],
 "metadata": {
  "language_info": {
   "name": "python"
  },
  "orig_nbformat": 4
 },
 "nbformat": 4,
 "nbformat_minor": 2
}
