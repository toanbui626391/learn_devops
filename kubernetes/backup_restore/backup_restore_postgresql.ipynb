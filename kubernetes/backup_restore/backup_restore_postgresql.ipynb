{
 "cells": [
  {
   "cell_type": "markdown",
   "metadata": {},
   "source": [
    "# Migrate Data Between Kubernetes Clusters with Bitnami and Velero\n",
    "- reference link: https://docs.bitnami.com/tutorials/migrate-data-bitnami-velero/"
   ]
  },
  {
   "cell_type": "markdown",
   "metadata": {},
   "source": [
    "### backup and restore statefulset on k8s\n",
    "- the tool of choise for backup and restore is velero from vmware"
   ]
  },
  {
   "cell_type": "markdown",
   "metadata": {},
   "source": [
    "### Deploy PostgreSQL on the source cluster and add data to it\n",
    "- using helm for deployment of postgres\n",
    "- helm notes:\n",
    "    - helm is a prebuild k8s manifest with easy to config\n",
    "    - repo is a remote or local directory where helm charts is stored and develop\n",
    "        - helm repo add $repo_name $repo_address\n",
    "    - helm chart is a collect of preconfig k8s manifest\n",
    "        - values.yaml: config value. it like input value for function in python\n",
    "        - Chart.yaml: a file which store metadata about the chart\n",
    "        - templates: prebuild manifest config\n",
    "        - helm install $chart_name $chart_address\n",
    "            - in thise case we install with --set fleg which help change default config\n",
    "- kubectl notes:\n",
    "    - kubectl is command line tool to control k8s cluster\n",
    "    - example:\n",
    "        - get password from secret object and use that to authenticate again postgres"
   ]
  }
 ],
 "metadata": {
  "language_info": {
   "name": "python"
  },
  "orig_nbformat": 4
 },
 "nbformat": 4,
 "nbformat_minor": 2
}
