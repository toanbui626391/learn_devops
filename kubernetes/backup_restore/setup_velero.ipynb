{
 "cells": [
  {
   "cell_type": "markdown",
   "metadata": {},
   "source": [
    "### Plugins for Google Cloud Platform (GCP)\n",
    "- reference link: https://github.com/vmware-tanzu/velero-plugin-for-gcp#setup"
   ]
  },
  {
   "cell_type": "markdown",
   "metadata": {},
   "source": [
    "### setup tasks\n",
    "- Create an GCS bucket\n",
    "- Set permissions for Velero\n",
    "- Install and start Velero"
   ]
  },
  {
   "cell_type": "markdown",
   "metadata": {},
   "source": [
    "### Create an GCS bucket\n",
    "- BUCKET=<YOUR_BUCKET>\n",
    "    gsutil mb gs://$BUCKET/\n",
    "    - specify your bucket name and then use gsutil mb command line to make a bucket\n",
    "    - gsutil (google storage utility) is command line tool which help you to manage google cloud storage object\n",
    "    - mb stand for make bucket"
   ]
  },
  {
   "cell_type": "markdown",
   "metadata": {},
   "source": [
    "### Set permissions for Velero\n",
    "- get project id\n",
    "    - gcloud config list\n",
    "        - to list current config with command: gcloud config list\n",
    "    - PROJECT_ID=$(gcloud config get-value project)\n",
    "        - get project id with command: gcloud config get-value project\n",
    "- create service account\n",
    "    - GSA_NAME=velero\n",
    "    gcloud iam service-accounts create $GSA_NAME \\\n",
    "        --display-name \"Velero service account\"\n",
    "        - gcloud iam service-accounts create to create service accout\n",
    "- list current service account\n",
    "    - gcloud iam service-accounts list\n",
    "- service account attribute\n",
    "    - name\n",
    "    - email\n",
    "    - note: in this case, we use service account email as an id for a service account\n",
    "- SERVICE_ACCOUNT_EMAIL=$(gcloud iam service-accounts list \\\n",
    "  --filter=\"displayName:Velero service account\" \\\n",
    "  --format 'value(email)')\n",
    "    - get service account with --filter and --format flag"
   ]
  },
  {
   "cell_type": "markdown",
   "metadata": {},
   "source": [
    "### Create role, binding service account to role, binding service account to objectAdmin role of specific bucket object\n",
    "- config role\n",
    "    - ROLE_PERMISSIONS=(\n",
    "    compute.disks.get\n",
    "    compute.disks.create\n",
    "    compute.disks.createSnapshot\n",
    "    compute.projects.get\n",
    "    compute.snapshots.get\n",
    "    compute.snapshots.create\n",
    "    compute.snapshots.useReadOnly\n",
    "    compute.snapshots.delete\n",
    "    compute.zones.get\n",
    "    storage.objects.create\n",
    "    storage.objects.delete\n",
    "    storage.objects.get\n",
    "    storage.objects.list\n",
    "    iam.serviceAccounts.signBlob\n",
    ")\n",
    "- create role\n",
    "    - gcloud iam roles create velero.server \\\n",
    "    --project $PROJECT_ID \\\n",
    "    --title \"Velero Server\" \\\n",
    "    --permissions \"$(IFS=\",\"; echo \"${ROLE_PERMISSIONS[*]}\")\"\n",
    "        - gcloud iam roles create to create role\n",
    "- add iam policy binding at project level\n",
    "    - gcloud project add-iam-policy-binding\n",
    "- binding objectAdmin role of a given bucket to velero service account\n",
    "    - gsutil iam ch serviceAccount:$SERVICE_ACCOUNT_EMAIL:objectAdmin gs://${BUCKET}"
   ]
  },
  {
   "cell_type": "markdown",
   "metadata": {},
   "source": [
    "### Grant access and install Velero\n",
    "- create service account key\n",
    "    - gcloud iam service-accounts keys create credentials-velero \\\n",
    "    --iam-account $SERVICE_ACCOUNT_EMAIL\n",
    "        - service account key is key to identify and authenticate program or machine which is assoicate to that service account\n",
    "- velero install \\\n",
    "    --provider gcp \\\n",
    "    --plugins velero/velero-plugin-for-gcp:v1.6.0 \\\n",
    "    --bucket $BUCKET \\\n",
    "    --secret-file ./credentials-velero\n",
    "    - --secret-file is flag to specify service-account key. in this case service-account key is a filename credential-velero\n"
   ]
  }
 ],
 "metadata": {
  "language_info": {
   "name": "python"
  },
  "orig_nbformat": 4
 },
 "nbformat": 4,
 "nbformat_minor": 2
}
