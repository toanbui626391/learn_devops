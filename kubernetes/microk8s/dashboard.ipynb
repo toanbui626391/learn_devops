{
 "cells": [
  {
   "cell_type": "markdown",
   "metadata": {},
   "source": [
    "# Addon: dashboard\n",
    "- reference link: https://microk8s.io/docs/addon-dashboard"
   ]
  },
  {
   "cell_type": "markdown",
   "metadata": {},
   "source": [
    "### Notes:\n",
    "- we need to enable dashboard\n",
    "    - command: microk8s enable dashboard\n",
    "    - dashboard is just program concept of Pod, Deployment, Service\n",
    "- we have to use metallb to make the dashboard accessible from outside of the cluster\n",
    "- we can access the dashboard with ip of homenetwork cluster"
   ]
  },
  {
   "cell_type": "code",
   "execution_count": null,
   "metadata": {
    "vscode": {
     "languageId": "plaintext"
    }
   },
   "outputs": [],
   "source": [
    "#get token to authenticate dashboard\n",
    "token=$(microk8s kubectl -n kube-system get secret | grep default-token | cut -d \" \" -f1) microk8s kubectl -n kube-system describe secret $token"
   ]
  }
 ],
 "metadata": {
  "language_info": {
   "name": "python"
  },
  "orig_nbformat": 4
 },
 "nbformat": 4,
 "nbformat_minor": 2
}
