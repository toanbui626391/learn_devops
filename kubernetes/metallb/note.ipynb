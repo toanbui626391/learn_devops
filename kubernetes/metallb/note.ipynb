{
 "cells": [
  {
   "cell_type": "code",
   "execution_count": null,
   "metadata": {},
   "outputs": [],
   "source": [
    "microk8s kubectl apply -f service-1.yaml\n",
    "microk8s kubectl apply -f service-2.yaml\n",
    "microk8s kubectl apply -f service-3.yaml"
   ]
  },
  {
   "cell_type": "code",
   "execution_count": null,
   "metadata": {},
   "outputs": [],
   "source": [
    "microk8s kubectl apply -f ingress.yaml"
   ]
  }
 ],
 "metadata": {
  "language_info": {
   "name": "python"
  },
  "orig_nbformat": 4
 },
 "nbformat": 4,
 "nbformat_minor": 2
}
