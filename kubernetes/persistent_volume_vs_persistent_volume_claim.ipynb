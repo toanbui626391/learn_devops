{
 "cells": [
  {
   "cell_type": "markdown",
   "metadata": {},
   "source": [
    "### Persistent Volume Claim\n",
    "- persistent volume clain is an object which binding between pod and persistent volume\n",
    "- pod will persistent volume to store (read and write) persistent data to volume\n",
    "- in kubectl cli, we can reference to Persistent Volume Claim object as pvc\n",
    "- some useful command:\n",
    "    - kubectl get pvc\n",
    "    - kubectl describe pvc"
   ]
  },
  {
   "cell_type": "markdown",
   "metadata": {},
   "source": [
    "### Persistent Volume\n",
    "- persistent Volume is an object which use to store persistent data on k8s file sytem\n",
    "- k8s files system is where data is stored. Therefore hostpath define in Persistent Volume is the path of k8s file system\n",
    "- minikube\n",
    "    - get detail about persistent volume, include persistent volume path on k8s system\n",
    "        - kubectl describe pv $pv_name\n",
    "    - list all persistent volume (pv)\n",
    "        - kubectl get pv\n",
    "    - ssh to minikube ssh \n",
    "        - minnikube ssh\n",
    "        - after ssh "
   ]
  }
 ],
 "metadata": {
  "language_info": {
   "name": "python"
  },
  "orig_nbformat": 4
 },
 "nbformat": 4,
 "nbformat_minor": 2
}
