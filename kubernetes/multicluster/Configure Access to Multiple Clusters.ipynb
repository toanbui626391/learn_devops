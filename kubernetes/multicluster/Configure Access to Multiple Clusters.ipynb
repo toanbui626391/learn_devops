{
 "cells": [
  {
   "cell_type": "markdown",
   "metadata": {},
   "source": [
    "# Configure Access to Multiple Clusters\n",
    "- reference link: https://kubernetes.io/docs/tasks/access-application-cluster/configure-access-multiple-clusters/\n",
    "- content list:\n",
    "    - Define clusters, users, and contexts\n",
    "    - Create a second configuration file\n",
    "    - Set the KUBECONFIG environment variable\n",
    "    - Explore the $HOME/.kube directory\n",
    "    - Append $HOME/.kube/config to your KUBECONFIG environment variable\n",
    "    - Clean up"
   ]
  },
  {
   "cell_type": "markdown",
   "metadata": {},
   "source": [
    "### Define clusters, users, and contexts\n"
   ]
  }
 ],
 "metadata": {
  "language_info": {
   "name": "python"
  },
  "orig_nbformat": 4
 },
 "nbformat": 4,
 "nbformat_minor": 2
}
