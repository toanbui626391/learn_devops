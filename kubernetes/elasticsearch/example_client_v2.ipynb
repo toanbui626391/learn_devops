{
 "cells": [
  {
   "cell_type": "code",
   "execution_count": 1,
   "metadata": {},
   "outputs": [],
   "source": [
    "#bulk insert api reference: https://elasticsearch-py.readthedocs.io/en/7.x/helpers.html\n",
    "from elasticsearch import Elasticsearch\n",
    "host = \"http://localhost:9200\"\n",
    "user = \"elastic\"\n",
    "password = \"password\"\n",
    "client = Elasticsearch(host, basic_auth=(user, password))"
   ]
  },
  {
   "cell_type": "code",
   "execution_count": 2,
   "metadata": {},
   "outputs": [
    {
     "name": "stderr",
     "output_type": "stream",
     "text": [
      "/tmp/ipykernel_19615/1009628177.py:3: DeprecationWarning: Passing transport options in the API method is deprecated. Use 'Elasticsearch.options()' instead.\n",
      "  client.indices.delete(index=index_name, ignore=[400, 404])\n",
      "/tmp/ipykernel_19615/1009628177.py:3: ElasticsearchWarning: Elasticsearch built-in security features are not enabled. Without authentication, your cluster could be accessible to anyone. See https://www.elastic.co/guide/en/elasticsearch/reference/7.17/security-minimal-setup.html to enable security.\n",
      "  client.indices.delete(index=index_name, ignore=[400, 404])\n"
     ]
    },
    {
     "data": {
      "text/plain": [
       "ObjectApiResponse({'acknowledged': True})"
      ]
     },
     "execution_count": 2,
     "metadata": {},
     "output_type": "execute_result"
    }
   ],
   "source": [
    "#delete index\n",
    "index_name = \"shakespeare\"\n",
    "client.indices.delete(index=index_name, ignore=[400, 404])"
   ]
  },
  {
   "cell_type": "code",
   "execution_count": 3,
   "metadata": {},
   "outputs": [
    {
     "name": "stderr",
     "output_type": "stream",
     "text": [
      "/tmp/ipykernel_19615/476291296.py:15: ElasticsearchWarning: Elasticsearch built-in security features are not enabled. Without authentication, your cluster could be accessible to anyone. See https://www.elastic.co/guide/en/elasticsearch/reference/7.17/security-minimal-setup.html to enable security.\n",
      "  helpers.bulk(client, actions=generate_doc(\"./shakespeare.json\"))\n"
     ]
    },
    {
     "data": {
      "text/plain": [
       "(111396, [])"
      ]
     },
     "execution_count": 3,
     "metadata": {},
     "output_type": "execute_result"
    }
   ],
   "source": [
    "from elasticsearch import helpers\n",
    "import json\n",
    "def generate_doc(file_path):\n",
    "    data = [json.loads(line) for line in open(file_path, \"rb\")]\n",
    "    for i in range(0, len(data), 2):\n",
    "        type = data[i].get(\"index\").get(\"_type\")\n",
    "        source = data[i+1]\n",
    "        source[\"type\"] = type\n",
    "        yield {\n",
    "        \"_index\": \"shakespeare\",\n",
    "        \"_id\": data[i].get(\"index\").get(\"_id\"),\n",
    "        \"_source\": source\n",
    "            }\n",
    "\n",
    "helpers.bulk(client, actions=generate_doc(\"./shakespeare.json\"))\n"
   ]
  },
  {
   "cell_type": "code",
   "execution_count": 4,
   "metadata": {},
   "outputs": [
    {
     "name": "stderr",
     "output_type": "stream",
     "text": [
      "/tmp/ipykernel_19615/1741138104.py:24: ElasticsearchWarning: Elasticsearch built-in security features are not enabled. Without authentication, your cluster could be accessible to anyone. See https://www.elastic.co/guide/en/elasticsearch/reference/7.17/security-minimal-setup.html to enable security.\n",
      "  client.search(index=\"shakespeare\", query=query[\"query\"])\n"
     ]
    },
    {
     "data": {
      "text/plain": [
       "ObjectApiResponse({'took': 4, 'timed_out': False, '_shards': {'total': 1, 'successful': 1, 'skipped': 0, 'failed': 0}, 'hits': {'total': {'value': 42, 'relation': 'eq'}, 'max_score': 8.199499, 'hits': [{'_index': 'shakespeare', '_type': '_doc', '_id': '18566', '_score': 8.199499, '_source': {'line_id': 18567, 'play_name': 'Antony and Cleopatra', 'speech_number': 52, 'line_number': '', 'speaker': 'ROSALIND', 'text_entry': 'SCENE I. Alexandria. A room in CLEOPATRAs palace.', 'type': 'scene'}}, {'_index': 'shakespeare', '_type': '_doc', '_id': '18642', '_score': 8.199499, '_source': {'line_id': 18643, 'play_name': 'Antony and Cleopatra', 'speech_number': 18, 'line_number': '', 'speaker': 'DEMETRIUS', 'text_entry': 'SCENE II. The same. Another room.', 'type': 'scene'}}, {'_index': 'shakespeare', '_type': '_doc', '_id': '18859', '_score': 8.199499, '_source': {'line_id': 18860, 'play_name': 'Antony and Cleopatra', 'speech_number': 93, 'line_number': '', 'speaker': 'DOMITIUS ENOBARBUS', 'text_entry': 'SCENE III. The same. Another room.', 'type': 'scene'}}, {'_index': 'shakespeare', '_type': '_doc', '_id': '18988', '_score': 8.199499, '_source': {'line_id': 18989, 'play_name': 'Antony and Cleopatra', 'speech_number': 40, 'line_number': '', 'speaker': 'MARK ANTONY', 'text_entry': 'SCENE IV. Rome. OCTAVIUS CAESARs house.', 'type': 'scene'}}, {'_index': 'shakespeare', '_type': '_doc', '_id': '19086', '_score': 8.199499, '_source': {'line_id': 19087, 'play_name': 'Antony and Cleopatra', 'speech_number': 14, 'line_number': '', 'speaker': 'OCTAVIUS CAESAR', 'text_entry': 'SCENE V. Alexandria. CLEOPATRAs palace.', 'type': 'scene'}}, {'_index': 'shakespeare', '_type': '_doc', '_id': '19182', '_score': 8.199499, '_source': {'line_id': 19183, 'play_name': 'Antony and Cleopatra', 'speech_number': 31, 'line_number': '', 'speaker': 'CLEOPATRA', 'text_entry': 'SCENE I. Messina. POMPEYs house.', 'type': 'scene'}}, {'_index': 'shakespeare', '_type': '_doc', '_id': '19248', '_score': 8.199499, '_source': {'line_id': 19249, 'play_name': 'Antony and Cleopatra', 'speech_number': 13, 'line_number': '', 'speaker': 'POMPEY', 'text_entry': 'SCENE II. Rome. The house of LEPIDUS.', 'type': 'scene'}}, {'_index': 'shakespeare', '_type': '_doc', '_id': '19545', '_score': 8.199499, '_source': {'line_id': 19546, 'play_name': 'Antony and Cleopatra', 'speech_number': 89, 'line_number': '', 'speaker': 'DOMITIUS ENOBARBUS', 'text_entry': 'SCENE III. The same. OCTAVIUS CAESARs house.', 'type': 'scene'}}, {'_index': 'shakespeare', '_type': '_doc', '_id': '19600', '_score': 8.199499, '_source': {'line_id': 19601, 'play_name': 'Antony and Cleopatra', 'speech_number': 13, 'line_number': '', 'speaker': 'MARK ANTONY', 'text_entry': 'SCENE IV. The same. A street.', 'type': 'scene'}}, {'_index': 'shakespeare', '_type': '_doc', '_id': '19617', '_score': 8.199499, '_source': {'line_id': 19618, 'play_name': 'Antony and Cleopatra', 'speech_number': 8, 'line_number': '', 'speaker': 'LEPIDUS', 'text_entry': 'SCENE V. Alexandria. CLEOPATRAs palace.', 'type': 'scene'}}]}})"
      ]
     },
     "execution_count": 4,
     "metadata": {},
     "output_type": "execute_result"
    }
   ],
   "source": [
    "#try with the python client\n",
    "#reference link: https://www.elastic.co/blog/a-practical-introduction-to-elasticsearch\n",
    "\n",
    "#search in scene wich have play_name is Antony\n",
    "type = \"scene\"\n",
    "query = {\n",
    "    \"query\":{\n",
    "        \"bool\": {\n",
    "            \"must\" : [\n",
    "                {\n",
    "                    \"match\" : {\n",
    "                        \"play_name\" : \"Antony\"\n",
    "                    }\n",
    "                },\n",
    "                {\n",
    "                    \"match\" : {\n",
    "                        \"type\" : type\n",
    "                    }\n",
    "                }\n",
    "            ]\n",
    "        }\n",
    "    }\n",
    "}\n",
    "client.search(index=\"shakespeare\", query=query[\"query\"])\n"
   ]
  },
  {
   "cell_type": "code",
   "execution_count": 5,
   "metadata": {},
   "outputs": [
    {
     "name": "stderr",
     "output_type": "stream",
     "text": [
      "/tmp/ipykernel_19615/604187813.py:29: ElasticsearchWarning: Elasticsearch built-in security features are not enabled. Without authentication, your cluster could be accessible to anyone. See https://www.elastic.co/guide/en/elasticsearch/reference/7.17/security-minimal-setup.html to enable security.\n",
      "  client.search(index=\"shakespeare\", query=query[\"query\"])\n"
     ]
    },
    {
     "data": {
      "text/plain": [
       "ObjectApiResponse({'took': 3, 'timed_out': False, '_shards': {'total': 1, 'successful': 1, 'skipped': 0, 'failed': 0}, 'hits': {'total': {'value': 1, 'relation': 'eq'}, 'max_score': 14.919612, 'hits': [{'_index': 'shakespeare', '_type': '_doc', '_id': '18642', '_score': 14.919612, '_source': {'line_id': 18643, 'play_name': 'Antony and Cleopatra', 'speech_number': 18, 'line_number': '', 'speaker': 'DEMETRIUS', 'text_entry': 'SCENE II. The same. Another room.', 'type': 'scene'}}]}})"
      ]
     },
     "execution_count": 5,
     "metadata": {},
     "output_type": "execute_result"
    }
   ],
   "source": [
    "#try with the python client\n",
    "#reference link: https://www.elastic.co/blog/a-practical-introduction-to-elasticsearch\n",
    "\n",
    "#search in scene wich have play_name is Antony\n",
    "type = \"scene\"\n",
    "query = {\n",
    "    \"query\":{\n",
    "        \"bool\": {\n",
    "            \"must\" : [\n",
    "                {\n",
    "                    \"match\" : {\n",
    "                        \"play_name\" : \"Antony\"\n",
    "                    }\n",
    "                },\n",
    "                {\n",
    "                    \"match\" : {\n",
    "                        \"speaker\" : \"Demetrius\"\n",
    "                    }\n",
    "                },                \n",
    "                {\n",
    "                    \"match\" : {\n",
    "                        \"type\" : type\n",
    "                    }\n",
    "                }\n",
    "            ]\n",
    "        }\n",
    "    }\n",
    "}\n",
    "client.search(index=\"shakespeare\", query=query[\"query\"])\n"
   ]
  },
  {
   "cell_type": "code",
   "execution_count": 10,
   "metadata": {},
   "outputs": [
    {
     "name": "stderr",
     "output_type": "stream",
     "text": [
      "/tmp/ipykernel_19615/2808160825.py:16: ElasticsearchWarning: Elasticsearch built-in security features are not enabled. Without authentication, your cluster could be accessible to anyone. See https://www.elastic.co/guide/en/elasticsearch/reference/7.17/security-minimal-setup.html to enable security.\n",
      "  client.search(index=\"shakespeare\", size=body.get(\"size\"), aggs=body.get(\"aggs\"))\n"
     ]
    },
    {
     "data": {
      "text/plain": [
       "ObjectApiResponse({'took': 36, 'timed_out': False, '_shards': {'total': 1, 'successful': 1, 'skipped': 0, 'failed': 0}, 'hits': {'total': {'value': 10000, 'relation': 'gte'}, 'max_score': None, 'hits': []}, 'aggregations': {'Total plays': {'value': 36}}})"
      ]
     },
     "execution_count": 10,
     "metadata": {},
     "output_type": "execute_result"
    }
   ],
   "source": [
    "#try with the python client\n",
    "#reference link: https://www.elastic.co/blog/a-practical-introduction-to-elasticsearch\n",
    "\n",
    "#search in scene wich have play_name is Antony\n",
    "type = \"scene\"\n",
    "body = {\n",
    "    \"size\":0,\n",
    "    \"aggs\" : {\n",
    "        \"Total plays\" : {\n",
    "            \"cardinality\" : {\n",
    "                \"field\" : \"play_name.keyword\"\n",
    "            }\n",
    "        }\n",
    "    }\n",
    "}\n",
    "client.search(index=\"shakespeare\", size=body.get(\"size\"), aggs=body.get(\"aggs\"))\n"
   ]
  },
  {
   "cell_type": "code",
   "execution_count": 12,
   "metadata": {},
   "outputs": [
    {
     "name": "stdout",
     "output_type": "stream",
     "text": [
      "{\n",
      "    \"_shards\": {\n",
      "        \"failed\": 0,\n",
      "        \"skipped\": 0,\n",
      "        \"successful\": 1,\n",
      "        \"total\": 1\n",
      "    },\n",
      "    \"aggregations\": {\n",
      "        \"Popular plays\": {\n",
      "            \"buckets\": [\n",
      "                {\n",
      "                    \"doc_count\": 4244,\n",
      "                    \"key\": \"Hamlet\"\n",
      "                },\n",
      "                {\n",
      "                    \"doc_count\": 3992,\n",
      "                    \"key\": \"Coriolanus\"\n",
      "                },\n",
      "                {\n",
      "                    \"doc_count\": 3958,\n",
      "                    \"key\": \"Cymbeline\"\n",
      "                },\n",
      "                {\n",
      "                    \"doc_count\": 3941,\n",
      "                    \"key\": \"Richard III\"\n",
      "                },\n",
      "                {\n",
      "                    \"doc_count\": 3862,\n",
      "                    \"key\": \"Antony and Cleopatra\"\n",
      "                },\n",
      "                {\n",
      "                    \"doc_count\": 3766,\n",
      "                    \"key\": \"King Lear\"\n",
      "                },\n",
      "                {\n",
      "                    \"doc_count\": 3762,\n",
      "                    \"key\": \"Othello\"\n",
      "                },\n",
      "                {\n",
      "                    \"doc_count\": 3711,\n",
      "                    \"key\": \"Troilus and Cressida\"\n",
      "                },\n",
      "                {\n",
      "                    \"doc_count\": 3489,\n",
      "                    \"key\": \"A Winters Tale\"\n",
      "                },\n",
      "                {\n",
      "                    \"doc_count\": 3419,\n",
      "                    \"key\": \"Henry VIII\"\n",
      "                }\n",
      "            ],\n",
      "            \"doc_count_error_upper_bound\": 0,\n",
      "            \"sum_other_doc_count\": 73252\n",
      "        }\n",
      "    },\n",
      "    \"hits\": {\n",
      "        \"hits\": [],\n",
      "        \"max_score\": null,\n",
      "        \"total\": {\n",
      "            \"relation\": \"gte\",\n",
      "            \"value\": 10000\n",
      "        }\n",
      "    },\n",
      "    \"timed_out\": false,\n",
      "    \"took\": 2\n",
      "}\n"
     ]
    },
    {
     "name": "stderr",
     "output_type": "stream",
     "text": [
      "/tmp/ipykernel_19615/1554760163.py:16: ElasticsearchWarning: Elasticsearch built-in security features are not enabled. Without authentication, your cluster could be accessible to anyone. See https://www.elastic.co/guide/en/elasticsearch/reference/7.17/security-minimal-setup.html to enable security.\n",
      "  response = client.search(index=\"shakespeare\", size=body.get(\"size\"), aggs=body.get(\"aggs\"))\n"
     ]
    }
   ],
   "source": [
    "#try with the python client\n",
    "#reference link: https://www.elastic.co/blog/a-practical-introduction-to-elasticsearch\n",
    "\n",
    "#compute sum over play_name.keyword (value of play_name)\n",
    "type = \"scene\"\n",
    "body = {\n",
    "    \"size\":0,\n",
    "    \"aggs\" : {\n",
    "        \"Popular plays\" : {\n",
    "            \"terms\" : {\n",
    "                \"field\" : \"play_name.keyword\"\n",
    "            }\n",
    "        }\n",
    "    }\n",
    "}\n",
    "response = client.search(index=\"shakespeare\", size=body.get(\"size\"), aggs=body.get(\"aggs\"))\n",
    "print(json.dumps(response.body, indent=4, sort_keys=True))\n"
   ]
  },
  {
   "cell_type": "code",
   "execution_count": 14,
   "metadata": {},
   "outputs": [
    {
     "name": "stdout",
     "output_type": "stream",
     "text": [
      "{\n",
      "    \"_shards\": {\n",
      "        \"failed\": 0,\n",
      "        \"skipped\": 0,\n",
      "        \"successful\": 1,\n",
      "        \"total\": 1\n",
      "    },\n",
      "    \"aggregations\": {\n",
      "        \"Play name and Type\": {\n",
      "            \"buckets\": [\n",
      "                {\n",
      "                    \"doc_count\": 4219,\n",
      "                    \"key\": [\n",
      "                        \"Hamlet\",\n",
      "                        \"line\"\n",
      "                    ],\n",
      "                    \"key_as_string\": \"Hamlet|line\"\n",
      "                },\n",
      "                {\n",
      "                    \"doc_count\": 3958,\n",
      "                    \"key\": [\n",
      "                        \"Coriolanus\",\n",
      "                        \"line\"\n",
      "                    ],\n",
      "                    \"key_as_string\": \"Coriolanus|line\"\n",
      "                },\n",
      "                {\n",
      "                    \"doc_count\": 3927,\n",
      "                    \"key\": [\n",
      "                        \"Cymbeline\",\n",
      "                        \"line\"\n",
      "                    ],\n",
      "                    \"key_as_string\": \"Cymbeline|line\"\n",
      "                },\n",
      "                {\n",
      "                    \"doc_count\": 3911,\n",
      "                    \"key\": [\n",
      "                        \"Richard III\",\n",
      "                        \"line\"\n",
      "                    ],\n",
      "                    \"key_as_string\": \"Richard III|line\"\n",
      "                },\n",
      "                {\n",
      "                    \"doc_count\": 3815,\n",
      "                    \"key\": [\n",
      "                        \"Antony and Cleopatra\",\n",
      "                        \"line\"\n",
      "                    ],\n",
      "                    \"key_as_string\": \"Antony and Cleopatra|line\"\n",
      "                },\n",
      "                {\n",
      "                    \"doc_count\": 3742,\n",
      "                    \"key\": [\n",
      "                        \"Othello\",\n",
      "                        \"line\"\n",
      "                    ],\n",
      "                    \"key_as_string\": \"Othello|line\"\n",
      "                },\n",
      "                {\n",
      "                    \"doc_count\": 3735,\n",
      "                    \"key\": [\n",
      "                        \"King Lear\",\n",
      "                        \"line\"\n",
      "                    ],\n",
      "                    \"key_as_string\": \"King Lear|line\"\n",
      "                },\n",
      "                {\n",
      "                    \"doc_count\": 3682,\n",
      "                    \"key\": [\n",
      "                        \"Troilus and Cressida\",\n",
      "                        \"line\"\n",
      "                    ],\n",
      "                    \"key_as_string\": \"Troilus and Cressida|line\"\n",
      "                },\n",
      "                {\n",
      "                    \"doc_count\": 3469,\n",
      "                    \"key\": [\n",
      "                        \"A Winters Tale\",\n",
      "                        \"line\"\n",
      "                    ],\n",
      "                    \"key_as_string\": \"A Winters Tale|line\"\n",
      "                },\n",
      "                {\n",
      "                    \"doc_count\": 3397,\n",
      "                    \"key\": [\n",
      "                        \"Henry VIII\",\n",
      "                        \"line\"\n",
      "                    ],\n",
      "                    \"key_as_string\": \"Henry VIII|line\"\n",
      "                }\n",
      "            ],\n",
      "            \"doc_count_error_upper_bound\": 0,\n",
      "            \"sum_other_doc_count\": 73541\n",
      "        }\n",
      "    },\n",
      "    \"hits\": {\n",
      "        \"hits\": [],\n",
      "        \"max_score\": null,\n",
      "        \"total\": {\n",
      "            \"relation\": \"gte\",\n",
      "            \"value\": 10000\n",
      "        }\n",
      "    },\n",
      "    \"timed_out\": false,\n",
      "    \"took\": 439\n",
      "}\n"
     ]
    },
    {
     "name": "stderr",
     "output_type": "stream",
     "text": [
      "/tmp/ipykernel_19615/3932863493.py:23: ElasticsearchWarning: Elasticsearch built-in security features are not enabled. Without authentication, your cluster could be accessible to anyone. See https://www.elastic.co/guide/en/elasticsearch/reference/7.17/security-minimal-setup.html to enable security.\n",
      "  response = client.search(index=\"shakespeare\", size=body.get(\"size\"), aggs=body.get(\"aggs\"))\n"
     ]
    }
   ],
   "source": [
    "#try with the python client\n",
    "#reference link: https://www.elastic.co/blog/a-practical-introduction-to-elasticsearch\n",
    "\n",
    "#compute aggregate over multiple field\n",
    "type = \"scene\"\n",
    "body = {\n",
    "    \"size\":0,\n",
    "    \"aggs\" : {\n",
    "        \"Play name and Type\" : {\n",
    "            \"multi_terms\": {\n",
    "                \"terms\": [\n",
    "                    {\n",
    "                        \"field\" : \"play_name.keyword\"\n",
    "                    },\n",
    "                    {\n",
    "                        \"field\": \"type.keyword\"\n",
    "                    }\n",
    "                ]\n",
    "            }\n",
    "        }\n",
    "    }\n",
    "}\n",
    "response = client.search(index=\"shakespeare\", size=body.get(\"size\"), aggs=body.get(\"aggs\"))\n",
    "print(json.dumps(response.body, indent=4, sort_keys=True))\n"
   ]
  }
 ],
 "metadata": {
  "kernelspec": {
   "display_name": "venv",
   "language": "python",
   "name": "python3"
  },
  "language_info": {
   "codemirror_mode": {
    "name": "ipython",
    "version": 3
   },
   "file_extension": ".py",
   "mimetype": "text/x-python",
   "name": "python",
   "nbconvert_exporter": "python",
   "pygments_lexer": "ipython3",
   "version": "3.10.12"
  },
  "orig_nbformat": 4
 },
 "nbformat": 4,
 "nbformat_minor": 2
}
