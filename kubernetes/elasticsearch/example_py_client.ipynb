{
 "cells": [
  {
   "cell_type": "code",
   "execution_count": 21,
   "metadata": {},
   "outputs": [],
   "source": [
    "#bulk insert api reference: https://elasticsearch-py.readthedocs.io/en/7.x/helpers.html\n",
    "from elasticsearch import Elasticsearch\n",
    "host = \"http://localhost:9200\"\n",
    "user = \"elastic\"\n",
    "password = \"password\"\n",
    "client = Elasticsearch(host, basic_auth=(user, password))"
   ]
  },
  {
   "cell_type": "code",
   "execution_count": 22,
   "metadata": {},
   "outputs": [
    {
     "name": "stdout",
     "output_type": "stream",
     "text": [
      "['act', 'scene', 'line']\n"
     ]
    }
   ],
   "source": [
    "import json\n",
    "#json file is a list of json instead of standard json format\n",
    "data = [json.loads(line) for line in open(\"./shakespeare.json\", \"rb\")]\n",
    "types = []\n",
    "for i in range(0, len(data), 2):\n",
    "    type = data[i][\"index\"].get(\"_type\")\n",
    "    if type not in types:\n",
    "        types.append(type)\n",
    "print(types)\n"
   ]
  },
  {
   "cell_type": "code",
   "execution_count": 24,
   "metadata": {},
   "outputs": [
    {
     "name": "stderr",
     "output_type": "stream",
     "text": [
      "/tmp/ipykernel_6329/72972983.py:2: DeprecationWarning: Passing transport options in the API method is deprecated. Use 'Elasticsearch.options()' instead.\n",
      "  client.indices.delete(index=index_name, ignore=[400, 404])\n",
      "/tmp/ipykernel_6329/72972983.py:2: ElasticsearchWarning: Elasticsearch built-in security features are not enabled. Without authentication, your cluster could be accessible to anyone. See https://www.elastic.co/guide/en/elasticsearch/reference/7.17/security-minimal-setup.html to enable security.\n",
      "  client.indices.delete(index=index_name, ignore=[400, 404])\n",
      "/tmp/ipykernel_6329/72972983.py:3: DeprecationWarning: Passing transport options in the API method is deprecated. Use 'Elasticsearch.options()' instead.\n",
      "  client.indices.create(index=index_name, ignore=400)\n",
      "/tmp/ipykernel_6329/72972983.py:3: ElasticsearchWarning: Elasticsearch built-in security features are not enabled. Without authentication, your cluster could be accessible to anyone. See https://www.elastic.co/guide/en/elasticsearch/reference/7.17/security-minimal-setup.html to enable security.\n",
      "  client.indices.create(index=index_name, ignore=400)\n"
     ]
    },
    {
     "data": {
      "text/plain": [
       "ObjectApiResponse({'acknowledged': True, 'shards_acknowledged': True, 'index': 'shakespeare'})"
      ]
     },
     "execution_count": 24,
     "metadata": {},
     "output_type": "execute_result"
    }
   ],
   "source": [
    "index_name = \"shakespeare\"\n",
    "client.indices.delete(index=index_name, ignore=[400, 404])\n",
    "client.indices.create(index=index_name, ignore=400)"
   ]
  },
  {
   "cell_type": "code",
   "execution_count": 27,
   "metadata": {},
   "outputs": [
    {
     "name": "stderr",
     "output_type": "stream",
     "text": [
      "/tmp/ipykernel_6329/642872350.py:12: ElasticsearchWarning: Elasticsearch built-in security features are not enabled. Without authentication, your cluster could be accessible to anyone. See https://www.elastic.co/guide/en/elasticsearch/reference/7.17/security-minimal-setup.html to enable security.\n",
      "  helpers.bulk(client, actions=generate_doc(\"./shakespeare.json\"))\n"
     ]
    },
    {
     "data": {
      "text/plain": [
       "(111396, [])"
      ]
     },
     "execution_count": 27,
     "metadata": {},
     "output_type": "execute_result"
    }
   ],
   "source": [
    "from elasticsearch import helpers\n",
    "def generate_doc(file_path):\n",
    "    data = [json.loads(line) for line in open(file_path, \"rb\")]\n",
    "    for i in range(0, len(data), 2):\n",
    "        type = data[i].get(\"index\").get(\"_type\")\n",
    "        yield {\n",
    "        \"_index\": \"shakespeare-{}\".format(type),\n",
    "        \"_id\": data[i].get(\"index\").get(\"_id\"),\n",
    "        \"_source\": data[i+1]\n",
    "            }\n",
    "\n",
    "helpers.bulk(client, actions=generate_doc(\"./shakespeare.json\"))\n"
   ]
  },
  {
   "cell_type": "code",
   "execution_count": 35,
   "metadata": {},
   "outputs": [
    {
     "name": "stderr",
     "output_type": "stream",
     "text": [
      "/tmp/ipykernel_6329/2166020937.py:24: ElasticsearchWarning: Elasticsearch built-in security features are not enabled. Without authentication, your cluster could be accessible to anyone. See https://www.elastic.co/guide/en/elasticsearch/reference/7.17/security-minimal-setup.html to enable security.\n",
      "  client.search(index=\"shakespeare-{}\".format(type), query=query[\"query\"])\n"
     ]
    },
    {
     "data": {
      "text/plain": [
       "ObjectApiResponse({'took': 2, 'timed_out': False, '_shards': {'total': 1, 'successful': 1, 'skipped': 0, 'failed': 0}, 'hits': {'total': {'value': 8, 'relation': 'eq'}, 'max_score': 9.882013, 'hits': [{'_index': 'shakespeare-scene', '_type': '_doc', '_id': '18633', '_score': 9.882013, '_source': {'line_id': 18634, 'play_name': 'Antony and Cleopatra', 'speech_number': 16, 'line_number': '1.1.62', 'speaker': 'DEMETRIUS', 'text_entry': 'Is Caesar with Antonius prized so slight?'}}, {'_index': 'shakespeare-scene', '_type': '_doc', '_id': '18637', '_score': 9.882013, '_source': {'line_id': 18638, 'play_name': 'Antony and Cleopatra', 'speech_number': 18, 'line_number': '1.1.66', 'speaker': 'DEMETRIUS', 'text_entry': 'I am full sorry'}}, {'_index': 'shakespeare-scene', '_type': '_doc', '_id': '18638', '_score': 9.882013, '_source': {'line_id': 18639, 'play_name': 'Antony and Cleopatra', 'speech_number': 18, 'line_number': '1.1.67', 'speaker': 'DEMETRIUS', 'text_entry': 'That he approves the common liar, who'}}, {'_index': 'shakespeare-scene', '_type': '_doc', '_id': '18639', '_score': 9.882013, '_source': {'line_id': 18640, 'play_name': 'Antony and Cleopatra', 'speech_number': 18, 'line_number': '1.1.68', 'speaker': 'DEMETRIUS', 'text_entry': 'Thus speaks of him at Rome: but I will hope'}}, {'_index': 'shakespeare-scene', '_type': '_doc', '_id': '18640', '_score': 9.882013, '_source': {'line_id': 18641, 'play_name': 'Antony and Cleopatra', 'speech_number': 18, 'line_number': '1.1.69', 'speaker': 'DEMETRIUS', 'text_entry': 'Of better deeds to-morrow. Rest you happy!'}}, {'_index': 'shakespeare-scene', '_type': '_doc', '_id': '18641', '_score': 9.882013, '_source': {'line_id': 18642, 'play_name': 'Antony and Cleopatra', 'speech_number': 18, 'line_number': '', 'speaker': 'DEMETRIUS', 'text_entry': 'Exeunt'}}, {'_index': 'shakespeare-scene', '_type': '_doc', '_id': '18643', '_score': 9.882013, '_source': {'line_id': 18644, 'play_name': 'Antony and Cleopatra', 'speech_number': 18, 'line_number': '', 'speaker': 'DEMETRIUS', 'text_entry': 'Enter CHARMIAN, IRAS, ALEXAS, and a Soothsayer'}}, {'_index': 'shakespeare-scene', '_type': '_doc', '_id': '18642', '_score': 9.882013, '_source': {'line_id': 18643, 'play_name': 'Antony and Cleopatra', 'speech_number': 18, 'line_number': '', 'speaker': 'DEMETRIUS', 'text_entry': 'SCENE II. The same. Another room.'}}]}})"
      ]
     },
     "execution_count": 35,
     "metadata": {},
     "output_type": "execute_result"
    }
   ],
   "source": [
    "#try with the python client\n",
    "#reference link: https://www.elastic.co/blog/a-practical-introduction-to-elasticsearch\n",
    "\n",
    "#search in scene wich have play_name is Antony\n",
    "type = \"scene\"\n",
    "query = {\n",
    "    \"query\":{\n",
    "        \"match\" : {\n",
    "            \"play_name\" : \"Antony\"\n",
    "        }\n",
    "    }\n",
    "}\n",
    "client.search(index=\"shakespeare-{}\".format(type), query=query[\"query\"])\n"
   ]
  },
  {
   "cell_type": "code",
   "execution_count": 36,
   "metadata": {},
   "outputs": [
    {
     "name": "stderr",
     "output_type": "stream",
     "text": [
      "/tmp/ipykernel_6329/288587973.py:21: ElasticsearchWarning: Elasticsearch built-in security features are not enabled. Without authentication, your cluster could be accessible to anyone. See https://www.elastic.co/guide/en/elasticsearch/reference/7.17/security-minimal-setup.html to enable security.\n",
      "  client.search(index=\"shakespeare-{}\".format(type), query=query[\"query\"])\n"
     ]
    },
    {
     "data": {
      "text/plain": [
       "ObjectApiResponse({'took': 3, 'timed_out': False, '_shards': {'total': 1, 'successful': 1, 'skipped': 0, 'failed': 0}, 'hits': {'total': {'value': 8, 'relation': 'eq'}, 'max_score': 9.882013, 'hits': [{'_index': 'shakespeare-scene', '_type': '_doc', '_id': '18633', '_score': 9.882013, '_source': {'line_id': 18634, 'play_name': 'Antony and Cleopatra', 'speech_number': 16, 'line_number': '1.1.62', 'speaker': 'DEMETRIUS', 'text_entry': 'Is Caesar with Antonius prized so slight?'}}, {'_index': 'shakespeare-scene', '_type': '_doc', '_id': '18637', '_score': 9.882013, '_source': {'line_id': 18638, 'play_name': 'Antony and Cleopatra', 'speech_number': 18, 'line_number': '1.1.66', 'speaker': 'DEMETRIUS', 'text_entry': 'I am full sorry'}}, {'_index': 'shakespeare-scene', '_type': '_doc', '_id': '18638', '_score': 9.882013, '_source': {'line_id': 18639, 'play_name': 'Antony and Cleopatra', 'speech_number': 18, 'line_number': '1.1.67', 'speaker': 'DEMETRIUS', 'text_entry': 'That he approves the common liar, who'}}, {'_index': 'shakespeare-scene', '_type': '_doc', '_id': '18639', '_score': 9.882013, '_source': {'line_id': 18640, 'play_name': 'Antony and Cleopatra', 'speech_number': 18, 'line_number': '1.1.68', 'speaker': 'DEMETRIUS', 'text_entry': 'Thus speaks of him at Rome: but I will hope'}}, {'_index': 'shakespeare-scene', '_type': '_doc', '_id': '18640', '_score': 9.882013, '_source': {'line_id': 18641, 'play_name': 'Antony and Cleopatra', 'speech_number': 18, 'line_number': '1.1.69', 'speaker': 'DEMETRIUS', 'text_entry': 'Of better deeds to-morrow. Rest you happy!'}}, {'_index': 'shakespeare-scene', '_type': '_doc', '_id': '18641', '_score': 9.882013, '_source': {'line_id': 18642, 'play_name': 'Antony and Cleopatra', 'speech_number': 18, 'line_number': '', 'speaker': 'DEMETRIUS', 'text_entry': 'Exeunt'}}, {'_index': 'shakespeare-scene', '_type': '_doc', '_id': '18643', '_score': 9.882013, '_source': {'line_id': 18644, 'play_name': 'Antony and Cleopatra', 'speech_number': 18, 'line_number': '', 'speaker': 'DEMETRIUS', 'text_entry': 'Enter CHARMIAN, IRAS, ALEXAS, and a Soothsayer'}}, {'_index': 'shakespeare-scene', '_type': '_doc', '_id': '18642', '_score': 9.882013, '_source': {'line_id': 18643, 'play_name': 'Antony and Cleopatra', 'speech_number': 18, 'line_number': '', 'speaker': 'DEMETRIUS', 'text_entry': 'SCENE II. The same. Another room.'}}]}})"
      ]
     },
     "execution_count": 36,
     "metadata": {},
     "output_type": "execute_result"
    }
   ],
   "source": [
    "#search in scene index which play_name is antony and speaker is Demetrius\n",
    "type = \"scene\"\n",
    "query = {\n",
    "    \"query\":{\n",
    "        \"bool\": {\n",
    "            \"must\" : [\n",
    "                {\n",
    "                    \"match\" : {\n",
    "                        \"play_name\" : \"Antony\"\n",
    "                    }\n",
    "                },\n",
    "                {\n",
    "                    \"match\" : {\n",
    "                        \"speaker\" : \"Demetrius\"\n",
    "                    }\n",
    "                }\n",
    "            ]\n",
    "        }\n",
    "    }\n",
    "}\n",
    "client.search(index=\"shakespeare-{}\".format(type), query=query[\"query\"])"
   ]
  },
  {
   "cell_type": "code",
   "execution_count": null,
   "metadata": {},
   "outputs": [],
   "source": [
    "{\n",
    "    \"size\":0,\n",
    "    \"aggs\" : {\n",
    "        \"Total plays\" : {\n",
    "            \"cardinality\" : {\n",
    "                \"field\" : \"play_name.keyword\"\n",
    "            }\n",
    "        }\n",
    "    }\n",
    "}"
   ]
  }
 ],
 "metadata": {
  "kernelspec": {
   "display_name": "venv",
   "language": "python",
   "name": "python3"
  },
  "language_info": {
   "codemirror_mode": {
    "name": "ipython",
    "version": 3
   },
   "file_extension": ".py",
   "mimetype": "text/x-python",
   "name": "python",
   "nbconvert_exporter": "python",
   "pygments_lexer": "ipython3",
   "version": "3.10.12"
  },
  "orig_nbformat": 4
 },
 "nbformat": 4,
 "nbformat_minor": 2
}
