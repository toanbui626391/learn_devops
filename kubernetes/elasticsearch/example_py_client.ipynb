{
 "cells": [
  {
   "cell_type": "code",
   "execution_count": 21,
   "metadata": {},
   "outputs": [],
   "source": [
    "#bulk insert api reference: https://elasticsearch-py.readthedocs.io/en/7.x/helpers.html\n",
    "from elasticsearch import Elasticsearch\n",
    "host = \"http://localhost:9200\"\n",
    "user = \"elastic\"\n",
    "password = \"password\"\n",
    "client = Elasticsearch(host, basic_auth=(user, password))"
   ]
  },
  {
   "cell_type": "code",
   "execution_count": 22,
   "metadata": {},
   "outputs": [
    {
     "name": "stdout",
     "output_type": "stream",
     "text": [
      "['act', 'scene', 'line']\n"
     ]
    }
   ],
   "source": [
    "import json\n",
    "#json file is a list of json instead of standard json format\n",
    "data = [json.loads(line) for line in open(\"./shakespeare.json\", \"rb\")]\n",
    "types = []\n",
    "for i in range(0, len(data), 2):\n",
    "    type = data[i][\"index\"].get(\"_type\")\n",
    "    if type not in types:\n",
    "        types.append(type)\n",
    "print(types)\n"
   ]
  },
  {
   "cell_type": "code",
   "execution_count": 24,
   "metadata": {},
   "outputs": [
    {
     "name": "stderr",
     "output_type": "stream",
     "text": [
      "/tmp/ipykernel_6329/72972983.py:2: DeprecationWarning: Passing transport options in the API method is deprecated. Use 'Elasticsearch.options()' instead.\n",
      "  client.indices.delete(index=index_name, ignore=[400, 404])\n",
      "/tmp/ipykernel_6329/72972983.py:2: ElasticsearchWarning: Elasticsearch built-in security features are not enabled. Without authentication, your cluster could be accessible to anyone. See https://www.elastic.co/guide/en/elasticsearch/reference/7.17/security-minimal-setup.html to enable security.\n",
      "  client.indices.delete(index=index_name, ignore=[400, 404])\n",
      "/tmp/ipykernel_6329/72972983.py:3: DeprecationWarning: Passing transport options in the API method is deprecated. Use 'Elasticsearch.options()' instead.\n",
      "  client.indices.create(index=index_name, ignore=400)\n",
      "/tmp/ipykernel_6329/72972983.py:3: ElasticsearchWarning: Elasticsearch built-in security features are not enabled. Without authentication, your cluster could be accessible to anyone. See https://www.elastic.co/guide/en/elasticsearch/reference/7.17/security-minimal-setup.html to enable security.\n",
      "  client.indices.create(index=index_name, ignore=400)\n"
     ]
    },
    {
     "data": {
      "text/plain": [
       "ObjectApiResponse({'acknowledged': True, 'shards_acknowledged': True, 'index': 'shakespeare'})"
      ]
     },
     "execution_count": 24,
     "metadata": {},
     "output_type": "execute_result"
    }
   ],
   "source": [
    "index_name = \"shakespeare\"\n",
    "client.indices.delete(index=index_name, ignore=[400, 404])\n",
    "client.indices.create(index=index_name, ignore=400)"
   ]
  },
  {
   "cell_type": "code",
   "execution_count": 25,
   "metadata": {},
   "outputs": [
    {
     "name": "stderr",
     "output_type": "stream",
     "text": [
      "/tmp/ipykernel_6329/1790052615.py:12: ElasticsearchWarning: Elasticsearch built-in security features are not enabled. Without authentication, your cluster could be accessible to anyone. See https://www.elastic.co/guide/en/elasticsearch/reference/7.17/security-minimal-setup.html to enable security.\n",
      "  helpers.bulk(client, actions=generate_doc(\"./shakespeare.json\", \"\"))\n"
     ]
    },
    {
     "data": {
      "text/plain": [
       "(111396, [])"
      ]
     },
     "execution_count": 25,
     "metadata": {},
     "output_type": "execute_result"
    }
   ],
   "source": [
    "from elasticsearch import helpers\n",
    "def generate_doc(file_path, type):\n",
    "    data = [json.loads(line) for line in open(file_path, \"rb\")]\n",
    "    for i in range(0, len(data), 2):\n",
    "        data[i].get(\"index\").get(\"_type\") == type\n",
    "        yield {\n",
    "        \"_index\": \"shakespeare-{}\".format(type),\n",
    "        \"_id\": data[i].get(\"index\").get(\"_id\"),\n",
    "        \"_source\": data[i+1]\n",
    "            }\n",
    "\n",
    "helpers.bulk(client, actions=generate_doc(\"./shakespeare.json\", \"act\"))\n",
    "helpers.bulk(client, actions=generate_doc(\"./shakespeare.json\", \"line\"))\n",
    "helpers.bulk(client, actions=generate_doc(\"./shakespeare.json\", \"scene\"))\n"
   ]
  }
 ],
 "metadata": {
  "kernelspec": {
   "display_name": "venv",
   "language": "python",
   "name": "python3"
  },
  "language_info": {
   "codemirror_mode": {
    "name": "ipython",
    "version": 3
   },
   "file_extension": ".py",
   "mimetype": "text/x-python",
   "name": "python",
   "nbconvert_exporter": "python",
   "pygments_lexer": "ipython3",
   "version": "3.10.12"
  },
  "orig_nbformat": 4
 },
 "nbformat": 4,
 "nbformat_minor": 2
}
