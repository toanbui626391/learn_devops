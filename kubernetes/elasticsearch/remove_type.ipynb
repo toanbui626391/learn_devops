{
 "cells": [
  {
   "cell_type": "markdown",
   "metadata": {},
   "source": [
    "### What are mapping type\n",
    "- type in elasticsearch is like table in relational database\n",
    "- Example:\n",
    "    - a twitter index might have a user type and a tweet type.\n",
    "    - twister index is like database in relational database while user, tweet type is like tables in that database\n",
    "- in older version, earch documents have _type metadata field to specified type in that indexx\n",
    "- each type have its own fields\n",
    "    - user may have firstname, lastname\n",
    "    - tweet may have content tweet at"
   ]
  },
  {
   "cell_type": "code",
   "execution_count": null,
   "metadata": {
    "vscode": {
     "languageId": "plaintext"
    }
   },
   "outputs": [],
   "source": [
    "#example, search in both user, tweet type of twitter index\n",
    "GET twitter/user,tweet/_search\n",
    "{\n",
    "  \"query\": {\n",
    "    \"match\": {\n",
    "      \"user_name\": \"kimchy\"\n",
    "    }\n",
    "  }\n",
    "}"
   ]
  },
  {
   "cell_type": "markdown",
   "metadata": {},
   "source": [
    "### Why mappping types are remove\n",
    "- two type in the same index with the sname name field is stored in the same field internally\n",
    "    - example, username in type user and username in type tweet is stored at the same field internally\n",
    "- storing different entities that have few or no fields in common in the same index leads to sparse data and interferes"
   ]
  },
  {
   "cell_type": "markdown",
   "metadata": {},
   "source": [
    "### Alternity for mapping type\n",
    "- one index per document type\n",
    "- custom type field"
   ]
  },
  {
   "cell_type": "code",
   "execution_count": null,
   "metadata": {
    "vscode": {
     "languageId": "plaintext"
    }
   },
   "outputs": [],
   "source": [
    "#create index twister with two types, user and tweet with mappings fields\n",
    "PUT twitter\n",
    "{\n",
    "  \"mappings\": {\n",
    "    \"user\": {\n",
    "      \"properties\": {\n",
    "        \"name\": { \"type\": \"text\" },\n",
    "        \"user_name\": { \"type\": \"keyword\" },\n",
    "        \"email\": { \"type\": \"keyword\" }\n",
    "      }\n",
    "    },\n",
    "    \"tweet\": {\n",
    "      \"properties\": {\n",
    "        \"content\": { \"type\": \"text\" },\n",
    "        \"user_name\": { \"type\": \"keyword\" },\n",
    "        \"tweeted_at\": { \"type\": \"date\" }\n",
    "      }\n",
    "    }\n",
    "  }\n",
    "}\n",
    "\n",
    "#add kimchy to type user\n",
    "PUT twitter/user/kimchy\n",
    "{\n",
    "  \"name\": \"Shay Banon\",\n",
    "  \"user_name\": \"kimchy\",\n",
    "  \"email\": \"shay@kimchy.com\"\n",
    "}\n",
    "\n",
    "#add tweet 1 to typye tweet\n",
    "PUT twitter/tweet/1\n",
    "{\n",
    "  \"user_name\": \"kimchy\",\n",
    "  \"tweeted_at\": \"2017-10-24T09:00:00Z\",\n",
    "  \"content\": \"Types are going away\"\n",
    "}\n",
    "\n",
    "#search tweet which have username is kimchy\n",
    "GET twitter/tweet/_search\n",
    "{\n",
    "  \"query\": {\n",
    "    \"match\": {\n",
    "      \"user_name\": \"kimchy\"\n",
    "    }\n",
    "  }\n",
    "}\n"
   ]
  },
  {
   "cell_type": "code",
   "execution_count": null,
   "metadata": {
    "vscode": {
     "languageId": "plaintext"
    }
   },
   "outputs": [],
   "source": [
    "#using custom mapping, by combine user and tweet with single type _doc\n",
    "PUT twitter\n",
    "{\n",
    "  \"mappings\": {\n",
    "    \"_doc\": {\n",
    "      \"properties\": {\n",
    "        \"type\": { \"type\": \"keyword\" }, \n",
    "        \"name\": { \"type\": \"text\" },\n",
    "        \"user_name\": { \"type\": \"keyword\" },\n",
    "        \"email\": { \"type\": \"keyword\" },\n",
    "        \"content\": { \"type\": \"text\" },\n",
    "        \"tweeted_at\": { \"type\": \"date\" }\n",
    "      }\n",
    "    }\n",
    "  }\n",
    "}\n",
    "\n",
    "#add user-kimchy to type _doc\n",
    "PUT twitter/_doc/user-kimchy\n",
    "{\n",
    "  \"type\": \"user\", \n",
    "  \"name\": \"Shay Banon\",\n",
    "  \"user_name\": \"kimchy\",\n",
    "  \"email\": \"shay@kimchy.com\"\n",
    "}\n",
    "\n",
    "#add tweet-1 to type _doc\n",
    "PUT twitter/_doc/tweet-1\n",
    "{\n",
    "  \"type\": \"tweet\", \n",
    "  \"user_name\": \"kimchy\",\n",
    "  \"tweeted_at\": \"2017-10-24T09:00:00Z\",\n",
    "  \"content\": \"Types are going away\"\n",
    "}\n",
    "\n",
    "#search tweet which have username is kimchy, with query and filter operation\n",
    "GET twitter/_search\n",
    "{\n",
    "  \"query\": {\n",
    "    \"bool\": {\n",
    "      \"must\": {\n",
    "        \"match\": {\n",
    "          \"user_name\": \"kimchy\"\n",
    "        }\n",
    "      },\n",
    "      \"filter\": {\n",
    "        \"match\": {\n",
    "          \"type\": \"tweet\" \n",
    "        }\n",
    "      }\n",
    "    }\n",
    "  }\n",
    "}\n",
    "\n"
   ]
  }
 ],
 "metadata": {
  "language_info": {
   "name": "python"
  },
  "orig_nbformat": 4
 },
 "nbformat": 4,
 "nbformat_minor": 2
}
