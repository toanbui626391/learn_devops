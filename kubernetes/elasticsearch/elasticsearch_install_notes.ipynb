{
 "cells": [
  {
   "cell_type": "markdown",
   "metadata": {},
   "source": [
    "# Install Elasticsearch with single node\n",
    "- reference link: https://github.com/elastic/helm-charts/tree/main/elasticsearch"
   ]
  },
  {
   "cell_type": "markdown",
   "metadata": {},
   "source": [
    "### Local config\n",
    "- change ./values.yaml to do the config\n",
    "- replicas: number of pods for each statefulset deployment. set this to 1\n",
    "- minimumMasterNodes: mininum master node. set to 1\n",
    "- secret.password: set password for default elastic user. if do not set password will generate randomly\n",
    "- make your first request: curl -u \"elastic:$password\" -k \"http://localhost:9200\""
   ]
  }
 ],
 "metadata": {
  "language_info": {
   "name": "python"
  },
  "orig_nbformat": 4
 },
 "nbformat": 4,
 "nbformat_minor": 2
}
