{
 "cells": [
  {
   "cell_type": "code",
   "execution_count": 7,
   "metadata": {},
   "outputs": [
    {
     "name": "stdout",
     "output_type": "stream",
     "text": [
      "{\"_index\":\"accounts\",\"_type\":\"person\",\"_id\":\"1\",\"_version\":2,\"result\":\"updated\",\"_shards\":{\"total\":2,\"successful\":1,\"failed\":0},\"_seq_no\":1,\"_primary_term\":1}\n"
     ]
    }
   ],
   "source": [
    "import requests, json\n",
    "#reference link: https://www.elastic.co/blog/a-practical-introduction-to-elasticsearch\n",
    "#reference to load data: https://www.elastic.co/guide/en/kibana/5.5/tutorial-load-dataset.html\n",
    "url = \"http://localhost:9200/accounts/person/1\"\n",
    "user = \"elastic\"\n",
    "password = \"password\"\n",
    "data = {\n",
    "    \"name\" : \"John\",\n",
    "    \"lastname\" : \"Doe\",\n",
    "    \"job_description\" : \"Systems administrator and Linux specialit\"\n",
    "}\n",
    "json_data = json.dumps(data) #serialize dict to json string\n",
    "test = requests.post(url, data=json_data, auth=(user, password), headers={\"Content-Type\": \"application/json\"})\n",
    "print(test.text)"
   ]
  },
  {
   "cell_type": "code",
   "execution_count": 13,
   "metadata": {},
   "outputs": [
    {
     "name": "stdout",
     "output_type": "stream",
     "text": [
      "b'{\"_index\":\"accounts\",\"_type\":\"person\",\"_id\":\"1\",\"_version\":3,\"_seq_no\":2,\"_primary_term\":1,\"found\":true,\"_source\":{\"name\":\"John\",\"lastname\":\"Doe\",\"job_description\":\"Systems administrator and Linux specialist\"}}'\n"
     ]
    }
   ],
   "source": [
    "#get document from elastic search\n",
    "url = \"http://localhost:9200/accounts/person/1\"\n",
    "test = requests.get(url, auth=(user, password))\n",
    "print(test.content)"
   ]
  },
  {
   "cell_type": "code",
   "execution_count": 11,
   "metadata": {},
   "outputs": [
    {
     "data": {
      "text/plain": [
       "b'{\"_index\":\"accounts\",\"_type\":\"person\",\"_id\":\"1\",\"_version\":3,\"result\":\"updated\",\"_shards\":{\"total\":2,\"successful\":1,\"failed\":0},\"_seq_no\":2,\"_primary_term\":1}'"
      ]
     },
     "execution_count": 11,
     "metadata": {},
     "output_type": "execute_result"
    }
   ],
   "source": [
    "#update\n",
    "url = \"http://localhost:9200/accounts/person/1/_update\"\n",
    "data = {\n",
    "      \"doc\":{\n",
    "          \"job_description\" : \"Systems administrator and Linux specialist\"\n",
    "       }\n",
    "}\n",
    "json_data = json.dumps(data)\n",
    "test = requests.post(url, data=json_data, auth=(user, password), headers={\"Content-Type\": \"application/json\"})\n",
    "test.content"
   ]
  },
  {
   "cell_type": "markdown",
   "metadata": {},
   "source": [
    "### Note about objects in elastic search\n",
    "- documents (doc) is smallest entity it is just like row in sql database\n",
    "- kind: is like a table in sql database\n",
    "- index: is like a database in sql database which is a collection of kinds\n",
    "- example: index:accounts, type: person, id: doc id"
   ]
  },
  {
   "cell_type": "code",
   "execution_count": 15,
   "metadata": {},
   "outputs": [
    {
     "data": {
      "text/plain": [
       "b'{\"_index\":\"accounts\",\"_type\":\"person\",\"_id\":\"2\",\"_version\":1,\"result\":\"created\",\"_shards\":{\"total\":2,\"successful\":1,\"failed\":0},\"_seq_no\":3,\"_primary_term\":1}'"
      ]
     },
     "execution_count": 15,
     "metadata": {},
     "output_type": "execute_result"
    }
   ],
   "source": [
    "#create doc about person 2\n",
    "url = \"http://localhost:9200/accounts/person/2\"\n",
    "data = {\n",
    "    \"name\" : \"John\",\n",
    "    \"lastname\" : \"Smith\",\n",
    "    \"job_description\" : \"Systems administrator\"\n",
    "}\n",
    "json_data = json.dumps(data)\n",
    "test = requests.post(url, data=json_data, auth=(user, password), headers={\"Content-Type\": \"application/json\"})\n",
    "test.content"
   ]
  },
  {
   "cell_type": "code",
   "execution_count": 19,
   "metadata": {},
   "outputs": [
    {
     "name": "stdout",
     "output_type": "stream",
     "text": [
      "{\n",
      "    \"_shards\": {\n",
      "        \"failed\": 0,\n",
      "        \"skipped\": 0,\n",
      "        \"successful\": 57,\n",
      "        \"total\": 57\n",
      "    },\n",
      "    \"hits\": {\n",
      "        \"hits\": [\n",
      "            {\n",
      "                \"_id\": \"1\",\n",
      "                \"_index\": \"accounts\",\n",
      "                \"_score\": 0.18232156,\n",
      "                \"_source\": {\n",
      "                    \"job_description\": \"Systems administrator and Linux specialist\",\n",
      "                    \"lastname\": \"Doe\",\n",
      "                    \"name\": \"John\"\n",
      "                },\n",
      "                \"_type\": \"person\"\n",
      "            },\n",
      "            {\n",
      "                \"_id\": \"2\",\n",
      "                \"_index\": \"accounts\",\n",
      "                \"_score\": 0.18232156,\n",
      "                \"_source\": {\n",
      "                    \"job_description\": \"Systems administrator\",\n",
      "                    \"lastname\": \"Smith\",\n",
      "                    \"name\": \"John\"\n",
      "                },\n",
      "                \"_type\": \"person\"\n",
      "            }\n",
      "        ],\n",
      "        \"max_score\": 0.18232156,\n",
      "        \"total\": {\n",
      "            \"relation\": \"eq\",\n",
      "            \"value\": 2\n",
      "        }\n",
      "    },\n",
      "    \"timed_out\": false,\n",
      "    \"took\": 152\n",
      "}\n"
     ]
    }
   ],
   "source": [
    "#search string john\n",
    "url = \"http://localhost:9200/_search?q=john\"\n",
    "test = requests.get(url, auth=(user, password))\n",
    "#using json.dumps() to beauify json string\n",
    "print(json.dumps(test.json(), indent=4, sort_keys=True))"
   ]
  },
  {
   "cell_type": "code",
   "execution_count": 20,
   "metadata": {},
   "outputs": [
    {
     "name": "stdout",
     "output_type": "stream",
     "text": [
      "{\n",
      "    \"_shards\": {\n",
      "        \"failed\": 0,\n",
      "        \"skipped\": 0,\n",
      "        \"successful\": 57,\n",
      "        \"total\": 57\n",
      "    },\n",
      "    \"hits\": {\n",
      "        \"hits\": [\n",
      "            {\n",
      "                \"_id\": \"2\",\n",
      "                \"_index\": \"accounts\",\n",
      "                \"_score\": 0.6931471,\n",
      "                \"_source\": {\n",
      "                    \"job_description\": \"Systems administrator\",\n",
      "                    \"lastname\": \"Smith\",\n",
      "                    \"name\": \"John\"\n",
      "                },\n",
      "                \"_type\": \"person\"\n",
      "            }\n",
      "        ],\n",
      "        \"max_score\": 0.6931471,\n",
      "        \"total\": {\n",
      "            \"relation\": \"eq\",\n",
      "            \"value\": 1\n",
      "        }\n",
      "    },\n",
      "    \"timed_out\": false,\n",
      "    \"took\": 129\n",
      "}\n"
     ]
    }
   ],
   "source": [
    "#search for string smith\n",
    "url = \"http://localhost:9200/_search?q=smith\"\n",
    "test = requests.get(url, auth=(user, password))\n",
    "#using json.dumps() to beauify json string\n",
    "print(json.dumps(test.json(), indent=4, sort_keys=True))"
   ]
  },
  {
   "cell_type": "code",
   "execution_count": 21,
   "metadata": {},
   "outputs": [
    {
     "name": "stdout",
     "output_type": "stream",
     "text": [
      "{\n",
      "    \"_shards\": {\n",
      "        \"failed\": 0,\n",
      "        \"skipped\": 0,\n",
      "        \"successful\": 57,\n",
      "        \"total\": 57\n",
      "    },\n",
      "    \"hits\": {\n",
      "        \"hits\": [],\n",
      "        \"max_score\": null,\n",
      "        \"total\": {\n",
      "            \"relation\": \"eq\",\n",
      "            \"value\": 0\n",
      "        }\n",
      "    },\n",
      "    \"timed_out\": false,\n",
      "    \"took\": 15\n",
      "}\n"
     ]
    }
   ],
   "source": [
    "url = \"http://localhost:9200/_search?q=job_description:john\"\n",
    "test = requests.get(url, auth=(user, password))\n",
    "#using json.dumps() to beauify json string\n",
    "print(json.dumps(test.json(), indent=4, sort_keys=True))"
   ]
  },
  {
   "cell_type": "code",
   "execution_count": 22,
   "metadata": {},
   "outputs": [
    {
     "name": "stdout",
     "output_type": "stream",
     "text": [
      "{\n",
      "    \"_shards\": {\n",
      "        \"failed\": 0,\n",
      "        \"skipped\": 0,\n",
      "        \"successful\": 1,\n",
      "        \"total\": 1\n",
      "    },\n",
      "    \"hits\": {\n",
      "        \"hits\": [\n",
      "            {\n",
      "                \"_id\": \"1\",\n",
      "                \"_index\": \"accounts\",\n",
      "                \"_score\": 0.5897495,\n",
      "                \"_source\": {\n",
      "                    \"job_description\": \"Systems administrator and Linux specialist\",\n",
      "                    \"lastname\": \"Doe\",\n",
      "                    \"name\": \"John\"\n",
      "                },\n",
      "                \"_type\": \"person\"\n",
      "            }\n",
      "        ],\n",
      "        \"max_score\": 0.5897495,\n",
      "        \"total\": {\n",
      "            \"relation\": \"eq\",\n",
      "            \"value\": 1\n",
      "        }\n",
      "    },\n",
      "    \"timed_out\": false,\n",
      "    \"took\": 5\n",
      "}\n"
     ]
    }
   ],
   "source": [
    "#search job_description with string lin\n",
    "url = \"http://localhost:9200/accounts/person/_search?q=job_description:linux\"\n",
    "test = requests.get(url, auth=(user, password))\n",
    "#using json.dumps() to beauify json string\n",
    "print(json.dumps(test.json(), indent=4, sort_keys=True))"
   ]
  },
  {
   "cell_type": "code",
   "execution_count": 23,
   "metadata": {},
   "outputs": [
    {
     "name": "stdout",
     "output_type": "stream",
     "text": [
      "--2023-08-03 13:34:53--  https://download.elastic.co/demos/kibana/gettingstarted/shakespeare.json\n",
      "Resolving download.elastic.co (download.elastic.co)... 34.120.127.130, 2600:1901:0:1d7::\n",
      "Connecting to download.elastic.co (download.elastic.co)|34.120.127.130|:443... connected.\n",
      "HTTP request sent, awaiting response... 200 OK\n",
      "Length: 25216068 (24M) [binary/octet-stream]\n",
      "Saving to: ‘shakespeare.json’\n",
      "\n",
      "shakespeare.json    100%[===================>]  24.05M  5.83MB/s    in 5.2s    \n",
      "\n",
      "2023-08-03 13:34:59 (4.64 MB/s) - ‘shakespeare.json’ saved [25216068/25216068]\n",
      "\n"
     ]
    }
   ],
   "source": [
    "# delete docs and index\n"
   ]
  },
  {
   "cell_type": "markdown",
   "metadata": {},
   "source": [
    "### Buld load data into elasticsearch"
   ]
  },
  {
   "cell_type": "code",
   "execution_count": 49,
   "metadata": {},
   "outputs": [
    {
     "name": "stdout",
     "output_type": "stream",
     "text": [
      "--2023-08-03 14:30:23--  https://download.elastic.co/demos/kibana/gettingstarted/shakespeare.json\n",
      "Resolving download.elastic.co (download.elastic.co)... 34.120.127.130, 2600:1901:0:1d7::\n",
      "Connecting to download.elastic.co (download.elastic.co)|34.120.127.130|:443... connected.\n",
      "HTTP request sent, awaiting response... 200 OK\n",
      "Length: 25216068 (24M) [binary/octet-stream]\n",
      "Saving to: ‘shakespeare.json’\n",
      "\n",
      "shakespeare.json    100%[===================>]  24.05M  1.84MB/s    in 13s     \n",
      "\n",
      "2023-08-03 14:30:38 (1.89 MB/s) - ‘shakespeare.json’ saved [25216068/25216068]\n",
      "\n"
     ]
    }
   ],
   "source": [
    "#download example data\n",
    "!wget https://download.elastic.co/demos/kibana/gettingstarted/shakespeare.json\n"
   ]
  },
  {
   "cell_type": "code",
   "execution_count": 46,
   "metadata": {},
   "outputs": [
    {
     "data": {
      "text/plain": [
       "b'{\"acknowledged\":true,\"shards_acknowledged\":true,\"index\":\"shakespeare\"}'"
      ]
     },
     "execution_count": 46,
     "metadata": {},
     "output_type": "execute_result"
    }
   ],
   "source": [
    "#define mapping for an index\n",
    "    #mapping: is the process to define how documents and the fields it contained stored and index\n",
    "    #mapping reference link: https://www.elastic.co/guide/en/elasticsearch/reference/5.5/mapping.html\n",
    "url = \"http://localhost:9200/shakespeare\"\n",
    "# with open(\"./shakespeare_mapping.json\", mode=\"r\") as fp:\n",
    "#     json_data = json.dumps(json.load(fp))\n",
    "\n",
    "json_data = json.dumps(data)\n",
    "test = requests.put(url, data=json.dumps({}), auth=(user, password), headers={\"Content-Type\": \"application/json\"})\n",
    "test.content"
   ]
  },
  {
   "cell_type": "code",
   "execution_count": 62,
   "metadata": {},
   "outputs": [],
   "source": [
    "url = \"http://localhost:9200/shakespeare/_bulk?pretty\"\n",
    "#put request with binary data as input\n",
    "test = requests.put(url, data=open(\"./shakespeare.json\", \"rb\"), auth=(user, password), headers={\"Content-Type\": \"application/x-ndjson\"})"
   ]
  },
  {
   "cell_type": "code",
   "execution_count": 73,
   "metadata": {},
   "outputs": [
    {
     "name": "stdout",
     "output_type": "stream",
     "text": [
      "{\n",
      "    \"_shards\": {\n",
      "        \"failed\": 0,\n",
      "        \"skipped\": 0,\n",
      "        \"successful\": 1,\n",
      "        \"total\": 1\n",
      "    },\n",
      "    \"hits\": {\n",
      "        \"hits\": [\n",
      "            {\n",
      "                \"_id\": \"0\",\n",
      "                \"_index\": \"shakespeare\",\n",
      "                \"_score\": 1.0,\n",
      "                \"_source\": {\n",
      "                    \"line_id\": 1,\n",
      "                    \"line_number\": \"\",\n",
      "                    \"play_name\": \"Henry IV\",\n",
      "                    \"speaker\": \"\",\n",
      "                    \"speech_number\": \"\",\n",
      "                    \"text_entry\": \"ACT I\"\n",
      "                },\n",
      "                \"_type\": \"act\"\n",
      "            },\n",
      "            {\n",
      "                \"_id\": \"1\",\n",
      "                \"_index\": \"shakespeare\",\n",
      "                \"_score\": 1.0,\n",
      "                \"_source\": {\n",
      "                    \"line_id\": 2,\n",
      "                    \"line_number\": \"\",\n",
      "                    \"play_name\": \"Henry IV\",\n",
      "                    \"speaker\": \"\",\n",
      "                    \"speech_number\": \"\",\n",
      "                    \"text_entry\": \"SCENE I. London. The palace.\"\n",
      "                },\n",
      "                \"_type\": \"act\"\n",
      "            },\n",
      "            {\n",
      "                \"_id\": \"2\",\n",
      "                \"_index\": \"shakespeare\",\n",
      "                \"_score\": 1.0,\n",
      "                \"_source\": {\n",
      "                    \"line_id\": 3,\n",
      "                    \"line_number\": \"\",\n",
      "                    \"play_name\": \"Henry IV\",\n",
      "                    \"speaker\": \"\",\n",
      "                    \"speech_number\": \"\",\n",
      "                    \"text_entry\": \"Enter KING HENRY, LORD JOHN OF LANCASTER, the EARL of WESTMORELAND, SIR WALTER BLUNT, and others\"\n",
      "                },\n",
      "                \"_type\": \"act\"\n",
      "            },\n",
      "            {\n",
      "                \"_id\": \"3\",\n",
      "                \"_index\": \"shakespeare\",\n",
      "                \"_score\": 1.0,\n",
      "                \"_source\": {\n",
      "                    \"line_id\": 4,\n",
      "                    \"line_number\": \"1.1.1\",\n",
      "                    \"play_name\": \"Henry IV\",\n",
      "                    \"speaker\": \"KING HENRY IV\",\n",
      "                    \"speech_number\": 1,\n",
      "                    \"text_entry\": \"So shaken as we are, so wan with care,\"\n",
      "                },\n",
      "                \"_type\": \"act\"\n",
      "            },\n",
      "            {\n",
      "                \"_id\": \"4\",\n",
      "                \"_index\": \"shakespeare\",\n",
      "                \"_score\": 1.0,\n",
      "                \"_source\": {\n",
      "                    \"line_id\": 5,\n",
      "                    \"line_number\": \"1.1.2\",\n",
      "                    \"play_name\": \"Henry IV\",\n",
      "                    \"speaker\": \"KING HENRY IV\",\n",
      "                    \"speech_number\": 1,\n",
      "                    \"text_entry\": \"Find we a time for frighted peace to pant,\"\n",
      "                },\n",
      "                \"_type\": \"act\"\n",
      "            },\n",
      "            {\n",
      "                \"_id\": \"5\",\n",
      "                \"_index\": \"shakespeare\",\n",
      "                \"_score\": 1.0,\n",
      "                \"_source\": {\n",
      "                    \"line_id\": 6,\n",
      "                    \"line_number\": \"1.1.3\",\n",
      "                    \"play_name\": \"Henry IV\",\n",
      "                    \"speaker\": \"KING HENRY IV\",\n",
      "                    \"speech_number\": 1,\n",
      "                    \"text_entry\": \"And breathe short-winded accents of new broils\"\n",
      "                },\n",
      "                \"_type\": \"act\"\n",
      "            },\n",
      "            {\n",
      "                \"_id\": \"6\",\n",
      "                \"_index\": \"shakespeare\",\n",
      "                \"_score\": 1.0,\n",
      "                \"_source\": {\n",
      "                    \"line_id\": 7,\n",
      "                    \"line_number\": \"1.1.4\",\n",
      "                    \"play_name\": \"Henry IV\",\n",
      "                    \"speaker\": \"KING HENRY IV\",\n",
      "                    \"speech_number\": 1,\n",
      "                    \"text_entry\": \"To be commenced in strands afar remote.\"\n",
      "                },\n",
      "                \"_type\": \"act\"\n",
      "            },\n",
      "            {\n",
      "                \"_id\": \"7\",\n",
      "                \"_index\": \"shakespeare\",\n",
      "                \"_score\": 1.0,\n",
      "                \"_source\": {\n",
      "                    \"line_id\": 8,\n",
      "                    \"line_number\": \"1.1.5\",\n",
      "                    \"play_name\": \"Henry IV\",\n",
      "                    \"speaker\": \"KING HENRY IV\",\n",
      "                    \"speech_number\": 1,\n",
      "                    \"text_entry\": \"No more the thirsty entrance of this soil\"\n",
      "                },\n",
      "                \"_type\": \"act\"\n",
      "            },\n",
      "            {\n",
      "                \"_id\": \"8\",\n",
      "                \"_index\": \"shakespeare\",\n",
      "                \"_score\": 1.0,\n",
      "                \"_source\": {\n",
      "                    \"line_id\": 9,\n",
      "                    \"line_number\": \"1.1.6\",\n",
      "                    \"play_name\": \"Henry IV\",\n",
      "                    \"speaker\": \"KING HENRY IV\",\n",
      "                    \"speech_number\": 1,\n",
      "                    \"text_entry\": \"Shall daub her lips with her own childrens blood;\"\n",
      "                },\n",
      "                \"_type\": \"act\"\n",
      "            },\n",
      "            {\n",
      "                \"_id\": \"9\",\n",
      "                \"_index\": \"shakespeare\",\n",
      "                \"_score\": 1.0,\n",
      "                \"_source\": {\n",
      "                    \"line_id\": 10,\n",
      "                    \"line_number\": \"1.1.7\",\n",
      "                    \"play_name\": \"Henry IV\",\n",
      "                    \"speaker\": \"KING HENRY IV\",\n",
      "                    \"speech_number\": 1,\n",
      "                    \"text_entry\": \"Nor more shall trenching war channel her fields,\"\n",
      "                },\n",
      "                \"_type\": \"act\"\n",
      "            }\n",
      "        ],\n",
      "        \"max_score\": 1.0,\n",
      "        \"total\": {\n",
      "            \"relation\": \"gte\",\n",
      "            \"value\": 10000\n",
      "        }\n",
      "    },\n",
      "    \"timed_out\": false,\n",
      "    \"took\": 8024\n",
      "}\n"
     ]
    }
   ],
   "source": [
    "#get all indeces\n",
    "url = \"http://localhost:9200/shakespeare/_search\"\n",
    "json_data = json.dumps({\n",
    "    \"query\": {\n",
    "            \"match_all\": {}\n",
    "    }\n",
    "})\n",
    "test = requests.get(url, data=json_data, auth=(user, password), headers={\"Content-Type\": \"application/json\"})\n",
    "print(json.dumps(test.json(), indent=4, sort_keys=True))"
   ]
  },
  {
   "cell_type": "code",
   "execution_count": 74,
   "metadata": {},
   "outputs": [
    {
     "name": "stdout",
     "output_type": "stream",
     "text": [
      "{\n",
      "    \"_shards\": {\n",
      "        \"failed\": 0,\n",
      "        \"skipped\": 0,\n",
      "        \"successful\": 1,\n",
      "        \"total\": 1\n",
      "    },\n",
      "    \"hits\": {\n",
      "        \"hits\": [],\n",
      "        \"max_score\": null,\n",
      "        \"total\": {\n",
      "            \"relation\": \"eq\",\n",
      "            \"value\": 0\n",
      "        }\n",
      "    },\n",
      "    \"timed_out\": false,\n",
      "    \"took\": 12\n",
      "}\n"
     ]
    }
   ],
   "source": [
    "#search with play_name field\n",
    "url = \"http://localhost:9200/shakespeare/scene/_search/\"\n",
    "json_data = json.dumps({\n",
    "    \"query\":{\n",
    "        \"match\" : {\n",
    "            \"play_name\" : \"Antony\"\n",
    "        }\n",
    "    }\n",
    "})\n",
    "test = requests.get(url, data=json_data, auth=(user, password), headers={\"Content-Type\": \"application/json\"})\n",
    "print(json.dumps(test.json(), indent=4, sort_keys=True))"
   ]
  },
  {
   "cell_type": "code",
   "execution_count": 75,
   "metadata": {},
   "outputs": [
    {
     "name": "stdout",
     "output_type": "stream",
     "text": [
      "{\n",
      "    \"_shards\": {\n",
      "        \"failed\": 0,\n",
      "        \"skipped\": 0,\n",
      "        \"successful\": 1,\n",
      "        \"total\": 1\n",
      "    },\n",
      "    \"hits\": {\n",
      "        \"hits\": [],\n",
      "        \"max_score\": null,\n",
      "        \"total\": {\n",
      "            \"relation\": \"eq\",\n",
      "            \"value\": 0\n",
      "        }\n",
      "    },\n",
      "    \"timed_out\": false,\n",
      "    \"took\": 1\n",
      "}\n"
     ]
    }
   ],
   "source": [
    "#search with play_name field\n",
    "url = \"http://localhost:9200/shakespeare/scene/_search/\"\n",
    "json_data = json.dumps({\n",
    "    \"query\":{\n",
    "        \"bool\": {\n",
    "            \"must\" : [\n",
    "                {\n",
    "                    \"match\" : {\n",
    "                        \"play_name\" : \"Antony\"\n",
    "                    }\n",
    "                },\n",
    "                {\n",
    "                    \"match\" : {\n",
    "                        \"speaker\" : \"Demetrius\"\n",
    "                    }\n",
    "                }\n",
    "            ]\n",
    "        }\n",
    "    }\n",
    "})\n",
    "test = requests.get(url, data=json_data, auth=(user, password), headers={\"Content-Type\": \"application/json\"})\n",
    "print(json.dumps(test.json(), indent=4, sort_keys=True))"
   ]
  },
  {
   "cell_type": "code",
   "execution_count": 76,
   "metadata": {},
   "outputs": [
    {
     "name": "stdout",
     "output_type": "stream",
     "text": [
      "{\n",
      "    \"_shards\": {\n",
      "        \"failed\": 0,\n",
      "        \"skipped\": 0,\n",
      "        \"successful\": 1,\n",
      "        \"total\": 1\n",
      "    },\n",
      "    \"aggregations\": {\n",
      "        \"Total plays\": {\n",
      "            \"value\": 36\n",
      "        }\n",
      "    },\n",
      "    \"hits\": {\n",
      "        \"hits\": [],\n",
      "        \"max_score\": null,\n",
      "        \"total\": {\n",
      "            \"relation\": \"gte\",\n",
      "            \"value\": 10000\n",
      "        }\n",
      "    },\n",
      "    \"timed_out\": false,\n",
      "    \"took\": 25\n",
      "}\n"
     ]
    }
   ],
   "source": [
    "#search with play_name field\n",
    "url = \"http://localhost:9200/shakespeare/_search\"\n",
    "json_data = json.dumps({\n",
    "    \"size\":0,\n",
    "    \"aggs\" : {\n",
    "        \"Total plays\" : {\n",
    "            \"cardinality\" : {\n",
    "                \"field\" : \"play_name.keyword\"\n",
    "            }\n",
    "        }\n",
    "    }\n",
    "})\n",
    "test = requests.get(url, data=json_data, auth=(user, password), headers={\"Content-Type\": \"application/json\"})\n",
    "print(json.dumps(test.json(), indent=4, sort_keys=True))"
   ]
  },
  {
   "cell_type": "code",
   "execution_count": 77,
   "metadata": {},
   "outputs": [
    {
     "name": "stdout",
     "output_type": "stream",
     "text": [
      "{\n",
      "    \"_shards\": {\n",
      "        \"failed\": 0,\n",
      "        \"skipped\": 0,\n",
      "        \"successful\": 1,\n",
      "        \"total\": 1\n",
      "    },\n",
      "    \"aggregations\": {\n",
      "        \"Total plays\": {\n",
      "            \"buckets\": [],\n",
      "            \"doc_count_error_upper_bound\": 0,\n",
      "            \"sum_other_doc_count\": 0\n",
      "        }\n",
      "    },\n",
      "    \"hits\": {\n",
      "        \"hits\": [],\n",
      "        \"max_score\": null,\n",
      "        \"total\": {\n",
      "            \"relation\": \"eq\",\n",
      "            \"value\": 0\n",
      "        }\n",
      "    },\n",
      "    \"timed_out\": false,\n",
      "    \"took\": 3\n",
      "}\n"
     ]
    }
   ],
   "source": [
    "#search with play_name field\n",
    "url = \"http://localhost:9200/shakespeare/scene/_search/\"\n",
    "json_data = json.dumps({\n",
    "    \"size\":0,\n",
    "    \"aggs\" : {\n",
    "        \"Total plays\" : {\n",
    "            \"terms\" : {\n",
    "                \"field\" : \"play_name.keyword\"\n",
    "            },\n",
    "            \"aggs\" : {\n",
    "                \"Per type\" : {\n",
    "                    \"terms\" : {\n",
    "                        \"field\" : \"_type\"\n",
    "                     }\n",
    "                }\n",
    "            }\n",
    "        }\n",
    "    }\n",
    "})\n",
    "test = requests.get(url, data=json_data, auth=(user, password), headers={\"Content-Type\": \"application/json\"})\n",
    "print(json.dumps(test.json(), indent=4, sort_keys=True))"
   ]
  }
 ],
 "metadata": {
  "kernelspec": {
   "display_name": "venv",
   "language": "python",
   "name": "python3"
  },
  "language_info": {
   "codemirror_mode": {
    "name": "ipython",
    "version": 3
   },
   "file_extension": ".py",
   "mimetype": "text/x-python",
   "name": "python",
   "nbconvert_exporter": "python",
   "pygments_lexer": "ipython3",
   "version": "3.10.12"
  },
  "orig_nbformat": 4
 },
 "nbformat": 4,
 "nbformat_minor": 2
}
