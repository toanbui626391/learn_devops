{
 "cells": [
  {
   "cell_type": "code",
   "execution_count": 7,
   "metadata": {},
   "outputs": [
    {
     "name": "stdout",
     "output_type": "stream",
     "text": [
      "{\"_index\":\"accounts\",\"_type\":\"person\",\"_id\":\"1\",\"_version\":2,\"result\":\"updated\",\"_shards\":{\"total\":2,\"successful\":1,\"failed\":0},\"_seq_no\":1,\"_primary_term\":1}\n"
     ]
    }
   ],
   "source": [
    "import requests, json\n",
    "#reference link: https://www.elastic.co/blog/a-practical-introduction-to-elasticsearch\n",
    "#reference to load data: https://www.elastic.co/guide/en/kibana/5.5/tutorial-load-dataset.html\n",
    "url = \"http://localhost:9200/accounts/person/1\"\n",
    "user = \"elastic\"\n",
    "password = \"password\"\n",
    "data = {\n",
    "    \"name\" : \"John\",\n",
    "    \"lastname\" : \"Doe\",\n",
    "    \"job_description\" : \"Systems administrator and Linux specialit\"\n",
    "}\n",
    "json_data = json.dumps(data) #serialize dict to json string\n",
    "test = requests.post(url, data=json_data, auth=(user, password), headers={\"Content-Type\": \"application/json\"})\n",
    "print(test.text)"
   ]
  },
  {
   "cell_type": "code",
   "execution_count": 13,
   "metadata": {},
   "outputs": [
    {
     "name": "stdout",
     "output_type": "stream",
     "text": [
      "b'{\"_index\":\"accounts\",\"_type\":\"person\",\"_id\":\"1\",\"_version\":3,\"_seq_no\":2,\"_primary_term\":1,\"found\":true,\"_source\":{\"name\":\"John\",\"lastname\":\"Doe\",\"job_description\":\"Systems administrator and Linux specialist\"}}'\n"
     ]
    }
   ],
   "source": [
    "#get document from elastic search\n",
    "url = \"http://localhost:9200/accounts/person/1\"\n",
    "test = requests.get(url, auth=(user, password))\n",
    "print(test.content)"
   ]
  },
  {
   "cell_type": "code",
   "execution_count": 11,
   "metadata": {},
   "outputs": [
    {
     "data": {
      "text/plain": [
       "b'{\"_index\":\"accounts\",\"_type\":\"person\",\"_id\":\"1\",\"_version\":3,\"result\":\"updated\",\"_shards\":{\"total\":2,\"successful\":1,\"failed\":0},\"_seq_no\":2,\"_primary_term\":1}'"
      ]
     },
     "execution_count": 11,
     "metadata": {},
     "output_type": "execute_result"
    }
   ],
   "source": [
    "#update\n",
    "url = \"http://localhost:9200/accounts/person/1/_update\"\n",
    "data = {\n",
    "      \"doc\":{\n",
    "          \"job_description\" : \"Systems administrator and Linux specialist\"\n",
    "       }\n",
    "}\n",
    "json_data = json.dumps(data)\n",
    "test = requests.post(url, data=json_data, auth=(user, password), headers={\"Content-Type\": \"application/json\"})\n",
    "test.content"
   ]
  },
  {
   "cell_type": "markdown",
   "metadata": {},
   "source": [
    "### Note about objects in elastic search\n",
    "- documents (doc) is smallest entity it is just like row in sql database\n",
    "- kind: is like a table in sql database\n",
    "- index: is like a database in sql database which is a collection of kinds\n",
    "- example: index:accounts, type: person, id: doc id"
   ]
  },
  {
   "cell_type": "code",
   "execution_count": 15,
   "metadata": {},
   "outputs": [
    {
     "data": {
      "text/plain": [
       "b'{\"_index\":\"accounts\",\"_type\":\"person\",\"_id\":\"2\",\"_version\":1,\"result\":\"created\",\"_shards\":{\"total\":2,\"successful\":1,\"failed\":0},\"_seq_no\":3,\"_primary_term\":1}'"
      ]
     },
     "execution_count": 15,
     "metadata": {},
     "output_type": "execute_result"
    }
   ],
   "source": [
    "#create doc about person 2\n",
    "url = \"http://localhost:9200/accounts/person/2\"\n",
    "data = {\n",
    "    \"name\" : \"John\",\n",
    "    \"lastname\" : \"Smith\",\n",
    "    \"job_description\" : \"Systems administrator\"\n",
    "}\n",
    "json_data = json.dumps(data)\n",
    "test = requests.post(url, data=json_data, auth=(user, password), headers={\"Content-Type\": \"application/json\"})\n",
    "test.content"
   ]
  },
  {
   "cell_type": "code",
   "execution_count": 19,
   "metadata": {},
   "outputs": [
    {
     "name": "stdout",
     "output_type": "stream",
     "text": [
      "{\n",
      "    \"_shards\": {\n",
      "        \"failed\": 0,\n",
      "        \"skipped\": 0,\n",
      "        \"successful\": 57,\n",
      "        \"total\": 57\n",
      "    },\n",
      "    \"hits\": {\n",
      "        \"hits\": [\n",
      "            {\n",
      "                \"_id\": \"1\",\n",
      "                \"_index\": \"accounts\",\n",
      "                \"_score\": 0.18232156,\n",
      "                \"_source\": {\n",
      "                    \"job_description\": \"Systems administrator and Linux specialist\",\n",
      "                    \"lastname\": \"Doe\",\n",
      "                    \"name\": \"John\"\n",
      "                },\n",
      "                \"_type\": \"person\"\n",
      "            },\n",
      "            {\n",
      "                \"_id\": \"2\",\n",
      "                \"_index\": \"accounts\",\n",
      "                \"_score\": 0.18232156,\n",
      "                \"_source\": {\n",
      "                    \"job_description\": \"Systems administrator\",\n",
      "                    \"lastname\": \"Smith\",\n",
      "                    \"name\": \"John\"\n",
      "                },\n",
      "                \"_type\": \"person\"\n",
      "            }\n",
      "        ],\n",
      "        \"max_score\": 0.18232156,\n",
      "        \"total\": {\n",
      "            \"relation\": \"eq\",\n",
      "            \"value\": 2\n",
      "        }\n",
      "    },\n",
      "    \"timed_out\": false,\n",
      "    \"took\": 152\n",
      "}\n"
     ]
    }
   ],
   "source": [
    "#search string john\n",
    "url = \"http://localhost:9200/_search?q=john\"\n",
    "test = requests.get(url, auth=(user, password))\n",
    "#using json.dumps() to beauify json string\n",
    "print(json.dumps(test.json(), indent=4, sort_keys=True))"
   ]
  },
  {
   "cell_type": "code",
   "execution_count": 20,
   "metadata": {},
   "outputs": [
    {
     "name": "stdout",
     "output_type": "stream",
     "text": [
      "{\n",
      "    \"_shards\": {\n",
      "        \"failed\": 0,\n",
      "        \"skipped\": 0,\n",
      "        \"successful\": 57,\n",
      "        \"total\": 57\n",
      "    },\n",
      "    \"hits\": {\n",
      "        \"hits\": [\n",
      "            {\n",
      "                \"_id\": \"2\",\n",
      "                \"_index\": \"accounts\",\n",
      "                \"_score\": 0.6931471,\n",
      "                \"_source\": {\n",
      "                    \"job_description\": \"Systems administrator\",\n",
      "                    \"lastname\": \"Smith\",\n",
      "                    \"name\": \"John\"\n",
      "                },\n",
      "                \"_type\": \"person\"\n",
      "            }\n",
      "        ],\n",
      "        \"max_score\": 0.6931471,\n",
      "        \"total\": {\n",
      "            \"relation\": \"eq\",\n",
      "            \"value\": 1\n",
      "        }\n",
      "    },\n",
      "    \"timed_out\": false,\n",
      "    \"took\": 129\n",
      "}\n"
     ]
    }
   ],
   "source": [
    "#search for string smith\n",
    "url = \"http://localhost:9200/_search?q=smith\"\n",
    "test = requests.get(url, auth=(user, password))\n",
    "#using json.dumps() to beauify json string\n",
    "print(json.dumps(test.json(), indent=4, sort_keys=True))"
   ]
  },
  {
   "cell_type": "code",
   "execution_count": 21,
   "metadata": {},
   "outputs": [
    {
     "name": "stdout",
     "output_type": "stream",
     "text": [
      "{\n",
      "    \"_shards\": {\n",
      "        \"failed\": 0,\n",
      "        \"skipped\": 0,\n",
      "        \"successful\": 57,\n",
      "        \"total\": 57\n",
      "    },\n",
      "    \"hits\": {\n",
      "        \"hits\": [],\n",
      "        \"max_score\": null,\n",
      "        \"total\": {\n",
      "            \"relation\": \"eq\",\n",
      "            \"value\": 0\n",
      "        }\n",
      "    },\n",
      "    \"timed_out\": false,\n",
      "    \"took\": 15\n",
      "}\n"
     ]
    }
   ],
   "source": [
    "url = \"http://localhost:9200/_search?q=job_description:john\"\n",
    "test = requests.get(url, auth=(user, password))\n",
    "#using json.dumps() to beauify json string\n",
    "print(json.dumps(test.json(), indent=4, sort_keys=True))"
   ]
  },
  {
   "cell_type": "code",
   "execution_count": 22,
   "metadata": {},
   "outputs": [
    {
     "name": "stdout",
     "output_type": "stream",
     "text": [
      "{\n",
      "    \"_shards\": {\n",
      "        \"failed\": 0,\n",
      "        \"skipped\": 0,\n",
      "        \"successful\": 1,\n",
      "        \"total\": 1\n",
      "    },\n",
      "    \"hits\": {\n",
      "        \"hits\": [\n",
      "            {\n",
      "                \"_id\": \"1\",\n",
      "                \"_index\": \"accounts\",\n",
      "                \"_score\": 0.5897495,\n",
      "                \"_source\": {\n",
      "                    \"job_description\": \"Systems administrator and Linux specialist\",\n",
      "                    \"lastname\": \"Doe\",\n",
      "                    \"name\": \"John\"\n",
      "                },\n",
      "                \"_type\": \"person\"\n",
      "            }\n",
      "        ],\n",
      "        \"max_score\": 0.5897495,\n",
      "        \"total\": {\n",
      "            \"relation\": \"eq\",\n",
      "            \"value\": 1\n",
      "        }\n",
      "    },\n",
      "    \"timed_out\": false,\n",
      "    \"took\": 5\n",
      "}\n"
     ]
    }
   ],
   "source": [
    "#search job_description with string lin\n",
    "url = \"http://localhost:9200/accounts/person/_search?q=job_description:linux\"\n",
    "test = requests.get(url, auth=(user, password))\n",
    "#using json.dumps() to beauify json string\n",
    "print(json.dumps(test.json(), indent=4, sort_keys=True))"
   ]
  },
  {
   "cell_type": "code",
   "execution_count": 23,
   "metadata": {},
   "outputs": [
    {
     "name": "stdout",
     "output_type": "stream",
     "text": [
      "--2023-08-03 13:34:53--  https://download.elastic.co/demos/kibana/gettingstarted/shakespeare.json\n",
      "Resolving download.elastic.co (download.elastic.co)... 34.120.127.130, 2600:1901:0:1d7::\n",
      "Connecting to download.elastic.co (download.elastic.co)|34.120.127.130|:443... connected.\n",
      "HTTP request sent, awaiting response... 200 OK\n",
      "Length: 25216068 (24M) [binary/octet-stream]\n",
      "Saving to: ‘shakespeare.json’\n",
      "\n",
      "shakespeare.json    100%[===================>]  24.05M  5.83MB/s    in 5.2s    \n",
      "\n",
      "2023-08-03 13:34:59 (4.64 MB/s) - ‘shakespeare.json’ saved [25216068/25216068]\n",
      "\n"
     ]
    }
   ],
   "source": [
    "# delete docs and index\n"
   ]
  },
  {
   "cell_type": "markdown",
   "metadata": {},
   "source": [
    "### Buld load data into elasticsearch"
   ]
  },
  {
   "cell_type": "code",
   "execution_count": null,
   "metadata": {},
   "outputs": [],
   "source": [
    "#download example data\n",
    "!wget https://download.elastic.co/demos/kibana/gettingstarted/shakespeare.json\n"
   ]
  },
  {
   "cell_type": "code",
   "execution_count": 33,
   "metadata": {},
   "outputs": [
    {
     "data": {
      "text/plain": [
       "b'{\"error\":{\"root_cause\":[{\"type\":\"mapper_parsing_exception\",\"reason\":\"Root mapping definition has unsupported parameters:  [_default_ : {properties={play_name={type=keyword}, speech_number={type=integer}, speaker={type=keyword}, line_id={type=integer}}}]\"}],\"type\":\"mapper_parsing_exception\",\"reason\":\"Failed to parse mapping [_doc]: Root mapping definition has unsupported parameters:  [_default_ : {properties={play_name={type=keyword}, speech_number={type=integer}, speaker={type=keyword}, line_id={type=integer}}}]\",\"caused_by\":{\"type\":\"mapper_parsing_exception\",\"reason\":\"Root mapping definition has unsupported parameters:  [_default_ : {properties={play_name={type=keyword}, speech_number={type=integer}, speaker={type=keyword}, line_id={type=integer}}}]\"}},\"status\":400}'"
      ]
     },
     "execution_count": 33,
     "metadata": {},
     "output_type": "execute_result"
    }
   ],
   "source": [
    "#define mapping for an index\n",
    "    #mapping: is the process to define how documents and the fields it contained stored and index\n",
    "    #mapping reference link: https://www.elastic.co/guide/en/elasticsearch/reference/5.5/mapping.html\n",
    "url = \"http://localhost:9200/shakespeare\"\n",
    "# with open(\"./shakespeare_mapping.json\", mode=\"r\") as fp:\n",
    "#     json_data = json.dumps(json.load(fp))\n",
    "\n",
    "json_data = json.dumps(data)\n",
    "test = requests.put(url, data=json.dumps({}), auth=(user, password), headers={\"Content-Type\": \"application/json\"})\n",
    "test.content"
   ]
  },
  {
   "cell_type": "code",
   "execution_count": 45,
   "metadata": {},
   "outputs": [
    {
     "name": "stdout",
     "output_type": "stream",
     "text": [
      "b'yellow open chart_chartusagestatisticsaspect_v1                      dodSkMSASKKTXnG5lh9DEw 1 1   0  0   226b   226b\\nyellow open datajobindex_v2                                          gvYJxdq9SQSuLzrJ8IVn_w 1 1   0  0   226b   226b\\nyellow open dataflowindex_v2                                         RJy9jxgzTgC03OUQ5P2KNw 1 1   0  0   226b   226b\\nyellow open mlmodelgroupindex_v2                                     dOJ5rMldQtOAHLqhJrvgIA 1 1   0  0   226b   226b\\nyellow open assertionindex_v2                                        vIiOHoVoSz-sLOVcQNjVvg 1 1   0  0   226b   226b\\nyellow open dataprocessindex_v2                                      7f1xBrgjQKm31eygbm75Xg 1 1   0  0   226b   226b\\nyellow open globalsettingsindex_v2                                   TYhBhsW_RYCT_F_Q9t9Eww 1 1   0  0   226b   226b\\nyellow open chartindex_v2                                            t3L_OCyST12cFtyp9u63jw 1 1   0  0   226b   226b\\nyellow open tagindex_v2                                              9DVKhxXwTkWs8WB0Pm3e-g 1 1   0  0   226b   226b\\nyellow open dataplatforminstanceindex_v2                             LKMgGUktRtm4bdxUHTe2Jg 1 1   0  0   226b   226b\\nyellow open telemetryindex_v2                                        N0ciD3vTS4eP4PlZaZOI0g 1 1   0  0   226b   226b\\nyellow open dataplatformindex_v2                                     I6UVPow6T9iVzR_APDrNvg 1 1  55  0   57kb   57kb\\nyellow open datajob_datahubingestionrunsummaryaspect_v1              V3_elQZ2QCqKzOpdoOfjyw 1 1   0  0   226b   226b\\nyellow open dataprocessinstanceindex_v2                              6ZcR23IJTTWygfCh71QLsw 1 1   0  0   226b   226b\\nyellow open dataproductindex_v2                                      IjxC28WjRqiQuSrxHOipQg 1 1   0  0   226b   226b\\nyellow open invitetokenindex_v2                                      _ZbhqoxlTRCydCjS7h3MIA 1 1   0  0   226b   226b\\nyellow open graph_service_v1                                         nyTN3Q9LSzqFzYUcc1b9hw 1 1   6  0  9.7kb  9.7kb\\nyellow open system_metadata_service_v1                               nUAi5SIBRqG8d6-E0DRtEw 1 1 112  0 39.1kb 39.1kb\\nyellow open dataset_operationaspect_v1                               nYOWy3SBSd6RdgStFJkDAA 1 1   0  0   226b   226b\\nyellow open containerindex_v2                                        nqVa8Ow8QRuo7j0DUvkRfA 1 1   0  0   226b   226b\\nyellow open schemafieldindex_v2                                      xmKcA3AxQwODuEx-0LKk2Q 1 1   0  0   226b   226b\\nyellow open domainindex_v2                                           3nNMGnmDQmGVss6QeRSJSw 1 1   0  0   226b   226b\\nyellow open notebookindex_v2                                         ew_H4szwRrywQro6zfJDdg 1 1   0  0   226b   226b\\nyellow open datahubupgradeindex_v2                                   XJn98PMkST6MbShZEN0oyg 1 1   0  0   226b   226b\\nyellow open datahubroleindex_v2                                      rLshcNSPQSu0ghi6RKgOmw 1 1   3  0 11.6kb 11.6kb\\nyellow open glossarytermindex_v2                                     C52wdBpSSWGbjsrajxZ6QA 1 1   0  0   226b   226b\\nyellow open postindex_v2                                             LPPjVChXQ_WLGHCOrv5IxA 1 1   0  0   226b   226b\\nyellow open dataset_datasetusagestatisticsaspect_v1                  0PRgRqcqRR2HaMbRKlcccQ 1 1   0  0   226b   226b\\nyellow open datahubsecretindex_v2                                    k8u3_UK7TmiF0yks4_pBDQ 1 1   0  0   226b   226b\\nyellow open datahubexecutionrequestindex_v2                          YZAixagBSh6CCE036kcnAQ 1 1   0  0   226b   226b\\nyellow open dataset_datasetprofileaspect_v1                          t-LQT18cTXuWHC3Gf0oPHg 1 1   0  0   226b   226b\\nyellow open mlmodelindex_v2                                          6X40NWwjTJ2grIiIarNw9g 1 1   0  0   226b   226b\\nyellow open datahubpolicyindex_v2                                    IF91IQHmTIad8LCtt80jYA 1 1  12  6 62.7kb 62.7kb\\nyellow open corpuserindex_v2                                         NXes6-uFScqA6wCvYj9zTg 1 1   1  0 10.6kb 10.6kb\\nyellow open datahubstepstateindex_v2                                 UVXLcwCCR-assMYp3Wz8XQ 1 1   0  0   226b   226b\\nyellow open .ds-datahub_usage_event-2023.07.29-000002                BUzgpYz4Rqu6bOW8VCA4Bg 1 1   0  0   226b   226b\\ngreen  open .geoip_databases                                         s3VdO8vWSV2SWv3x5MuMIw 1 0  42 42 39.4mb 39.4mb\\nyellow open datahubviewindex_v2                                      X0UzbjtQQMihUvi0gRUsZA 1 1   0  0   226b   226b\\nyellow open queryindex_v2                                            7c1PwcR9Q5m3AdZLL7VABg 1 1   0  0   226b   226b\\nyellow open mlmodeldeploymentindex_v2                                hesTUvF1TQ2XkI4uKa4v1g 1 1   0  0   226b   226b\\nyellow open datajob_datahubingestioncheckpointaspect_v1              GKh4_nDDTDCRqTJ3sh0a_A 1 1   0  0   226b   226b\\nyellow open dashboardindex_v2                                        F0GHKjXwTBy9Mx9RHEp78g 1 1   0  0   226b   226b\\nyellow open assertion_assertionruneventaspect_v1                     fLTFi-idRgKja6pNOCpY-w 1 1   0  0   226b   226b\\nyellow open datasetindex_v2                                          ypnEmOiLROypALT6XjuXWw 1 1   0  0   226b   226b\\nyellow open mlfeatureindex_v2                                        wIaMJWD7SQyUIemQlVG_qQ 1 1   0  0   226b   226b\\nyellow open dashboard_dashboardusagestatisticsaspect_v1              IBgLQ1XnSaKGw9Jrp1snqw 1 1   0  0   226b   226b\\nyellow open glossarynodeindex_v2                                     EOT3cVbySsq23HTmFnqTzQ 1 1   0  0   226b   226b\\nyellow open datahubingestionsourceindex_v2                           HXlri66iR8aYnJSlMwE0Nw 1 1   0  0   226b   226b\\nyellow open .ds-datahub_usage_event-2023.07.21-000001                sq_mz-x0RUivZCGBPloIog 1 1   0  0   226b   226b\\nyellow open datahubretentionindex_v2                                 8QKhOUtoTT-o45GGGRN0Yw 1 1   0  0   226b   226b\\nyellow open ownershiptypeindex_v2                                    018JTQq6TuqTAqzIbThhYQ 1 1   4  0 15.4kb 15.4kb\\nyellow open dataprocessinstance_dataprocessinstanceruneventaspect_v1 TysBpiPvRkOagP5kPw-YtA 1 1   0  0   226b   226b\\nyellow open datahubaccesstokenindex_v2                               z_tHygqESU6DVBH-3GOCGA 1 1   0  0   226b   226b\\nyellow open testindex_v2                                             dJPsNowzQzKsIyUqysUVCQ 1 1   0  0   226b   226b\\nyellow open mlfeaturetableindex_v2                                   BOQgUTzBQ7-ZwPZgPy6xdg 1 1   0  0   226b   226b\\nyellow open accounts                                                 oOIXxEh_Styf2wymRAmS1w 1 1   2  0 10.1kb 10.1kb\\nyellow open mlprimarykeyindex_v2                                     NUix3PmJT8qnyIOXG7wYPg 1 1   0  0   226b   226b\\nyellow open corpgroupindex_v2                                        cDUvAERjSFmhQfVInRZS3Q 1 1   0  0   226b   226b\\n'\n"
     ]
    }
   ],
   "source": [
    "#get all indeces\n",
    "url = \"http://localhost:9200/_cat/indices/_all\"\n",
    "test = requests.get(url, auth=(user, password))\n",
    "print(test.content)"
   ]
  }
 ],
 "metadata": {
  "kernelspec": {
   "display_name": "venv",
   "language": "python",
   "name": "python3"
  },
  "language_info": {
   "codemirror_mode": {
    "name": "ipython",
    "version": 3
   },
   "file_extension": ".py",
   "mimetype": "text/x-python",
   "name": "python",
   "nbconvert_exporter": "python",
   "pygments_lexer": "ipython3",
   "version": "3.10.12"
  },
  "orig_nbformat": 4
 },
 "nbformat": 4,
 "nbformat_minor": 2
}
