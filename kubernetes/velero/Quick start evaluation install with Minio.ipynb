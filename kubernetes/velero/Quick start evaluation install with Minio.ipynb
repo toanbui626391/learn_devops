{
 "cells": [
  {
   "cell_type": "markdown",
   "metadata": {},
   "source": [
    "# Quick start evaluation install with Minio\n",
    "- reference link: https://velero.io/docs/main/contributions/minio/\n",
    "- velero github repo: https://github.com/vmware-tanzu/velero/blob/main/examples/nginx-app/base.yaml"
   ]
  },
  {
   "cell_type": "markdown",
   "metadata": {},
   "source": [
    "### Install cli tools from github release\n",
    "- install velero cli\n",
    "    - go to release repo and download cli tools from asseit\n",
    "    - velero cli release repo: https://github.com/vmware-tanzu/velero/releases\n",
    "    - extra tar file and move cli bin directory to some directly which have been register in Path variable\n",
    "        - user bin directory usually will store executable directory and file for that user\n",
    "    - example code\n",
    "        - weget $asset_link\n",
    "        - tar -xvf $tar_file -C $destination_directory\n",
    "        - mv\n",
    "            - move directory to ~/bin\n",
    "- check cli have been install or not\n",
    "    - which velero"
   ]
  },
  {
   "cell_type": "markdown",
   "metadata": {},
   "source": [
    "### Setup Server\n",
    "- create specifice velero credential file\n",
    "    - file name: credentials-velero\n",
    "    - is a text file which store config for key_id and access_key\n",
    "- start minio server\n",
    "    - deploy minio on current k8s cluster\n",
    "        - kubectl apply -f examples/minio/00-minio-deployment.yaml\n",
    "- install velero again target cluster\n",
    "    - velero install\n",
    "- deploy example deployment\n",
    "    - kubectl apply -f $k8s_manifest.yaml\n",
    "- check deployment with kubectl get deployments\n",
    "    - kubectl get deployments\n",
    "        - kubectl get deployments -l component=velero --namespace=velero\n",
    "        - kubectl get deployments --namespace=nginx-example\n"
   ]
  }
 ],
 "metadata": {
  "language_info": {
   "name": "python"
  },
  "orig_nbformat": 4
 },
 "nbformat": 4,
 "nbformat_minor": 2
}
