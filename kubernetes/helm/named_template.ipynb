{
 "cells": [
  {
   "cell_type": "code",
   "execution_count": null,
   "metadata": {},
   "outputs": [],
   "source": []
  },
  {
   "attachments": {},
   "cell_type": "markdown",
   "metadata": {},
   "source": [
    "## Named Template\n",
    "- reference link: https://helm.sh/docs/chart_template_guide/named_templates/\n",
    "- key concepts:\n",
    "    - Partials and _ files\n",
    "    - Declaring and using templates with define and template\n",
    "    - Setting the scope of a template\n",
    "    - The include function"
   ]
  },
  {
   "attachments": {},
   "cell_type": "markdown",
   "metadata": {},
   "source": [
    "### Partials and _ files\n",
    "- understand files structure of a helm chart\n",
    "    - when using helm command to create helm chart in current directory. helm cli will create a directory with the name of the chart\n",
    "    - there are multiple files and folders in that directory like: Chart.yaml, values.yaml and templates\n",
    "    - templates directory is where you define your k8s manifest or k8s object\n",
    "    - templates directory is also hold:\n",
    "        - NOTES.txt which is notes and will not rendered\n",
    "        - other files start with _ will be partials or helper function. You can think as helper function to build other files in templates directory\n",
    "        - _helpers.tpl: is where we define partials or helper function\n",
    "- _helpers.tpl:\n",
    "    - by default, this is the file will store partials or helper function to build or render other files in templates directory"
   ]
  },
  {
   "attachments": {},
   "cell_type": "markdown",
   "metadata": {},
   "source": [
    "### Declaring and using templates with define and template\n",
    "- use keyword define to define named template\n",
    "- use keyword template to use named template\n",
    "- reference link for syntax: https://helm.sh/docs/chart_template_guide/named_templates/\n",
    "- named template is define at _helpers.tpl by default"
   ]
  },
  {
   "attachments": {},
   "cell_type": "markdown",
   "metadata": {},
   "source": [
    "### Setting the scope of a template\n",
    "- setting scope of templates so that the helm know where to get value for variables use in the template\n",
    "- Example:\n",
    "    - {{ template \"mychart.app\" . }}\n",
    "    - above example will set the scope of template named mychart.app to the current home chart directory.\n",
    "    - the dot (.) present the context for current chart scope\n",
    "    - therefore you can access:\n",
    "        - .Values : values.yaml file\n",
    "        - .Chart.Name\n",
    "        - .Chart.Version\n",
    "- it is best practice to set scope of a chart at current chart home directory\n"
   ]
  },
  {
   "attachments": {},
   "cell_type": "markdown",
   "metadata": {},
   "source": [
    "The include function"
   ]
  }
 ],
 "metadata": {
  "language_info": {
   "name": "python"
  },
  "orig_nbformat": 4
 },
 "nbformat": 4,
 "nbformat_minor": 2
}
