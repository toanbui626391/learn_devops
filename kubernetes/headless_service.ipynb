{
 "cells": [
  {
   "cell_type": "markdown",
   "metadata": {},
   "source": [
    "### Headless Service\n",
    "- service is to forward request to pods\n",
    "    - normal service use a sing cluster ip to present endpoint and outside request will communicate with pods through that endpoint\n",
    "- headless service is service without service ip. spec.clusterIp is set to None\n",
    "    - headless service will return all pods ip. so that request can communicate directly with all pods\n",
    "    - headless service used to config service for statefulset"
   ]
  }
 ],
 "metadata": {
  "language_info": {
   "name": "python"
  },
  "orig_nbformat": 4
 },
 "nbformat": 4,
 "nbformat_minor": 2
}
