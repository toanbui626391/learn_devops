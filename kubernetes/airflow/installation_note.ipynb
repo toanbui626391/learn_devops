{
 "cells": [
  {
   "cell_type": "markdown",
   "metadata": {},
   "source": [
    "# Install airflow on k8s with helm chart\n",
    "- reference link: https://github.com/airflow-helm/charts/tree/main/charts/airflow\n",
    "- guide to use the chart: https://github.com/airflow-helm/charts/blob/main/charts/airflow/docs/guides/quickstart.md"
   ]
  },
  {
   "cell_type": "markdown",
   "metadata": {},
   "source": [
    "### Choosing correct helm chart for deployment\n",
    "- we will using airflow community version\n",
    "- reference link: https://github.com/airflow-helm/charts/blob/main/charts/airflow/docs/guides/quickstart.md"
   ]
  },
  {
   "cell_type": "code",
   "execution_count": null,
   "metadata": {},
   "outputs": [],
   "source": [
    "## add this helm repository\n",
    "helm repo add airflow-stable https://airflow-helm.github.io/charts\n",
    "\n",
    "## update your helm repo cache\n",
    "helm repo update"
   ]
  },
  {
   "cell_type": "code",
   "execution_count": null,
   "metadata": {},
   "outputs": [],
   "source": [
    "## set the release-name & namespace\n",
    "export AIRFLOW_NAME=\"airflow-cluster\"\n",
    "export AIRFLOW_NAMESPACE=\"airflow-cluster\"\n",
    "\n",
    "## create the namespace\n",
    "kubectl create ns \"$AIRFLOW_NAMESPACE\"\n",
    "\n",
    "## install using helm 3\n",
    "helm upgrade --install \\\n",
    "  \"$AIRFLOW_NAME\" \\\n",
    "  airflow-stable/airflow \\\n",
    "  --namespace \"$AIRFLOW_NAMESPACE\" \\\n",
    "  --version \"8.X.X\" \\\n",
    "  --values ./CeleryKubernetesExecutor.yaml"
   ]
  },
  {
   "cell_type": "code",
   "execution_count": null,
   "metadata": {},
   "outputs": [],
   "source": [
    "## port-forward the airflow webserver\n",
    "kubectl port-forward svc/${AIRFLOW_NAME}-web 8080:8080 --namespace $AIRFLOW_NAMESPACE\n",
    "\n",
    "## open your browser to: http://localhost:8080 \n",
    "## (default login: `admin`/`admin`)"
   ]
  },
  {
   "cell_type": "markdown",
   "metadata": {},
   "source": [
    "### Deploy with official helm chart"
   ]
  },
  {
   "cell_type": "code",
   "execution_count": null,
   "metadata": {},
   "outputs": [],
   "source": [
    "helm repo add apache-airflow https://airflow.apache.org\n",
    "helm upgrade --install airflow apache-airflow/airflow --namespace airflow --create-namespace --values official-values.yaml"
   ]
  }
 ],
 "metadata": {
  "kernelspec": {
   "display_name": "venv",
   "language": "python",
   "name": "python3"
  },
  "language_info": {
   "name": "python",
   "version": "3.10.12"
  },
  "orig_nbformat": 4
 },
 "nbformat": 4,
 "nbformat_minor": 2
}
