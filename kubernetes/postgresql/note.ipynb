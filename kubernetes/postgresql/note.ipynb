{
 "cells": [
  {
   "cell_type": "code",
   "execution_count": null,
   "metadata": {},
   "outputs": [],
   "source": [
    "export POSTGRES_PASSWORD=$(microk8s kubectl get secret --namespace default postgresql -o jsonpath=\"{.data.postgres-password}\" | base64 -d)"
   ]
  },
  {
   "cell_type": "markdown",
   "metadata": {},
   "source": [
    "### install postgresql and pdadmin\n",
    "- install postgresql with bitnami helm chart\n",
    "    - reference link: https://github.com/bitnami/charts/tree/main/bitnami/postgresql/#installing-the-chart\n",
    "- get postgres password:\n",
    "    - export POSTGRES_PASSWORD=$(microk8s kubectl get secret --namespace default postgresql -o jsonpath=\"{.data.postgres-password}\" | base64 -d)\n",
    "- install pdadmin with helm chart\n",
    "    - reference link: https://github.com/cetic/helm-pgadmin"
   ]
  }
 ],
 "metadata": {
  "language_info": {
   "name": "python"
  },
  "orig_nbformat": 4
 },
 "nbformat": 4,
 "nbformat_minor": 2
}
