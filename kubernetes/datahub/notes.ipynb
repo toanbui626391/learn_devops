{
 "cells": [
  {
   "cell_type": "code",
   "execution_count": null,
   "metadata": {},
   "outputs": [],
   "source": []
  },
  {
   "attachments": {},
   "cell_type": "markdown",
   "metadata": {},
   "source": [
    "## Chart notes:\n",
    "- chart git address: https://github.com/acryldata/datahub-helm\n",
    "- helm repo:\n",
    "    - helm repo is repository to store charts\n",
    "    - a repo can have multiple charts\n",
    "    - a chart is just a collection of k8s object we want to deploy\n",
    "- helm repo command:\n",
    "    - syntax:  helm repo [command]\n",
    "        - to make action for helm repo run command like: helm repo + action command\n",
    "        - action command are: add, index, list, remove, update\n",
    "    - syntax: helm repo add [NAME] [URL] [flags]\n",
    "        - which means add repo from internet with the given URL to our local helm repo and named it NAME\n",
    "- helm search repo:\n",
    "    - search all repository to find available charts\n",
    "    - syntax: helm search repo [keyword] [flags]\n",
    "    - example: search for charts with named datahub with command ==> helm search repo datahub\n",
    "- helm search:\n",
    "    - to search for charts in artifactory hub or repo\n",
    "    - syntax: helm search [command]\n",
    "    - command can be: repo, hub    \n",
    "- list all installed charts\n",
    "    - command: helm list\n",
    "    - syntax: helm list [flags]\n",
    "- install a chart\n",
    "    - command: helm install\n",
    "    - syntax: helm install [NAME] [CHART] [flags]\n",
    "    - example:\n",
    "        - helm install prerequisites datahub/datahub-prerequisites\n",
    "        - using chart datahub/datahub-prerequisites to installed object to k8s and named installation prerequisites with default value\n"
   ]
  },
  {
   "attachments": {},
   "cell_type": "markdown",
   "metadata": {},
   "source": [
    "## Kuberntes notes:\n",
    "- to create secret\n",
    "    - syntax: kubectl create secret [flags] [options]\n",
    "    - available option: docker-registry, generic, tls\n",
    "    - example: \n",
    "        - create secret for mysql root password\n",
    "        - kubectl create secret generic mysql-secrets --from-literal=mysql-root-password=datahub\n",
    "        - assinged datahub string to varialbe mysql-root-password"
   ]
  },
  {
   "attachments": {},
   "cell_type": "markdown",
   "metadata": {},
   "source": [
    "### Zookeeper note\n",
    "- when run container with non-root group\n",
    "    - permission error with config file\n",
    "    - config file: /opt/bitnami/zookeeper/conf/zoo.cfg\n",
    "- copy files or directories from pods to local machine\n",
    "    - kubectl cp $pod_name:$source_path $target_path"
   ]
  },
  {
   "cell_type": "code",
   "execution_count": null,
   "metadata": {},
   "outputs": [],
   "source": [
    "#create postgresql secret\n",
    "kubectl create secret generic postgresql-secrets --from-literal=postgres-password=datahub --from-literal=replication-password=datahub --from-literal=password=datahub\n",
    "#deploy prerequisite components\n",
    "helm install prerequisites datahub/datahub-prerequisites --values ./prerequisites_values.yaml\n",
    "#deploy datahub components\n",
    "helm install datahub datahub/datahub --values ./datahub_values.yaml"
   ]
  }
 ],
 "metadata": {
  "kernelspec": {
   "display_name": "venv",
   "language": "python",
   "name": "python3"
  },
  "language_info": {
   "name": "python",
   "version": "3.10.12"
  },
  "orig_nbformat": 4
 },
 "nbformat": 4,
 "nbformat_minor": 2
}
