{
 "cells": [
  {
   "cell_type": "code",
   "execution_count": null,
   "metadata": {},
   "outputs": [],
   "source": []
  },
  {
   "attachments": {},
   "cell_type": "markdown",
   "metadata": {},
   "source": [
    "## Chart notes:\n",
    "- chart git address: https://github.com/acryldata/datahub-helm\n",
    "- helm repo:\n",
    "    - helm repo is repository to store charts\n",
    "    - a repo can have multiple charts\n",
    "    - a chart is just a collection of k8s object we want to deploy\n",
    "- helm repo command:\n",
    "    - syntax:  helm repo [command]\n",
    "        - to make action for helm repo run command like: helm repo + action command\n",
    "        - action command are: add, index, list, remove, update\n",
    "    - syntax: helm repo add [NAME] [URL] [flags]\n",
    "        - which means add repo from internet with the given URL to our local helm repo and named it NAME\n",
    "- helm search repo:\n",
    "    - search all repository to find available charts\n",
    "    - syntax: helm search repo [keyword] [flags]\n",
    "    - example: search for charts with named datahub with command ==> helm search repo datahub\n",
    "- helm search:\n",
    "    - to search for charts in artifactory hub or repo\n",
    "    - syntax: helm search [command]\n",
    "    - command can be: repo, hub    \n",
    "- list all installed charts\n",
    "    - command: helm list\n",
    "    - syntax: helm list [flags]\n",
    "- install a chart\n",
    "    - command: helm install\n",
    "    - syntax: helm install [NAME] [CHART] [flags]\n",
    "    - example:\n",
    "        - helm install prerequisites datahub/datahub-prerequisites\n",
    "        - using chart datahub/datahub-prerequisites to installed object to k8s and named installation prerequisites with default value\n"
   ]
  }
 ],
 "metadata": {
  "language_info": {
   "name": "python"
  },
  "orig_nbformat": 4
 },
 "nbformat": 4,
 "nbformat_minor": 2
}
