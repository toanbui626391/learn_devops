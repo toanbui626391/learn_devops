{
 "cells": [
  {
   "attachments": {},
   "cell_type": "markdown",
   "metadata": {},
   "source": [
    "# Installing Istio on a Minikube Cluster\n",
    "- reference link: https://kubebyexample.com/learning-paths/istio/install\n",
    "- learning points:\n",
    "    - Start the minikube instance, and verify that MetalLB is installed\n",
    "    - Install Istio on the minikube cluster\n",
    "    - Get the Istio ingress service endpoint\n",
    "    - Deploy the Istio add-ons\n",
    "    - Create an example application\n",
    "    - Generate traffic for the example application\n",
    "    - Access the Istio dashboard\n"
   ]
  },
  {
   "attachments": {},
   "cell_type": "markdown",
   "metadata": {},
   "source": [
    "### Start the minikube instance, and verify that MetalLB is installed\n",
    "- start minikube cluster with minikube start command, specified cpus, memory, profile and driver\n",
    "    - minikube start --cpus=4 --memory=8g --driver=virtualbox -p minikube2\n",
    "- verify metallb pods is running with kubectl get pods with specified namespace\n",
    "    - kubectl get pods -n metallb-system\n",
    "- write metallb loadbalancer config to yaml\n",
    "    - kubectl get configmap config -n metallb-system -o yaml"
   ]
  },
  {
   "attachments": {},
   "cell_type": "markdown",
   "metadata": {},
   "source": [
    "### Install Istio on the minikube cluster\n",
    "- set the istio version we need to get, get newer version than in the post\n",
    "    - export ISTIO_VERSION=1.17.3\n",
    "    - release reference link: https://istio.io/latest/news/releases/\n",
    "- download install file with wget command\n",
    "    - wget -c -nv \\\n",
    "        https://github.com/istio/istio/releases/download/${ISTIO_VERSION}/istio-${ISTIO_VERSION}-linux-amd64.tar.gz\n",
    "- extract file with tar command, remove file with rm command\n",
    "    - tar -xzf istio-${ISTIO_VERSION}-linux-amd64.tar.gz\n",
    "    - rm -v istio-${ISTIO_VERSION}-linux-amd64.tar.gz\n",
    "- update PATH environ variable which include user home bin directory\n",
    "    - export PATH=\"${PATH}:${HOME}/bin\"\n",
    "- create ~/bin directory if not exist\n",
    "    - mkdir -vp ~/bin\n",
    "- move and add execute permission to bin directory\n",
    "    - install --mode 0755 istio-${ISTIO_VERSION}/bin/istioctl ~/bin/\n",
    "- append new path environment to ~/.bashrc\n",
    "    - echo 'export PATH=\"${PATH}:${HOME}/bin\"' | tee -a ~/.bashrc\n",
    "        export PATH=\"${PATH}:${HOME}/bin\"\n",
    "- check command link directory with which command\n",
    "    - which istioctl\n",
    "- use istioctl command line to check minikube cluster\n",
    "    - istioctl experimental precheck\n",
    "- install istio to minikube cluster\n",
    "    - istioctl install --set profile=demo -y\n",
    "- list all deployments and pods\n",
    "    - kubectl get deployments,pods -n istio-system\n",
    "    - we have ingressgateway and egressgateway deployments, pods"
   ]
  },
  {
   "attachments": {},
   "cell_type": "markdown",
   "metadata": {},
   "source": [
    "### Get the Istio ingress service endpoint.\n",
    "- get services\n",
    "    - kubectl get services -n istio-system\n",
    "    - notes\n",
    "        - ingressgateway is a loadbalancer which have external ip provided by metallb\n",
    "- get external ip address of istio-ingressgateway\n",
    "    - istio-ingressgateway is a loadblancer service\n",
    "    - export INGRESS_HOST=$(kubectl get service \\\n",
    "        istio-ingressgateway -n istio-system \\\n",
    "        -o jsonpath='{.status.loadBalancer.ingress[0].ip}')\n",
    "- get istio-ingressgateway port for http request\n",
    "    - export INGRESS_PORT=$(kubectl get service \\\n",
    "        istio-ingressgateway -n istio-system \\\n",
    "        -o jsonpath='{.spec.ports[?(@.name==\"http2\")].port}')\n",
    "- get istio-ingressgateway port for https request\n",
    "    export SECURE_INGRESS_PORT=$(kubectl get service \\\n",
    "        istio-ingressgateway -n istio-system \\\n",
    "        -o jsonpath='{.spec.ports[?(@.name==\"https\")].port}')\n",
    "- get ingressgateway url path\n",
    "    - export GATEWAY_URL=\"${INGRESS_HOST}:${INGRESS_PORT}\""
   ]
  },
  {
   "attachments": {},
   "cell_type": "markdown",
   "metadata": {},
   "source": [
    "### Deploy the Istio add-ons.\n",
    "- list istio add one\n",
    "    - ls istio-${ISTIO_VERSION}/samples/addons/\n",
    "- apply add on to k8s cluster\n",
    "    - kubectl apply -f istio-${ISTIO_VERSION}/samples/addons\n",
    "- check add-on deployments status\n",
    "    - kubectl get deployments -n istio-system\n",
    "\n"
   ]
  },
  {
   "attachments": {},
   "cell_type": "markdown",
   "metadata": {},
   "source": [
    "### Create an example application\n",
    "- create k8s example application\n",
    "    - kubectl apply -f \\\n",
    "        istio-${ISTIO_VERSION}/samples/helloworld/helloworld.yaml\n",
    "- verify deployment and pods\n",
    "    - kubectl get deployments,pods -l app=helloworld\n",
    "    - notes\n",
    "        - we have two deployment and each deployment have two pod\n",
    "- verify the serivce have to external ip\n",
    "    - kubectl get services -l app=helloworld\n",
    "- create gateway and virtual service \n",
    "    - kubectl apply -f \\\n",
    "        istio-${ISTIO_VERSION}/samples/helloworld/helloworld-gateway.yaml\n",
    "    - notes:\n",
    "        - we need to know on the concept level what is the purpose of gateway and virtual service\n",
    "- get url path from virtual service\n",
    "    - kubectl get virtualservice helloworld \\\n",
    "        -o jsonpath='{.spec.http[0].match[0].uri}{\"\\n\"}'\n",
    "    - notes\n",
    "        - virtual service will define url routing"
   ]
  },
  {
   "attachments": {},
   "cell_type": "markdown",
   "metadata": {},
   "source": [
    "### Generate traffic for the example application\n",
    "- make request to url path define in virtual service\n",
    "    - curl -vk# \"http://${GATEWAY_URL}/hello\"\n",
    "- Inspect the commands contained in the loadgen.sh script\n",
    "    - grep -v '^#' \\\n",
    "        istio-${ISTIO_VERSION}/samples/helloworld/loadgen.sh\n",
    "    - loadgen.sh script generate request using while loop and curl command\n",
    "- run loadgen.sh script\n",
    "    - ./istio-${ISTIO_VERSION}/samples/helloworld/loadgen.sh"
   ]
  },
  {
   "attachments": {},
   "cell_type": "markdown",
   "metadata": {},
   "source": [
    "### Access the Istio dashboard\n",
    "- run istio dashboard\n",
    "    - istioctl dashboard kiali\n",
    "- in this section we just explore front-end kiali\n",
    "    - istio-gateway is where your request reach\n",
    "    - gateway forward request virtual service account which act as an balancer to forward request to deployment "
   ]
  },
  {
   "cell_type": "markdown",
   "metadata": {},
   "source": [
    "### Important information you get from istio\n",
    "- INGRESS_HOST: external ip of ingress service\n",
    "- INGRESS_PORT: port on service which will accept http request\n",
    "- SECURE_INGRESS_PORT: service port which accept https request\n",
    "- GATEWAY_URL: combination of ingress_host and ingress port\n",
    "kubectl label namespace default istio-injection=enabled --overwrite\n",
    " "
   ]
  },
  {
   "cell_type": "markdown",
   "metadata": {},
   "source": [
    "### Note about istio on k8s\n",
    "- istio is just an application on k8s with all the concept of deployment and pods\n",
    "- to use istio for ingress control on k8s we just need to care about istio-ingressgateway\n",
    "- to use istio for ingress control on k8s get:\n",
    "    - ingress service host\n",
    "    - ingress port for http\n",
    "    - ingress port for https\n",
    "- application can be on the same cluster or on different cluster\n",
    "- kiali is front-end tools for ingress control management\n",
    "    - remember to select namespace which application is live one\n",
    "- config ingress to application:\n",
    "    - we need running application (Deployment or StatefulSet)\n",
    "    - we need to config Gateway and Virtual Service account\n",
    "- analyze helloworld example\n",
    "    - deployment\n",
    "        - two deployments. Each has container's running port 5000\n",
    "    - gateway:\n",
    "        - define load balancer\n",
    "        - selector: which pods to process request\n",
    "        - server: port, request type, host that the gateway or loadbalancer will handle\n",
    "        - gateway api reference link: https://istio.io/latest/docs/reference/config/networking/gateway/\n",
    "    - virtual service\n",
    "        - define routing rule\n",
    "        - gatewate will be input for virtual service\n",
    "        - virtual service api reference link: https://istio.io/latest/docs/reference/config/networking/virtual-service/\n",
    "        - in hello world virtual service will forward request to helloworld service using service name\n",
    "        \n",
    "- gatewayurl is where istio service expose to request outsite k8s cluster"
   ]
  }
 ],
 "metadata": {
  "language_info": {
   "name": "python"
  },
  "orig_nbformat": 4
 },
 "nbformat": 4,
 "nbformat_minor": 2
}
