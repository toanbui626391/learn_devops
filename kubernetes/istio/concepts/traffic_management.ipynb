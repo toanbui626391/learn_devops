{
 "cells": [
  {
   "cell_type": "markdown",
   "metadata": {},
   "source": [
    "# Istio Traffic Management\n",
    "- Reference link: https://istio.io/latest/docs/concepts/traffic-management/"
   ]
  },
  {
   "cell_type": "markdown",
   "metadata": {},
   "source": [
    "### Important object list\n",
    "- Virtual Service\n",
    "- Destination rules\n",
    "- Gateway\n",
    "- Service Entry\n",
    "- Sidecars\n",
    "- Network resilience and testing"
   ]
  },
  {
   "cell_type": "markdown",
   "metadata": {},
   "source": [
    "### Virtual Service\n",
    "- definition: object which routing request to service\n",
    "- immportance config\n",
    "    - host:\n",
    "        - the user-addressable destination or destinations that these routing rules apply to\n",
    "        - user will use this host and virtual service will catch it and route input request to correct destination\n",
    "    - rounting rule\n",
    "        - match condition\n",
    "            - condition which request to apply for routing rule\n",
    "        - destination\n",
    "            - define where request routing to\n",
    "            - host in destination is real service istio's service registry\n",
    "            - in the case of k8s, destination host is k8s service\n",
    "    - routing precedence\n",
    "        - routing rules are from top to bottom. First rule will have higher priority\n",
    "- analyze ./example_virtual_service\n",
    "    - hosts: user make request using this host. virtual service object will handle request using this host\n",
    "    - http: config for http request\n",
    "    - match: condition to match request with destination\n",
    "    - destination: \n",
    "        - the real service which is on istio's service registry.\n",
    "- analyze ./example_virtual_service_2.yaml\n",
    "    - hosts: request host which this virtual service will handle. in this case bookinfo.com\n",
    "    - routing rule\n",
    "        - request bookinfo.com/reviews will be routing to k8s service name reviews\n",
    "        - request bookinfo.com/rating will be routing to k8s service name ratings"
   ]
  },
  {
   "cell_type": "markdown",
   "metadata": {},
   "source": [
    "### Destination rules\n",
    "- where to forward request to. in k8s cluster is k8s service\n",
    "- also config: load balancing mode, tls security mode, circuit breaker setting\n",
    "- Load balancing options\n",
    "    - least requests: forward incomming request to instance which have handle least requested\n",
    "    - Random\n",
    "    - Weighted\n",
    "    - Round robin: sequence"
   ]
  },
  {
   "cell_type": "markdown",
   "metadata": {},
   "source": [
    "### Gateway\n",
    "- gateway manage ingress and egress of istio.\n",
    "- gateway config allow which traffice to go in and out of istio\n",
    "- Gateway vs Virtual Service\n",
    "    - gateway will control which request allow to go in our go out of the cluster\n",
    "    - virtual service is define routing rule\n",
    "    - virtual service should and need to specify which gateway as it used to get ingress\n",
    "- analyze ./example_gateway.yaml\n",
    "    - this gateway allow https request with host ext-host.example.com, and with tls certificate protocal\n",
    "    - virtual service need to specify which gateway it get ingress config from"
   ]
  },
  {
   "cell_type": "markdown",
   "metadata": {},
   "source": [
    "### Entry Point\n",
    "- You use a service entry to add an entry to the service registry that Istio maintains internally\n",
    "- After you add the service entry, the Envoy proxies can send traffic to the service as if it was a service in your mesh. \n",
    "- example to show relation between Service Entry, egress Gateway, Virtual Service\n",
    "    - Gateway define egress rule: which traffic is allow to go outside of the cluster\n",
    "    - Virtual Service: routing rule to Service Entry\n",
    "    - Service Entry: A service but outsite of istio mess\n",
    "- combination between ServiceEntry and DestinationRule\n",
    "    - ServiceEntry specify the service can be access outsite the mess\n",
    "    - DestinationRule define traffice type at destination\n",
    "    - DestinationRule and ServiceEtnry connect toegher by host config"
   ]
  },
  {
   "cell_type": "markdown",
   "metadata": {},
   "source": [
    "### Sidecar\n",
    "- define type of envoy proxy which is schedual to each pods of target service\n",
    "- reference link: https://istio.io/latest/docs/reference/config/networking/sidecar/\n",
    "- sidecar example analyze:\n",
    "    - metadata.namespace: namespace which sidecard will be create\n",
    "    - egress.hosts[]: namespace which pod allow to have egress to"
   ]
  },
  {
   "cell_type": "markdown",
   "metadata": {},
   "source": [
    "### Istio Object which management straffic\n",
    "- Gateway: degin ingress or egress traffic allow to follow in or out\n",
    "- Virtual Service: routing rule after traffice go through Gateway\n",
    "- Destination Rule: Traffic config at destination \n",
    "- ServiceEntry: object which registry service outside the mess with istio and that we can make routing rule as if service is inside the mess"
   ]
  }
 ],
 "metadata": {
  "language_info": {
   "name": "python"
  },
  "orig_nbformat": 4
 },
 "nbformat": 4,
 "nbformat_minor": 2
}
