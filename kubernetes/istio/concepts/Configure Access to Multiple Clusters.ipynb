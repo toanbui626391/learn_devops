{
 "cells": [
  {
   "cell_type": "markdown",
   "metadata": {},
   "source": [
    "# Configure Access to Multiple Clusters\n",
    "- reference link: https://kubernetes.io/docs/tasks/access-application-cluster/configure-access-multiple-clusters/#create-a-second-configuration-file"
   ]
  },
  {
   "cell_type": "markdown",
   "metadata": {},
   "source": [
    "### Define clusters, users, and contexts\n",
    "- what we try to config\n",
    "    - two cluster: development, test\n",
    "    - development cluster namespace:\n",
    "        - frontend\n",
    "        - storage\n",
    "    - test cluster namespace:\n",
    "        - default\n",
    "    - cluster access:\n",
    "        - development:\n",
    "            - authenticate by certificate\n",
    "        - test:\n",
    "            - user and password"
   ]
  },
  {
   "cell_type": "markdown",
   "metadata": {},
   "source": [
    "### Analyze k8s config confiuration\n",
    "- set cluster address and authentication method\n",
    "    - kubectl config --kubeconfig=config-demo set-cluster development --server=https://1.2.3.4 --certificate-authority=fake-ca-file\n",
    "    - kubectl config --kubeconfig=config-demo set-cluster test --server=https://5.6.7.8 --insecure-skip-tls-verify\n",
    "    - result:\n",
    "        - we know cluster name and the endpoint to access cluster and how to authenticate with cluster endpoint\n",
    "- set credential or create user which is used to authenticate kubectl\n",
    "    - kubectl config --kubeconfig=config-demo set-credentials developer --client-certificate=fake-cert-file --client-key=fake-key-seefile\n",
    "    - kubectl config --kubeconfig=config-demo set-credentials experimenter --username=exp --password=some-password\n",
    "    - result:\n",
    "        - we have two user (developer, experimeter) which is used to authenticate this kubectl\n",
    "- create context\n",
    "    - kubectl config --kubeconfig=config-demo set-context dev-frontend --cluster=development --namespace=frontend --user=developer\n",
    "    - kubectl config --kubeconfig=config-demo set-context dev-storage --cluster=development --namespace=storage --user=developer\n",
    "    - kubectl config --kubeconfig=config-demo set-context exp-test --cluster=test --namespace=default --user=experimenter\n",
    "    - result:\n",
    "        - context is object which connect: user which is authenticate again given cluster and namespace\n",
    "- set default context of kubectl\n",
    "    - kubectl config --kubeconfig=config-demo use-context dev-frontend\n",
    "    - result: kubectl use this dev-frontend config\n",
    "        - using user developer\n",
    "        - to authenticate again cluster developer target namespace frontend\n",
    "- view specific kubectlconfig\n",
    "    - kubectl config --kubeconfig=config-demo view\n"
   ]
  },
  {
   "cell_type": "markdown",
   "metadata": {},
   "source": [
    "### kubectl config and context\n",
    "- config for kubectl is store at ~/.kube/config\n",
    "- context is a set config for kubectl to access cluster\n",
    "    - user: which user to authenticate kubectl command\n",
    "    - cluster and namespace: target cluster and namespace be affect by kubectl command"
   ]
  }
 ],
 "metadata": {
  "language_info": {
   "name": "python"
  },
  "orig_nbformat": 4
 },
 "nbformat": 4,
 "nbformat_minor": 2
}
