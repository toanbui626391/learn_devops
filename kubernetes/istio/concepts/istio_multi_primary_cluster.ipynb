{
 "cells": [
  {
   "cell_type": "markdown",
   "metadata": {},
   "source": [
    "# Install Multi-Primary\n",
    "-  reference link: https://istio.io/latest/docs/setup/install/multicluster/multi-primary/\n"
   ]
  },
  {
   "cell_type": "markdown",
   "metadata": {},
   "source": [
    "### Environment Variables\n",
    "- export CTX_CLUSTER1=<your cluster1 context>\n",
    "- export CTX_CLUSTER2=<your cluster2 context>\n",
    "- notes:\n",
    "    - concept of kubeconfig and context\n",
    "        - kubeconfig: config for kubectl to access k8s cluster\n",
    "        - context:\n",
    "            - context for authenticate k8s cluster like (user for authenticate and target cluster and namespace)\n",
    "    - above command we just assign context name for variable"
   ]
  },
  {
   "cell_type": "markdown",
   "metadata": {},
   "source": [
    "### Configure Trust \n",
    "- configure trust so that two cluster with primary istio control plan can talk to each other\n",
    "- the task to configure trust between two or multiple cluster is called certificate management\n",
    "- reference about certificate management: https://istio.io/latest/docs/tasks/security/cert-management/plugin-ca-cert/\n",
    "- for multiple cluster ca management, we will have a root ca and then each cluster will have a intermediate ca for manage each cluster ca\n"
   ]
  }
 ],
 "metadata": {
  "language_info": {
   "name": "python"
  },
  "orig_nbformat": 4
 },
 "nbformat": 4,
 "nbformat_minor": 2
}
