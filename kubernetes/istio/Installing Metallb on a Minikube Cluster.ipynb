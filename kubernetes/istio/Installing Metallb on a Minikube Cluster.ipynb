{
 "cells": [
  {
   "attachments": {},
   "cell_type": "markdown",
   "metadata": {},
   "source": [
    "# Installing Metallb on a Minikube Cluster\n",
    "- reference link: https://tonejito.github.io/kbe/topics/metallb/install/"
   ]
  },
  {
   "attachments": {},
   "cell_type": "markdown",
   "metadata": {},
   "source": [
    "### Topic cover\n",
    "- Create a minikube instance\n",
    "- Get the IP address range for the DHCP server\n",
    "- Enable the MetalLB minikube add-on\n",
    "- Deploy an example application\n",
    "- Access the example application"
   ]
  },
  {
   "attachments": {},
   "cell_type": "markdown",
   "metadata": {},
   "source": [
    "# Create a minikube cluster\n",
    "- we can have multiple minikube cluster by using profile flag\n",
    "- minikube manage multiple cluster by profiles concept\n",
    "- for this lecture we use virtualbox as driver so we need to install virtualbox\n",
    "    - reference link: https://linuxhint.com/install-virtualbox-linux/\n",
    "    - sudo apt update\n",
    "    - sudo apt install virtualbox\n",
    "    - sudo apt install virtualbox-ext-pack -y   \n",
    "- create one minikube cluster with profile flag and specific cpus and memory:\n",
    "    - minikube start --cpus=4 --memory=8g -p minikube2\n",
    "- check for all system pod is running\n",
    "    - kubectl get pods -n kube-system"
   ]
  },
  {
   "attachments": {},
   "cell_type": "markdown",
   "metadata": {},
   "source": [
    "### Get the IP address range for the DHCP server\n",
    "- DHCP server:\n",
    "    - DHCP (Dynamic Hosting Configuration Protocal), is used for automatically assigning IP addresses and other communication parameters to devices connected to the network using a client–server architecture\n",
    "    - with minikube on virtualbox we can find cluster DHCP server\n",
    "- find DHCP server config for your minikube cluster\n",
    "    - reference link at point two get ip address range for the DHCP server of the cluster\n",
    "    - find host-only adapter\n",
    "    - find DHCP server on that host-only adapter\n",
    "    - this range will be wider than the range we config for metallb loadbalancer"
   ]
  },
  {
   "attachments": {},
   "cell_type": "markdown",
   "metadata": {},
   "source": [
    "### Enable the MetalLB minikube add-on\n",
    "- list addons available\n",
    "    - minikube addons list -p $profile_name\n",
    "- enable metallb \n",
    "    - minikube addons enable $addone_name -p @profile_name\n",
    "- config metallb\n",
    "    - minikube addons configure metallb\n",
    "    - start and end ip range of metal load balancer need to be in range with DHCP server of the cluster\n",
    "- print metallb config with yaml format\n",
    "    - kubectl get configmap/config -n metallb-system -o yaml"
   ]
  },
  {
   "attachments": {},
   "cell_type": "markdown",
   "metadata": {},
   "source": [
    "### Deploy an example application.\n",
    "- create nginx deployment\n",
    "    - kubectl create deployment nginx \\\n",
    "        --image quay.io/redhattraining/nginx:1.21 --port 80\n",
    "- get all deployment and pods\n",
    "    - kubectl get deployments,pods -l app=nginx\n",
    "    - l flag mean label selector\n",
    "- get service\n",
    "    - kubectl get services -l app=nginx"
   ]
  },
  {
   "attachments": {},
   "cell_type": "markdown",
   "metadata": {},
   "source": [
    "### Access the example application.\n",
    "- list service which expose through loab balancer\n",
    "    - kubectl get services\n",
    "- using web-browser and access service through external ip"
   ]
  }
 ],
 "metadata": {
  "language_info": {
   "name": "python"
  },
  "orig_nbformat": 4
 },
 "nbformat": 4,
 "nbformat_minor": 2
}
