{
 "cells": [
  {
   "cell_type": "markdown",
   "metadata": {},
   "source": [
    "# Install Multi-Primary\n",
    "- reference link: https://istio.io/latest/docs/setup/install/multicluster/multi-primary/\n",
    "- before you begin reference link: https://istio.io/latest/docs/setup/install/multicluster/before-you-begin/"
   ]
  },
  {
   "cell_type": "markdown",
   "metadata": {},
   "source": [
    "### Before you begin\n",
    "- Configure Access to Multiple Clusters\n",
    "    - reference link: https://kubernetes.io/docs/tasks/access-application-cluster/configure-access-multiple-clusters/"
   ]
  },
  {
   "cell_type": "markdown",
   "metadata": {},
   "source": [
    "### Configure Access to Multiple Clusters\n",
    "- reference link: https://kubernetes.io/docs/tasks/access-application-cluster/configure-access-multiple-clusters/\n",
    "- "
   ]
  }
 ],
 "metadata": {
  "language_info": {
   "name": "python"
  },
  "orig_nbformat": 4
 },
 "nbformat": 4,
 "nbformat_minor": 2
}
