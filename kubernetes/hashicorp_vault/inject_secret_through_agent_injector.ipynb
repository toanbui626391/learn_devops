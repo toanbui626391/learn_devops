{
 "cells": [
  {
   "attachments": {},
   "cell_type": "markdown",
   "metadata": {},
   "source": [
    "# Injecting Secrets into Kubernetes Pods via Vault Agent Containers\n",
    "- reference link: https://developer.hashicorp.com/vault/tutorials/kubernetes/kubernetes-sidecar"
   ]
  },
  {
   "attachments": {},
   "cell_type": "markdown",
   "metadata": {},
   "source": [
    "### Set a secret in Vault\n",
    "- we using key value engine\n",
    "- execute command inside container with -it flag\n",
    "    - kubectl exec -it vault-0 -- /bin/sh\n",
    "- enable key value secret engine with specific path\n",
    "    - vault secrets enable -path=internal kv-v2\n",
    "- using vault kv put command to create secret\n",
    "    - vault kv put internal/database/config username=\"db-readonly-username\" password=\"db-secret-password\"\n",
    "- check secret have been created with command vault kv get\n",
    "    - vault kv get internal/database/config\n",
    "- exit interactive pod with command exit"
   ]
  },
  {
   "attachments": {},
   "cell_type": "markdown",
   "metadata": {},
   "source": [
    "### Configure Kubernetes authentication\n",
    "- config k8s authentication so that k8s pods can talk to vault pod\n",
    "- execute vault command with interactive mode with -it flag\n",
    "    - kubectl exec -it $pod_name -- /bin/sh\n",
    "- enalbe k8s authenticate in vault\n",
    "    - vault auth enable kubernetes\n",
    "- config k8s api service address\n",
    "    - vault write auth/kubernetes/config \\\n",
    "      kubernetes_host=\"https://$KUBERNETES_PORT_443_TCP_ADDR:443\"\n",
    "- config policy\n",
    "    - policy is object which define permission to secret\n",
    "    - vault policy write internal-app - <<EOF\n",
    "        path \"internal/data/database/config\" {\n",
    "        capabilities = [\"read\"]\n",
    "        }\n",
    "        EOF\n",
    "- config role\n",
    "    - role is an object which binding k8s service account with role\n",
    "        - a biding between who (service account) with role (permission on resource or secret)\n",
    "    - vault write auth/kubernetes/role/internal-app \\\n",
    "        bound_service_account_names=internal-app \\\n",
    "        bound_service_account_namespaces=default \\\n",
    "        policies=internal-app \\\n",
    "        ttl=24h\n",
    "- exit current interactive mode with command: exit"
   ]
  },
  {
   "attachments": {},
   "cell_type": "markdown",
   "metadata": {},
   "source": [
    "### Define a Kubernetes service account\n",
    "- list service account\n",
    "    - kubectl get sa\n",
    "- create service account\n",
    "    - kubectl create sa $sa_name\n",
    "    - example:\n",
    "        - kubectl create sa internal-app\n",
    "- check service account have been create with get\n",
    "    - kubectl get sa\n"
   ]
  },
  {
   "attachments": {},
   "cell_type": "markdown",
   "metadata": {},
   "source": [
    "### Launch an application\n",
    "- config deployment at ./config/deployment-orgchart.yaml\n",
    "- apply deployment with kubectl apply command:\n",
    "    - kubectl apply -f ./config/deployment-orgchart.yaml\n",
    "- check that secret have been inject to pod or not\n",
    "    - kubectl exec \\\n",
    "      $(kubectl get pod -l app=orgchart -o jsonpath=\"{.items[0].metadata.name}\") \\\n",
    "      --container orgchart -- ls /vault/secrets\n",
    "- execute command inside container\n",
    "    - kubectl exec $pod_name --contaiern $container_name -- $command_line\n",
    "- note for checking injected secret\n",
    "    - we have define deployment and would like vault agent inject to inject secret into that deployment pods\n",
    "    - we check by using kubectl exec command to go inside that pod's container and run command ls\n"
   ]
  },
  {
   "attachments": {},
   "cell_type": "markdown",
   "metadata": {},
   "source": [
    "### Inject secrets into the pod\n",
    "- define a patch (change) for orchart deployent\n",
    "    - ./config/patch-inject-secrets.yaml\n",
    "- apply patch\n",
    "    - kubectl patch deployment orgchart --patch \"$(cat ./config/patch-inject-secrets.yaml)\"\n",
    "- note after apply patch to deployment\n",
    "    - after apply patch to deployment, k8s will put additional vault-agent container into the pod\n",
    "    - so that vault-agent can write secrets into shared volume (/vault_secrets)\n",
    "    - now orgchart can access shared volume which stored secrets\n",
    "- check logs at vault-agent container inside orchart pods with kubectl logs command\n",
    "    - kubectl logs \\\n",
    "        $(kubectl get pod -l app=orgchart -o jsonpath=\"{.items[0].metadata.name}\") \\\n",
    "        --container vault-agent\n",
    "- check secret which orgchart container on orchart pod can have access\n",
    "    - kubectl exec \\\n",
    "        $(kubectl get pod -l app=orgchart -o jsonpath=\"{.items[0].metadata.name}\") \\\n",
    "        --container orgchart -- cat /vault/secrets/database-config.txt\n",
    "\n"
   ]
  },
  {
   "attachments": {},
   "cell_type": "markdown",
   "metadata": {},
   "source": [
    "### Apply a template to the injected secrets\n",
    "- config patch so that secrets will write with template\n",
    "- the path config is define at: ./config/patch-inject-secrets-as-template.yaml\n",
    "- apply template path\n",
    "    - kubectl patch deployment orgchart --patch \"$(cat ./config/patch-inject-secrets-as-template.yaml)\"\n",
    "- check pod with kubectl get pods\n",
    "    - kubectl get pods\n",
    "- check the secret have been inject with template or not\n",
    "    - kubectl exec \\\n",
    "      $(kubectl get pod -l app=orgchart -o jsonpath=\"{.items[0].metadata.name}\") \\\n",
    "      -c orgchart -- cat /vault/secrets/database-config.txt\n",
    "    - flag -c is for container\n"
   ]
  },
  {
   "attachments": {},
   "cell_type": "markdown",
   "metadata": {},
   "source": [
    "### Pod with annotations\n",
    "- we can inject secret to pod with Pod object just like development object through annotation\n",
    "- reference link about vault injection annotations: https://developer.hashicorp.com/vault/docs/platform/k8s/injector/annotations\n"
   ]
  },
  {
   "attachments": {},
   "cell_type": "markdown",
   "metadata": {},
   "source": [
    "### Secrets are bound to the service account and namespace\n",
    "- the service account which use by Deployment or Pod have to be the same with service account config in vault role\n",
    "- the namespace which specify in Deployment or Pod have to be the same with name space config in vault role\n",
    "- Service account in k8s\n",
    "    - service account is non-human account to indentify pods or group of pods\n",
    "    - serice account usually assign to deployment or statefulset to idenity pods belong to that Deployment or StatefulSet\n",
    "- namespace in k8s\n",
    "    - namespace is isolate other object into a workspace for easy management and isolation of resource\n"
   ]
  }
 ],
 "metadata": {
  "language_info": {
   "name": "python"
  },
  "orig_nbformat": 4
 },
 "nbformat": 4,
 "nbformat_minor": 2
}
