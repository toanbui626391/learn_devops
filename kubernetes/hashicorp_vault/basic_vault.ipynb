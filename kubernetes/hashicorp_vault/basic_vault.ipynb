{
 "cells": [
  {
   "attachments": {},
   "cell_type": "markdown",
   "metadata": {},
   "source": [
    "## Vault Installation to Minikube via Helm with Integrated Storage"
   ]
  },
  {
   "attachments": {},
   "cell_type": "markdown",
   "metadata": {},
   "source": [
    "### Start Minikube\n",
    "- we use minikube to create k8s cluster on your local machine\n",
    "- start k8s with minikube with command: minikube start\n",
    "- check cluster status with command: minikube status"
   ]
  },
  {
   "attachments": {},
   "cell_type": "markdown",
   "metadata": {},
   "source": [
    "### Install the Vault Helm chart\n",
    "- we use helm chart to install vault\n",
    "- with helm we have to understand the concept of chart and repo\n",
    "    - chart: is a collection of k8s manifest which we want to deploy together\n",
    "    - repo: is a collection of chart\n",
    "- add repo to helm: \n",
    "    - helm repo add $repo_name $repo_address\n",
    "- update all repo in local to synx with remote repo: \n",
    "    - helm repo update\n",
    "- check chart have been add with command: \n",
    "    - helm search repo $chart_name\n",
    "- write file content to a file using cat command:\n",
    "    - cat > $file_name << EOF file content ... EOF\n",
    "- install a chart with helm install command:\n",
    "    - helm install $release_name $chart_name --values $path_to_config_file.yaml\n",
    "- list pods in kubectl get command\n",
    "    - kubectl get pods\n",
    "- generate root key by using --vault command inside a container\n",
    "    - run command inside container kubectl exec\n",
    "        - kubectl exec $pod_name -- $command\n",
    "    - example:\n",
    "        - kubectl exec vault-0 -- vault operator init \\\n",
    "            -key-shares=1 \\\n",
    "            -key-threshold=1 \\\n",
    "            -format=json > cluster-keys.json\n",
    "        - command meaning: run vault operator init command to create root key inside the pod\n",
    "- read json file with jq cli:\n",
    "    - jq cli is command line tools which deal with json file\n",
    "    - jq -r \".unseal_keys_b64[]\" cluster-keys.json\n",
    "- create environment variable to store key\n",
    "    - VAULT_UNSEAL_KEY=$(jq -r \".unseal_keys_b64[]\" cluster-keys.json)\n",
    "    - to capture return value and then assign to variable\n",
    "        - variable_name=$(command)\n",
    "- unseal vault\n",
    "    - kubectl exec vault-0 -- vault operator unseal $VAULT_UNSEAL_KEY\n",
    "- add vault-1, vault-2 to raft cluster\n",
    "    - kubectl exec -ti vault-1 -- vault operator raft join http://vault-0.vault-internal:8200\n",
    "    - kubectl exec -ti vault-2 -- vault operator raft join http://vault-0.vault-internal:8200\n",
    "- unseal vault-1, vault-2\n",
    "    - kubectl exec -ti vault-1 -- vault operator unseal $VAULT_UNSEAL_KEY\n",
    "    - kubectl exec -ti vault-2 -- vault operator unseal $VAULT_UNSEAL_KEY"
   ]
  }
 ],
 "metadata": {
  "language_info": {
   "name": "python"
  },
  "orig_nbformat": 4
 },
 "nbformat": 4,
 "nbformat_minor": 2
}
