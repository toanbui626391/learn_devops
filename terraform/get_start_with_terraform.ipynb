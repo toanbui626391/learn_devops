{
 "cells": [
  {
   "cell_type": "markdown",
   "metadata": {},
   "source": [
    "**Get started with Terraform**\n",
    "- reference link: https://cloud.google.com/docs/terraform/get-started-with-terraform\n",
    "- reference for source code: https://github.com/terraform-google-modules/terraform-docs-samples/blob/main/flask_google_cloud_quickstart/main.tf\n",
    "- goal: \n",
    "    - Use Terraform to create a VM in Google Cloud\n",
    "    - Start a basic Python Flask server."
   ]
  },
  {
   "cell_type": "markdown",
   "metadata": {},
   "source": [
    "**Create the compute engine vm**\n",
    "- **create the directory**\n",
    "    - mkdir tf-tutorial && cd tf-tutorial\n",
    "    - nano main.tf\n",
    "- **create the virtual private cloud network (vpc) and subnet**\n",
    "- **create compute engine vm resource**\n",
    "- **initialize terraform**\n",
    "    - command: terraform init\n",
    "- **validate the terraform configuration**\n",
    "    - command: terraform fmt. To check format\n",
    "    - command: terraform validate. To valide the terraform configuration\n",
    "- **apply the configuration**\n",
    "    - terraform apply\n",
    "    "
   ]
  },
  {
   "cell_type": "markdown",
   "metadata": {},
   "source": [
    "**Deploy a web server on google cloud**\n",
    "- given we have resources like vpc network and subnet, compute engine vm. Now, we want to deploy a simple web application on gcp\n",
    "- **add a custom ssh firewall rule**\n",
    "    - create google_compute_firewall resource which allow tcp access on port 22\n",
    "    - with this resource we can access this vm machine with open ssh\n",
    "- **connect vm through ssh**\n",
    "    - connect with your vm with open ssh command line\n",
    "- **build the flask app**\n",
    "    - connect with vm\n",
    "    - write simple fask application\n",
    "    - run the app with command: python3 app.py\n",
    "    - check the apply is run on vm on the second console with command: curl http://0.0.0.0:5000\n",
    "- **open port 5000 on vm**\n",
    "    - create google_compute_firewall resouce which allow traffic type tcp and port 5000 (the port which application is run on)\n",
    "- **add output variable for the web server**\n",
    "    - reference link: https://developer.hashicorp.com/terraform/language/values/outputs\n",
    "    - Output values make information about your infrastructure available on the command line,\n",
    "    - Can expose information for other Terraform configurations to use\n",
    "    - Output values are similar to return values in programming languages.\n",
    "    - in the example we want to get external ip of the vm easily with command: terraform output"
   ]
  },
  {
   "cell_type": "markdown",
   "metadata": {},
   "source": [
    "**Note about resource we will deploy in this turotial**\n",
    "- virtual private cloud network with resource name google_compute_network\n",
    "- virtual private cloud subnetwork with resource name google_compute_subnetwork\n",
    "- compute engine vm with resource name google_compute_instance"
   ]
  },
  {
   "cell_type": "markdown",
   "metadata": {},
   "source": [
    "**Config information and reference:**\n",
    "- https://cloud.google.com/compute/docs/regions-zones. This is reference link to regions and zones of gcp\n",
    "- gcloud commpute regions list | grep asia-southeast. this command to list availabe regions of gcloud\n",
    "- gclod commpute zones list | grep asia-southeast. This command to list available zones\n",
    "- gcloud compute mamchine-types list --zones=\"asia-southeast1-a\". This command to list machine-types of a given zones\n",
    "- gcloud compute images list | grep [ubuntu/debian]. This command to list available images\n"
   ]
  },
  {
   "cell_type": "code",
   "execution_count": null,
   "metadata": {},
   "outputs": [],
   "source": [
    "#to have bucket permission we need roles/storage.admin\n",
    "#reference about role in cloud storage: https://cloud.google.com/storage/docs/access-control/iam-roles\n",
    "#using command: gcloud projects add-iam-policy-binding to binding \n",
    "gcloud projects add-iam-policy-binding $project_id --member=\"serviceAccount:$terraform_service_account\" --role=\"$role_three\""
   ]
  },
  {
   "cell_type": "code",
   "execution_count": null,
   "metadata": {},
   "outputs": [],
   "source": [
    "#to check the role of a service account\n",
    "gcloud projects get-iam-policy $project_id  \\\n",
    "--flatten=\"bindings[].members\" \\\n",
    "--format='table(bindings.role)' \\\n",
    "--filter=\"bindings.members:$terraform_service_account\""
   ]
  },
  {
   "cell_type": "code",
   "execution_count": null,
   "metadata": {},
   "outputs": [],
   "source": [
    "#using gcloud to ssh to vm machine\n",
    "gcloud compute ssh --project=$project_id --zone=$zone $vm_name"
   ]
  },
  {
   "cell_type": "code",
   "execution_count": null,
   "metadata": {},
   "outputs": [],
   "source": [
    "#to check we have a web server is running \n",
    "#one: one different termial ssh to the remote machine\n",
    "#run curl command:\n",
    "curl http://0.0.0.0:5000"
   ]
  },
  {
   "cell_type": "code",
   "execution_count": null,
   "metadata": {},
   "outputs": [],
   "source": [
    "#to check firewall work, that we can access vm from outsite of the network\n",
    "#one: define out variable in terraform with output\n",
    "#two: re-apply main.tf\n",
    "#three: run curl command with external ip"
   ]
  },
  {
   "cell_type": "code",
   "execution_count": null,
   "metadata": {},
   "outputs": [],
   "source": [
    "#to check that bucket have been create use gcloud storage ls command\n",
    "gcloud storage ls"
   ]
  },
  {
   "cell_type": "code",
   "execution_count": null,
   "metadata": {},
   "outputs": [],
   "source": [
    "#destroy all deployment to save money\n",
    "terraform destroy"
   ]
  }
 ],
 "metadata": {
  "kernelspec": {
   "display_name": "Python 3 (ipykernel)",
   "language": "python",
   "name": "python3"
  },
  "language_info": {
   "codemirror_mode": {
    "name": "ipython",
    "version": 3
   },
   "file_extension": ".py",
   "mimetype": "text/x-python",
   "name": "python",
   "nbconvert_exporter": "python",
   "pygments_lexer": "ipython3",
   "version": "3.10.6"
  },
  "vscode": {
   "interpreter": {
    "hash": "215640d84fea2d6a1578a868d021d57d26fe3fa314db54416f0ba6d81a3e2987"
   }
  }
 },
 "nbformat": 4,
 "nbformat_minor": 4
}
